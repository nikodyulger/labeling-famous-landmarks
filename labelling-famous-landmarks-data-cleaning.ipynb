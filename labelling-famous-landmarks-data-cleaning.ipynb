{
 "cells": [
  {
   "cell_type": "markdown",
   "metadata": {
    "papermill": {
     "duration": 0.026446,
     "end_time": "2021-03-14T15:53:41.721106",
     "exception": false,
     "start_time": "2021-03-14T15:53:41.694660",
     "status": "completed"
    },
    "tags": []
   },
   "source": [
    "# Data Cleaning\n",
    "\n",
    "This notebook is the continuation of my data science project after performing the [Exploratoty Analysis](http://www.kaggle.com/nikoladyulgerov/labelling-famous-landmarks-eda) (**EDA**) on **Google Landmark Recognition 2020** dataset. The aim of this step is to clean and prepare the image data with which I am going to feed later on the constructed models."
   ]
  },
  {
   "cell_type": "markdown",
   "metadata": {
    "papermill": {
     "duration": 0.024412,
     "end_time": "2021-03-14T15:53:41.771779",
     "exception": false,
     "start_time": "2021-03-14T15:53:41.747367",
     "status": "completed"
    },
    "tags": []
   },
   "source": [
    "# Index of Contents\n",
    "\n",
    "1. **Importing libraries**\n",
    "2. **Approach overview**\n",
    "3. **Data preparation**\n",
    "4. **Image sizes**"
   ]
  },
  {
   "cell_type": "markdown",
   "metadata": {
    "papermill": {
     "duration": 0.024397,
     "end_time": "2021-03-14T15:53:41.821212",
     "exception": false,
     "start_time": "2021-03-14T15:53:41.796815",
     "status": "completed"
    },
    "tags": []
   },
   "source": [
    "# Importing libraries\n",
    "\n",
    "The modules are the most basic and common one for this kind of work."
   ]
  },
  {
   "cell_type": "code",
   "execution_count": 1,
   "metadata": {
    "execution": {
     "iopub.execute_input": "2021-03-14T15:53:41.878353Z",
     "iopub.status.busy": "2021-03-14T15:53:41.877709Z",
     "iopub.status.idle": "2021-03-14T15:53:43.032681Z",
     "shell.execute_reply": "2021-03-14T15:53:43.031712Z"
    },
    "papermill": {
     "duration": 1.186741,
     "end_time": "2021-03-14T15:53:43.032936",
     "exception": false,
     "start_time": "2021-03-14T15:53:41.846195",
     "status": "completed"
    },
    "tags": []
   },
   "outputs": [],
   "source": [
    "import os\n",
    "import shutil\n",
    "import pandas as pd\n",
    "import numpy as np\n",
    "import seaborn as sns\n",
    "import matplotlib.pyplot as plt \n",
    "\n",
    "from PIL import Image\n",
    "from sklearn.model_selection import train_test_split\n",
    "from tqdm.auto import tqdm\n",
    "\n",
    "#Seed for making reproducible experiments\n",
    "seed = 612"
   ]
  },
  {
   "cell_type": "markdown",
   "metadata": {
    "papermill": {
     "duration": 0.027334,
     "end_time": "2021-03-14T15:53:43.087382",
     "exception": false,
     "start_time": "2021-03-14T15:53:43.060048",
     "status": "completed"
    },
    "tags": []
   },
   "source": [
    "The next step is loading the dataset."
   ]
  },
  {
   "cell_type": "code",
   "execution_count": 2,
   "metadata": {
    "execution": {
     "iopub.execute_input": "2021-03-14T15:53:43.142795Z",
     "iopub.status.busy": "2021-03-14T15:53:43.142175Z",
     "iopub.status.idle": "2021-03-14T15:53:45.283825Z",
     "shell.execute_reply": "2021-03-14T15:53:45.282722Z"
    },
    "papermill": {
     "duration": 2.171389,
     "end_time": "2021-03-14T15:53:45.284031",
     "exception": false,
     "start_time": "2021-03-14T15:53:43.112642",
     "status": "completed"
    },
    "tags": []
   },
   "outputs": [
    {
     "data": {
      "text/html": [
       "<div>\n",
       "<style scoped>\n",
       "    .dataframe tbody tr th:only-of-type {\n",
       "        vertical-align: middle;\n",
       "    }\n",
       "\n",
       "    .dataframe tbody tr th {\n",
       "        vertical-align: top;\n",
       "    }\n",
       "\n",
       "    .dataframe thead th {\n",
       "        text-align: right;\n",
       "    }\n",
       "</style>\n",
       "<table border=\"1\" class=\"dataframe\">\n",
       "  <thead>\n",
       "    <tr style=\"text-align: right;\">\n",
       "      <th></th>\n",
       "      <th>id</th>\n",
       "      <th>landmark_id</th>\n",
       "    </tr>\n",
       "  </thead>\n",
       "  <tbody>\n",
       "    <tr>\n",
       "      <th>1154552</th>\n",
       "      <td>ec9e3d6f8dce016c</td>\n",
       "      <td>148331</td>\n",
       "    </tr>\n",
       "    <tr>\n",
       "      <th>270076</th>\n",
       "      <td>95c98d3b545c7f45</td>\n",
       "      <td>34452</td>\n",
       "    </tr>\n",
       "    <tr>\n",
       "      <th>952431</th>\n",
       "      <td>d22f5207d7734c80</td>\n",
       "      <td>123131</td>\n",
       "    </tr>\n",
       "    <tr>\n",
       "      <th>1039368</th>\n",
       "      <td>fcebb77d5d8ab9c8</td>\n",
       "      <td>134125</td>\n",
       "    </tr>\n",
       "    <tr>\n",
       "      <th>1410921</th>\n",
       "      <td>33338b5ad14b5653</td>\n",
       "      <td>181281</td>\n",
       "    </tr>\n",
       "  </tbody>\n",
       "</table>\n",
       "</div>"
      ],
      "text/plain": [
       "                       id  landmark_id\n",
       "1154552  ec9e3d6f8dce016c       148331\n",
       "270076   95c98d3b545c7f45        34452\n",
       "952431   d22f5207d7734c80       123131\n",
       "1039368  fcebb77d5d8ab9c8       134125\n",
       "1410921  33338b5ad14b5653       181281"
      ]
     },
     "execution_count": 2,
     "metadata": {},
     "output_type": "execute_result"
    }
   ],
   "source": [
    "train_data = pd.read_csv(\"../input/landmark-recognition-2020/train.csv\")\n",
    "train_data.sample(5, random_state=seed)"
   ]
  },
  {
   "cell_type": "markdown",
   "metadata": {
    "papermill": {
     "duration": 0.025392,
     "end_time": "2021-03-14T15:53:45.335394",
     "exception": false,
     "start_time": "2021-03-14T15:53:45.310002",
     "status": "completed"
    },
    "tags": []
   },
   "source": [
    "Once we have checked that is correctly loaded, we are ready for work."
   ]
  },
  {
   "cell_type": "markdown",
   "metadata": {
    "papermill": {
     "duration": 0.02511,
     "end_time": "2021-03-14T15:53:45.386093",
     "exception": false,
     "start_time": "2021-03-14T15:53:45.360983",
     "status": "completed"
    },
    "tags": []
   },
   "source": [
    "# Approach Overview\n",
    "\n",
    "\n",
    "The [Exploratoty Analysis](http://www.kaggle.com/nikoladyulgerov/labelling-famous-landmarks-eda) gave us clues about the nature of this particular dataset. Let's review some of its characteristics, just to sum up what we should do now to deal with it.\n",
    "\n",
    "* Huge unbalanced distribution of classes\n",
    "* High variance inside classes\n",
    "* Different image sizes\n",
    "\n",
    "Due to the computational limits I am experimenting with this project I am not going to use the entire dataset, it is impossible for me to handle this amount of data. That is why I will divide the process into two parts:\n",
    "\n",
    "* First, set the model construction with the top `200` labels on Kaggle and Google Colab platform.\n",
    "* Secondly, scale up the models with the top `2000` labels on Google Cloud.\n",
    "\n",
    "Although these classes do not represent a high percent of the database, they have a great number of images what is the main reason why I have selected them. With that in mind, the balance of labels will be in some way guaranteed, although some variance stills remaining. However, it can be handle with simple techniques."
   ]
  },
  {
   "cell_type": "code",
   "execution_count": 3,
   "metadata": {
    "execution": {
     "iopub.execute_input": "2021-03-14T15:53:45.443600Z",
     "iopub.status.busy": "2021-03-14T15:53:45.442713Z",
     "iopub.status.idle": "2021-03-14T15:53:45.491740Z",
     "shell.execute_reply": "2021-03-14T15:53:45.490970Z"
    },
    "papermill": {
     "duration": 0.080316,
     "end_time": "2021-03-14T15:53:45.491961",
     "exception": false,
     "start_time": "2021-03-14T15:53:45.411645",
     "status": "completed"
    },
    "tags": []
   },
   "outputs": [
    {
     "name": "stdout",
     "output_type": "stream",
     "text": [
      "Number of total labels  81313\n",
      "Number of total images  1580470\n"
     ]
    }
   ],
   "source": [
    "print(\"Number of total labels \",  train_data[\"landmark_id\"].nunique())\n",
    "print(\"Number of total images \", train_data.shape[0])"
   ]
  },
  {
   "cell_type": "markdown",
   "metadata": {
    "papermill": {
     "duration": 0.025332,
     "end_time": "2021-03-14T15:53:45.543501",
     "exception": false,
     "start_time": "2021-03-14T15:53:45.518169",
     "status": "completed"
    },
    "tags": []
   },
   "source": [
    "I am getting rid of the most frequent landmark of the dataset because as it was seen in the exploratory analysis it has a huge difference of images against the rest. My intention with this is to minimize the unbalance on the sample data."
   ]
  },
  {
   "cell_type": "code",
   "execution_count": 4,
   "metadata": {
    "execution": {
     "iopub.execute_input": "2021-03-14T15:53:45.606030Z",
     "iopub.status.busy": "2021-03-14T15:53:45.604930Z",
     "iopub.status.idle": "2021-03-14T15:53:45.657467Z",
     "shell.execute_reply": "2021-03-14T15:53:45.656020Z"
    },
    "papermill": {
     "duration": 0.088499,
     "end_time": "2021-03-14T15:53:45.657841",
     "exception": false,
     "start_time": "2021-03-14T15:53:45.569342",
     "status": "completed"
    },
    "tags": []
   },
   "outputs": [
    {
     "name": "stdout",
     "output_type": "stream",
     "text": [
      "Number of images of the top  200  landmarks:  92465\n"
     ]
    }
   ],
   "source": [
    "n = 201\n",
    "top_200 = train_data['landmark_id'].value_counts()[1:n].index.tolist()\n",
    "images_200 = train_data.loc[train_data[\"landmark_id\"].isin(top_200)]\n",
    "print(\"Number of images of the top \",images_200[\"landmark_id\"].nunique(), \" landmarks: \", images_200.shape[0])"
   ]
  },
  {
   "cell_type": "code",
   "execution_count": 5,
   "metadata": {
    "execution": {
     "iopub.execute_input": "2021-03-14T15:53:45.735951Z",
     "iopub.status.busy": "2021-03-14T15:53:45.734769Z",
     "iopub.status.idle": "2021-03-14T15:53:45.835952Z",
     "shell.execute_reply": "2021-03-14T15:53:45.835334Z"
    },
    "papermill": {
     "duration": 0.139786,
     "end_time": "2021-03-14T15:53:45.836114",
     "exception": false,
     "start_time": "2021-03-14T15:53:45.696328",
     "status": "completed"
    },
    "tags": []
   },
   "outputs": [
    {
     "name": "stdout",
     "output_type": "stream",
     "text": [
      "Number of images of the top  2000  landmarks:  362788\n"
     ]
    }
   ],
   "source": [
    "n = 2001\n",
    "top_2000 = train_data['landmark_id'].value_counts()[1:n].index.tolist()\n",
    "images_2000 = train_data.loc[train_data[\"landmark_id\"].isin(top_2000)]\n",
    "print(\"Number of images of the top \",images_2000[\"landmark_id\"].nunique(), \" landmarks: \", images_2000.shape[0])"
   ]
  },
  {
   "cell_type": "markdown",
   "metadata": {
    "papermill": {
     "duration": 0.027906,
     "end_time": "2021-03-14T15:53:45.891544",
     "exception": false,
     "start_time": "2021-03-14T15:53:45.863638",
     "status": "completed"
    },
    "tags": []
   },
   "source": [
    "Before carrying on the data cleaning and preparation procees, let's take a look of the already sampled data."
   ]
  },
  {
   "cell_type": "code",
   "execution_count": 6,
   "metadata": {
    "execution": {
     "iopub.execute_input": "2021-03-14T15:53:45.953473Z",
     "iopub.status.busy": "2021-03-14T15:53:45.952402Z",
     "iopub.status.idle": "2021-03-14T15:53:46.416143Z",
     "shell.execute_reply": "2021-03-14T15:53:46.415619Z"
    },
    "papermill": {
     "duration": 0.498133,
     "end_time": "2021-03-14T15:53:46.416301",
     "exception": false,
     "start_time": "2021-03-14T15:53:45.918168",
     "status": "completed"
    },
    "tags": []
   },
   "outputs": [
    {
     "data": {
      "text/plain": [
       "Text(0.5, 1.0, 'Top 2000 most frequent landmarks')"
      ]
     },
     "execution_count": 6,
     "metadata": {},
     "output_type": "execute_result"
    },
    {
     "data": {
      "image/png": "[encoded data removed]",
      "text/plain": [
       "<Figure size 1440x360 with 2 Axes>"
      ]
     },
     "metadata": {
      "needs_background": "light"
     },
     "output_type": "display_data"
    }
   ],
   "source": [
    "# Calculating the n_images per landmark\n",
    "db1 = images_200.groupby([\"landmark_id\"]).size().reset_index(name='n_images')\n",
    "db2 = images_2000.groupby([\"landmark_id\"]).size().reset_index(name='n_images')\n",
    "#Plotting a scatterplot of the distribution\n",
    "fig, axes = plt.subplots(1, 2,sharey = True, figsize = (20,5))\n",
    "\n",
    "sns.scatterplot(ax=axes[0], x='landmark_id', y='n_images', data=db1, palette=\"mako\")\n",
    "axes[0].set_title(\"Top 200 most frequent landmarks\")\n",
    "sns.scatterplot(ax=axes[1], x='landmark_id', y='n_images', data=db2, palette=\"mako\")\n",
    "axes[1].set_title(\"Top 2000 most frequent landmarks\")"
   ]
  },
  {
   "cell_type": "markdown",
   "metadata": {
    "papermill": {
     "duration": 0.029582,
     "end_time": "2021-03-14T15:53:46.474848",
     "exception": false,
     "start_time": "2021-03-14T15:53:46.445266",
     "status": "completed"
    },
    "tags": []
   },
   "source": [
    "As it was mentioned, the images per labels are in some way more balanced than before. However, there are some outstanding classes with a huge difference of images against the others. Also, looking to the right graph it is very clear that as the range of classes increases, the images per class decreases because the points are highly concentrated on the bottom of the scatter plot."
   ]
  },
  {
   "cell_type": "markdown",
   "metadata": {
    "papermill": {
     "duration": 0.028273,
     "end_time": "2021-03-14T15:53:46.532792",
     "exception": false,
     "start_time": "2021-03-14T15:53:46.504519",
     "status": "completed"
    },
    "tags": []
   },
   "source": [
    "To reduce even more the imbalance among classes, I am going to perform a downsample of the outstanding classes. My aim with that is stablishing a uniform distribution among classes so that the performance of the models will not to be affected by this aspect."
   ]
  },
  {
   "cell_type": "code",
   "execution_count": 7,
   "metadata": {
    "execution": {
     "iopub.execute_input": "2021-03-14T15:53:46.597452Z",
     "iopub.status.busy": "2021-03-14T15:53:46.596621Z",
     "iopub.status.idle": "2021-03-14T15:53:46.600489Z",
     "shell.execute_reply": "2021-03-14T15:53:46.599986Z"
    },
    "papermill": {
     "duration": 0.038804,
     "end_time": "2021-03-14T15:53:46.600622",
     "exception": false,
     "start_time": "2021-03-14T15:53:46.561818",
     "status": "completed"
    },
    "tags": []
   },
   "outputs": [],
   "source": [
    "def downsampling(data_df, counts_df, max_samples):\n",
    "    # Get the oustanding classes to downsample\n",
    "    outstand = counts_df[counts_df[\"n_images\"]>=max_samples]\n",
    "    rest = data_df[data_df[\"landmark_id\"].isin(outstand[\"landmark_id\"]) == False]\n",
    "    # Random downsample of these classes to max_samples\n",
    "    for row in outstand.itertuples():\n",
    "        # Get max_samples for specific landmark_id\n",
    "        temp_df = data_df[data_df[\"landmark_id\"] == row.landmark_id].sample(max_samples, random_state = seed)\n",
    "        \n",
    "        rest = pd.concat([rest, temp_df], axis = 0)\n",
    "        \n",
    "    return rest"
   ]
  },
  {
   "cell_type": "code",
   "execution_count": 8,
   "metadata": {
    "execution": {
     "iopub.execute_input": "2021-03-14T15:53:46.667927Z",
     "iopub.status.busy": "2021-03-14T15:53:46.667193Z",
     "iopub.status.idle": "2021-03-14T15:53:49.736459Z",
     "shell.execute_reply": "2021-03-14T15:53:49.736929Z"
    },
    "papermill": {
     "duration": 3.107376,
     "end_time": "2021-03-14T15:53:49.737108",
     "exception": false,
     "start_time": "2021-03-14T15:53:46.629732",
     "status": "completed"
    },
    "tags": []
   },
   "outputs": [
    {
     "data": {
      "text/plain": [
       "Text(0.5, 1.0, 'Top 2000 most frequent landmarks')"
      ]
     },
     "execution_count": 8,
     "metadata": {},
     "output_type": "execute_result"
    },
    {
     "data": {
      "image/png": "[encoded data removed]",
      "text/plain": [
       "<Figure size 1440x360 with 2 Axes>"
      ]
     },
     "metadata": {
      "needs_background": "light"
     },
     "output_type": "display_data"
    }
   ],
   "source": [
    "images_200 = downsampling(images_200, db1, db1['n_images'].min()+200) #Get the minimum samples per class and add some more\n",
    "images_2000 = downsampling(images_2000, db2, db2['n_images'].min()+200)\n",
    "\n",
    "\n",
    "# Calculating the n_images per landmark\n",
    "db1 = images_200.groupby([\"landmark_id\"]).size().reset_index(name='n_images')\n",
    "db2 = images_2000.groupby([\"landmark_id\"]).size().reset_index(name='n_images')\n",
    "#Plotting a barplot of the distributions\n",
    "fig, axes = plt.subplots(1, 2,sharey = True, figsize = (20,5))\n",
    "\n",
    "sns.scatterplot(ax=axes[0], x='landmark_id', y='n_images', data=db1, palette=\"mako\")\n",
    "axes[0].set_title(\"Top 200 most frequent landmarks\")\n",
    "\n",
    "sns.scatterplot(ax=axes[1], x='landmark_id', y='n_images', data=db2, palette=\"flare\")\n",
    "axes[1].set_title(\"Top 2000 most frequent landmarks\")"
   ]
  },
  {
   "cell_type": "markdown",
   "metadata": {
    "papermill": {
     "duration": 0.031569,
     "end_time": "2021-03-14T15:53:49.800283",
     "exception": false,
     "start_time": "2021-03-14T15:53:49.768714",
     "status": "completed"
    },
    "tags": []
   },
   "source": [
    "With the downsampling function the graphs have changed their shapes. Now all the classes have very similar number of images due to the reduction of the oustanding ones. Moreover, it is more noticeable that as the number of classes increase the number of images per class decrease. The maximum samples per class are setted according to the minimum number of images plus a certain \"variation\" (`200`), just to avoid losing too many images. "
   ]
  },
  {
   "cell_type": "markdown",
   "metadata": {
    "papermill": {
     "duration": 0.031252,
     "end_time": "2021-03-14T15:53:49.862965",
     "exception": false,
     "start_time": "2021-03-14T15:53:49.831713",
     "status": "completed"
    },
    "tags": []
   },
   "source": [
    "Making some calculus we can stablish the proportion of the original dataset that will be used in further project steps."
   ]
  },
  {
   "cell_type": "code",
   "execution_count": 9,
   "metadata": {
    "execution": {
     "iopub.execute_input": "2021-03-14T15:53:49.932226Z",
     "iopub.status.busy": "2021-03-14T15:53:49.931589Z",
     "iopub.status.idle": "2021-03-14T15:53:49.936064Z",
     "shell.execute_reply": "2021-03-14T15:53:49.935449Z"
    },
    "papermill": {
     "duration": 0.041637,
     "end_time": "2021-03-14T15:53:49.936215",
     "exception": false,
     "start_time": "2021-03-14T15:53:49.894578",
     "status": "completed"
    },
    "tags": []
   },
   "outputs": [
    {
     "name": "stdout",
     "output_type": "stream",
     "text": [
      "Top 200 landmarks represent 4.94 % of the entire dataset\n",
      "Top 2000 landmarks represent 20.90 % of the entire dataset\n"
     ]
    }
   ],
   "source": [
    "print(\"Top 200 landmarks represent {:.2f} % of the entire dataset\".format(images_200.shape[0]/train_data.shape[0] * 100))\n",
    "print(\"Top 2000 landmarks represent {:.2f} % of the entire dataset\".format(images_2000.shape[0]/train_data.shape[0] * 100))"
   ]
  },
  {
   "cell_type": "markdown",
   "metadata": {
    "papermill": {
     "duration": 0.032069,
     "end_time": "2021-03-14T15:53:50.000158",
     "exception": false,
     "start_time": "2021-03-14T15:53:49.968089",
     "status": "completed"
    },
    "tags": []
   },
   "source": [
    "Although I am not going to make use of a huge part of the dataset, these percentages represent a big number of images as we have seen previously. The problem is simplified due to time and cost constraints of the development of the project."
   ]
  },
  {
   "cell_type": "markdown",
   "metadata": {
    "papermill": {
     "duration": 0.031258,
     "end_time": "2021-03-14T15:53:50.063481",
     "exception": false,
     "start_time": "2021-03-14T15:53:50.032223",
     "status": "completed"
    },
    "tags": []
   },
   "source": [
    "# Data Preparation\n",
    "\n",
    "This stage consist on the preparation of the directory structure to be downloaded from the Kaggle platform. I will divide each of the two sample datasets obtained before in three main folders: **train**, **validation** and finally **test**. Here comes the other part of simplifying the problem. The test sets with which I am going to work are entirely composed by landmark images which is not the case for the given test folder by the Google competition.\n",
    "\n",
    "Following the standard norms and knowing that the sample datasets are big enough, the holdout of images that corresponds to each partition are going to be: `70%` train, `20%` validation and `10%` test."
   ]
  },
  {
   "cell_type": "markdown",
   "metadata": {
    "papermill": {
     "duration": 0.031685,
     "end_time": "2021-03-14T15:53:50.128487",
     "exception": false,
     "start_time": "2021-03-14T15:53:50.096802",
     "status": "completed"
    },
    "tags": []
   },
   "source": [
    "The way of making the directory structure comes from how **Keras** works. The idea is to construct the optimal way to feed the models and do not waste time making unnecesary searches while training and evaluating them. It will look something like the following composition:\n",
    "\n",
    "`--data\n",
    "    |--train\n",
    "        |--landmark_1\n",
    "            |--image_1_landmark_1\n",
    "            |--image_2_landmark_1\n",
    "            ...\n",
    "        |--landmark_2\n",
    "        ...\n",
    "    |--validation\n",
    "    |--test\n",
    "  `"
   ]
  },
  {
   "cell_type": "markdown",
   "metadata": {
    "papermill": {
     "duration": 0.031248,
     "end_time": "2021-03-14T15:53:50.192041",
     "exception": false,
     "start_time": "2021-03-14T15:53:50.160793",
     "status": "completed"
    },
    "tags": []
   },
   "source": [
    "Before starting, there is something important to consider, the classes are not perfeclty balanced, so it is a good practice to make a stratified splits. For this task, I am going to use the well known module `sklearn` that has some built-in functions that make it easy."
   ]
  },
  {
   "cell_type": "code",
   "execution_count": 10,
   "metadata": {
    "execution": {
     "iopub.execute_input": "2021-03-14T15:53:50.272716Z",
     "iopub.status.busy": "2021-03-14T15:53:50.271959Z",
     "iopub.status.idle": "2021-03-14T15:53:50.367578Z",
     "shell.execute_reply": "2021-03-14T15:53:50.366928Z"
    },
    "papermill": {
     "duration": 0.144012,
     "end_time": "2021-03-14T15:53:50.367806",
     "exception": false,
     "start_time": "2021-03-14T15:53:50.223794",
     "status": "completed"
    },
    "tags": []
   },
   "outputs": [],
   "source": [
    "X, y = images_200[\"id\"].to_list(), images_200[\"landmark_id\"].to_list()\n",
    "X_train, X_test_200, y_train, y_test_200 = train_test_split(X, y, test_size = 0.1, random_state = seed, stratify = y)"
   ]
  },
  {
   "cell_type": "markdown",
   "metadata": {
    "papermill": {
     "duration": 0.031413,
     "end_time": "2021-03-14T15:53:50.431287",
     "exception": false,
     "start_time": "2021-03-14T15:53:50.399874",
     "status": "completed"
    },
    "tags": []
   },
   "source": [
    "Now, the same process must be applied again in order to get the validation split. For that, the split is applied on the remaining train set."
   ]
  },
  {
   "cell_type": "code",
   "execution_count": 11,
   "metadata": {
    "execution": {
     "iopub.execute_input": "2021-03-14T15:53:50.512774Z",
     "iopub.status.busy": "2021-03-14T15:53:50.512113Z",
     "iopub.status.idle": "2021-03-14T15:53:50.605799Z",
     "shell.execute_reply": "2021-03-14T15:53:50.605153Z"
    },
    "papermill": {
     "duration": 0.142773,
     "end_time": "2021-03-14T15:53:50.605971",
     "exception": false,
     "start_time": "2021-03-14T15:53:50.463198",
     "status": "completed"
    },
    "tags": []
   },
   "outputs": [],
   "source": [
    "X_train_200, X_val_200, y_train_200, y_val_200 = train_test_split(X_train, y_train, test_size = 0.22, random_state = seed, stratify = y_train) # 0.22 x 0.9 = 0.2"
   ]
  },
  {
   "cell_type": "markdown",
   "metadata": {
    "papermill": {
     "duration": 0.031577,
     "end_time": "2021-03-14T15:53:50.669659",
     "exception": false,
     "start_time": "2021-03-14T15:53:50.638082",
     "status": "completed"
    },
    "tags": []
   },
   "source": [
    "For an ease of operations later, let's build the data frames for each set."
   ]
  },
  {
   "cell_type": "code",
   "execution_count": 12,
   "metadata": {
    "execution": {
     "iopub.execute_input": "2021-03-14T15:53:50.754567Z",
     "iopub.status.busy": "2021-03-14T15:53:50.749024Z",
     "iopub.status.idle": "2021-03-14T15:53:50.805668Z",
     "shell.execute_reply": "2021-03-14T15:53:50.804637Z"
    },
    "papermill": {
     "duration": 0.104129,
     "end_time": "2021-03-14T15:53:50.805820",
     "exception": false,
     "start_time": "2021-03-14T15:53:50.701691",
     "status": "completed"
    },
    "tags": []
   },
   "outputs": [],
   "source": [
    "train = { 'id': X_train_200, 'landmark_id': y_train_200 }  \n",
    "val = { 'id': X_val_200, 'landmark_id': y_val_200 }  \n",
    "test = { 'id': X_test_200, 'landmark_id': y_test_200 }  \n",
    "\n",
    "train_200 = pd.DataFrame(train)\n",
    "val_200 = pd.DataFrame(val)\n",
    "test_200 = pd.DataFrame(test)"
   ]
  },
  {
   "cell_type": "markdown",
   "metadata": {
    "papermill": {
     "duration": 0.032487,
     "end_time": "2021-03-14T15:53:50.871287",
     "exception": false,
     "start_time": "2021-03-14T15:53:50.838800",
     "status": "completed"
    },
    "tags": []
   },
   "source": [
    "Making sure, the process is completed correctly"
   ]
  },
  {
   "cell_type": "code",
   "execution_count": 13,
   "metadata": {
    "execution": {
     "iopub.execute_input": "2021-03-14T15:53:50.941196Z",
     "iopub.status.busy": "2021-03-14T15:53:50.940222Z",
     "iopub.status.idle": "2021-03-14T15:53:50.951856Z",
     "shell.execute_reply": "2021-03-14T15:53:50.951253Z"
    },
    "papermill": {
     "duration": 0.048291,
     "end_time": "2021-03-14T15:53:50.952037",
     "exception": false,
     "start_time": "2021-03-14T15:53:50.903746",
     "status": "completed"
    },
    "tags": []
   },
   "outputs": [
    {
     "data": {
      "text/html": [
       "<div>\n",
       "<style scoped>\n",
       "    .dataframe tbody tr th:only-of-type {\n",
       "        vertical-align: middle;\n",
       "    }\n",
       "\n",
       "    .dataframe tbody tr th {\n",
       "        vertical-align: top;\n",
       "    }\n",
       "\n",
       "    .dataframe thead th {\n",
       "        text-align: right;\n",
       "    }\n",
       "</style>\n",
       "<table border=\"1\" class=\"dataframe\">\n",
       "  <thead>\n",
       "    <tr style=\"text-align: right;\">\n",
       "      <th></th>\n",
       "      <th>id</th>\n",
       "      <th>landmark_id</th>\n",
       "    </tr>\n",
       "  </thead>\n",
       "  <tbody>\n",
       "    <tr>\n",
       "      <th>27431</th>\n",
       "      <td>c6e5cd77e07d790e</td>\n",
       "      <td>96663</td>\n",
       "    </tr>\n",
       "    <tr>\n",
       "      <th>4984</th>\n",
       "      <td>4f0b67a9e9d787a5</td>\n",
       "      <td>193550</td>\n",
       "    </tr>\n",
       "    <tr>\n",
       "      <th>47418</th>\n",
       "      <td>8778766758dad55b</td>\n",
       "      <td>174181</td>\n",
       "    </tr>\n",
       "    <tr>\n",
       "      <th>23008</th>\n",
       "      <td>f93c4d1a4522e549</td>\n",
       "      <td>158818</td>\n",
       "    </tr>\n",
       "    <tr>\n",
       "      <th>47407</th>\n",
       "      <td>0317b74af8867bef</td>\n",
       "      <td>33992</td>\n",
       "    </tr>\n",
       "  </tbody>\n",
       "</table>\n",
       "</div>"
      ],
      "text/plain": [
       "                     id  landmark_id\n",
       "27431  c6e5cd77e07d790e        96663\n",
       "4984   4f0b67a9e9d787a5       193550\n",
       "47418  8778766758dad55b       174181\n",
       "23008  f93c4d1a4522e549       158818\n",
       "47407  0317b74af8867bef        33992"
      ]
     },
     "execution_count": 13,
     "metadata": {},
     "output_type": "execute_result"
    }
   ],
   "source": [
    "train_200.sample(5, random_state=seed)"
   ]
  },
  {
   "cell_type": "code",
   "execution_count": 14,
   "metadata": {
    "execution": {
     "iopub.execute_input": "2021-03-14T15:53:51.028611Z",
     "iopub.status.busy": "2021-03-14T15:53:51.027764Z",
     "iopub.status.idle": "2021-03-14T15:53:51.031867Z",
     "shell.execute_reply": "2021-03-14T15:53:51.032329Z"
    },
    "papermill": {
     "duration": 0.04749,
     "end_time": "2021-03-14T15:53:51.032505",
     "exception": false,
     "start_time": "2021-03-14T15:53:50.985015",
     "status": "completed"
    },
    "tags": []
   },
   "outputs": [
    {
     "data": {
      "text/html": [
       "<div>\n",
       "<style scoped>\n",
       "    .dataframe tbody tr th:only-of-type {\n",
       "        vertical-align: middle;\n",
       "    }\n",
       "\n",
       "    .dataframe tbody tr th {\n",
       "        vertical-align: top;\n",
       "    }\n",
       "\n",
       "    .dataframe thead th {\n",
       "        text-align: right;\n",
       "    }\n",
       "</style>\n",
       "<table border=\"1\" class=\"dataframe\">\n",
       "  <thead>\n",
       "    <tr style=\"text-align: right;\">\n",
       "      <th></th>\n",
       "      <th>id</th>\n",
       "      <th>landmark_id</th>\n",
       "    </tr>\n",
       "  </thead>\n",
       "  <tbody>\n",
       "    <tr>\n",
       "      <th>1783</th>\n",
       "      <td>98cb2f29a86f54ba</td>\n",
       "      <td>73300</td>\n",
       "    </tr>\n",
       "    <tr>\n",
       "      <th>14941</th>\n",
       "      <td>b85390b455e1cc74</td>\n",
       "      <td>194914</td>\n",
       "    </tr>\n",
       "    <tr>\n",
       "      <th>13852</th>\n",
       "      <td>3df95bf5f7faf7c1</td>\n",
       "      <td>168106</td>\n",
       "    </tr>\n",
       "    <tr>\n",
       "      <th>7918</th>\n",
       "      <td>d5a83a10a452150c</td>\n",
       "      <td>125425</td>\n",
       "    </tr>\n",
       "    <tr>\n",
       "      <th>10040</th>\n",
       "      <td>01835434e0b5865d</td>\n",
       "      <td>139894</td>\n",
       "    </tr>\n",
       "  </tbody>\n",
       "</table>\n",
       "</div>"
      ],
      "text/plain": [
       "                     id  landmark_id\n",
       "1783   98cb2f29a86f54ba        73300\n",
       "14941  b85390b455e1cc74       194914\n",
       "13852  3df95bf5f7faf7c1       168106\n",
       "7918   d5a83a10a452150c       125425\n",
       "10040  01835434e0b5865d       139894"
      ]
     },
     "execution_count": 14,
     "metadata": {},
     "output_type": "execute_result"
    }
   ],
   "source": [
    "val_200.sample(5, random_state=seed)"
   ]
  },
  {
   "cell_type": "code",
   "execution_count": 15,
   "metadata": {
    "execution": {
     "iopub.execute_input": "2021-03-14T15:53:51.109832Z",
     "iopub.status.busy": "2021-03-14T15:53:51.109144Z",
     "iopub.status.idle": "2021-03-14T15:53:51.115711Z",
     "shell.execute_reply": "2021-03-14T15:53:51.115175Z"
    },
    "papermill": {
     "duration": 0.050482,
     "end_time": "2021-03-14T15:53:51.115851",
     "exception": false,
     "start_time": "2021-03-14T15:53:51.065369",
     "status": "completed"
    },
    "tags": []
   },
   "outputs": [
    {
     "data": {
      "text/html": [
       "<div>\n",
       "<style scoped>\n",
       "    .dataframe tbody tr th:only-of-type {\n",
       "        vertical-align: middle;\n",
       "    }\n",
       "\n",
       "    .dataframe tbody tr th {\n",
       "        vertical-align: top;\n",
       "    }\n",
       "\n",
       "    .dataframe thead th {\n",
       "        text-align: right;\n",
       "    }\n",
       "</style>\n",
       "<table border=\"1\" class=\"dataframe\">\n",
       "  <thead>\n",
       "    <tr style=\"text-align: right;\">\n",
       "      <th></th>\n",
       "      <th>id</th>\n",
       "      <th>landmark_id</th>\n",
       "    </tr>\n",
       "  </thead>\n",
       "  <tbody>\n",
       "    <tr>\n",
       "      <th>6648</th>\n",
       "      <td>ffb1c6a8f40e5d58</td>\n",
       "      <td>70644</td>\n",
       "    </tr>\n",
       "    <tr>\n",
       "      <th>7552</th>\n",
       "      <td>ad80447db3ca58e2</td>\n",
       "      <td>21703</td>\n",
       "    </tr>\n",
       "    <tr>\n",
       "      <th>290</th>\n",
       "      <td>6ed5037a206525ba</td>\n",
       "      <td>80147</td>\n",
       "    </tr>\n",
       "    <tr>\n",
       "      <th>256</th>\n",
       "      <td>a42afeab0a7c608f</td>\n",
       "      <td>113209</td>\n",
       "    </tr>\n",
       "    <tr>\n",
       "      <th>1252</th>\n",
       "      <td>d42b8d0986fcb2ee</td>\n",
       "      <td>146497</td>\n",
       "    </tr>\n",
       "  </tbody>\n",
       "</table>\n",
       "</div>"
      ],
      "text/plain": [
       "                    id  landmark_id\n",
       "6648  ffb1c6a8f40e5d58        70644\n",
       "7552  ad80447db3ca58e2        21703\n",
       "290   6ed5037a206525ba        80147\n",
       "256   a42afeab0a7c608f       113209\n",
       "1252  d42b8d0986fcb2ee       146497"
      ]
     },
     "execution_count": 15,
     "metadata": {},
     "output_type": "execute_result"
    }
   ],
   "source": [
    "test_200.sample(5, random_state=seed)"
   ]
  },
  {
   "cell_type": "markdown",
   "metadata": {
    "papermill": {
     "duration": 0.033339,
     "end_time": "2021-03-14T15:53:51.184449",
     "exception": false,
     "start_time": "2021-03-14T15:53:51.151110",
     "status": "completed"
    },
    "tags": []
   },
   "source": [
    "Repeat the same with the sample of 2000 labels."
   ]
  },
  {
   "cell_type": "code",
   "execution_count": 16,
   "metadata": {
    "execution": {
     "iopub.execute_input": "2021-03-14T15:53:51.276086Z",
     "iopub.status.busy": "2021-03-14T15:53:51.263046Z",
     "iopub.status.idle": "2021-03-14T15:53:51.765416Z",
     "shell.execute_reply": "2021-03-14T15:53:51.764908Z"
    },
    "papermill": {
     "duration": 0.547363,
     "end_time": "2021-03-14T15:53:51.765578",
     "exception": false,
     "start_time": "2021-03-14T15:53:51.218215",
     "status": "completed"
    },
    "tags": []
   },
   "outputs": [],
   "source": [
    "X, y = images_2000[\"id\"].to_list(), images_2000[\"landmark_id\"].to_list()\n",
    "X_train, X_test_2000, y_train, y_test_2000 = train_test_split(X, y, test_size = 0.1, random_state = seed, stratify = y)"
   ]
  },
  {
   "cell_type": "code",
   "execution_count": 17,
   "metadata": {
    "execution": {
     "iopub.execute_input": "2021-03-14T15:53:51.953739Z",
     "iopub.status.busy": "2021-03-14T15:53:51.953084Z",
     "iopub.status.idle": "2021-03-14T15:53:52.428206Z",
     "shell.execute_reply": "2021-03-14T15:53:52.428683Z"
    },
    "papermill": {
     "duration": 0.629226,
     "end_time": "2021-03-14T15:53:52.428863",
     "exception": false,
     "start_time": "2021-03-14T15:53:51.799637",
     "status": "completed"
    },
    "tags": []
   },
   "outputs": [],
   "source": [
    "X_train_2000, X_val_2000, y_train_2000, y_val_2000 = train_test_split(X_train, y_train, test_size = 0.22, random_state = seed, stratify = y_train) # 0.22 x 0.9 = 0.2"
   ]
  },
  {
   "cell_type": "code",
   "execution_count": 18,
   "metadata": {
    "execution": {
     "iopub.execute_input": "2021-03-14T15:53:52.512788Z",
     "iopub.status.busy": "2021-03-14T15:53:52.511843Z",
     "iopub.status.idle": "2021-03-14T15:53:52.949238Z",
     "shell.execute_reply": "2021-03-14T15:53:52.948461Z"
    },
    "papermill": {
     "duration": 0.486879,
     "end_time": "2021-03-14T15:53:52.949451",
     "exception": false,
     "start_time": "2021-03-14T15:53:52.462572",
     "status": "completed"
    },
    "tags": []
   },
   "outputs": [],
   "source": [
    "train = { 'id': X_train_2000, 'landmark_id': y_train_2000 }  \n",
    "val = { 'id': X_val_2000, 'landmark_id': y_val_2000 }  \n",
    "test = { 'id': X_test_2000, 'landmark_id': y_test_2000 }  \n",
    "\n",
    "train_2000 = pd.DataFrame(train)\n",
    "val_2000 = pd.DataFrame(val)\n",
    "test_2000 = pd.DataFrame(test)"
   ]
  },
  {
   "cell_type": "code",
   "execution_count": 19,
   "metadata": {
    "execution": {
     "iopub.execute_input": "2021-03-14T15:53:53.047628Z",
     "iopub.status.busy": "2021-03-14T15:53:53.046676Z",
     "iopub.status.idle": "2021-03-14T15:53:53.055635Z",
     "shell.execute_reply": "2021-03-14T15:53:53.056172Z"
    },
    "papermill": {
     "duration": 0.062027,
     "end_time": "2021-03-14T15:53:53.056361",
     "exception": false,
     "start_time": "2021-03-14T15:53:52.994334",
     "status": "completed"
    },
    "tags": []
   },
   "outputs": [
    {
     "data": {
      "text/html": [
       "<div>\n",
       "<style scoped>\n",
       "    .dataframe tbody tr th:only-of-type {\n",
       "        vertical-align: middle;\n",
       "    }\n",
       "\n",
       "    .dataframe tbody tr th {\n",
       "        vertical-align: top;\n",
       "    }\n",
       "\n",
       "    .dataframe thead th {\n",
       "        text-align: right;\n",
       "    }\n",
       "</style>\n",
       "<table border=\"1\" class=\"dataframe\">\n",
       "  <thead>\n",
       "    <tr style=\"text-align: right;\">\n",
       "      <th></th>\n",
       "      <th>id</th>\n",
       "      <th>landmark_id</th>\n",
       "    </tr>\n",
       "  </thead>\n",
       "  <tbody>\n",
       "    <tr>\n",
       "      <th>41479</th>\n",
       "      <td>7ea1f47a50e4e445</td>\n",
       "      <td>13807</td>\n",
       "    </tr>\n",
       "    <tr>\n",
       "      <th>123950</th>\n",
       "      <td>404bc4216befc2f0</td>\n",
       "      <td>123315</td>\n",
       "    </tr>\n",
       "    <tr>\n",
       "      <th>220037</th>\n",
       "      <td>eab86dc6ed6a9ab5</td>\n",
       "      <td>42547</td>\n",
       "    </tr>\n",
       "    <tr>\n",
       "      <th>204851</th>\n",
       "      <td>bcc590cf179dea09</td>\n",
       "      <td>72475</td>\n",
       "    </tr>\n",
       "    <tr>\n",
       "      <th>186503</th>\n",
       "      <td>540d0cab3ab58d77</td>\n",
       "      <td>27</td>\n",
       "    </tr>\n",
       "  </tbody>\n",
       "</table>\n",
       "</div>"
      ],
      "text/plain": [
       "                      id  landmark_id\n",
       "41479   7ea1f47a50e4e445        13807\n",
       "123950  404bc4216befc2f0       123315\n",
       "220037  eab86dc6ed6a9ab5        42547\n",
       "204851  bcc590cf179dea09        72475\n",
       "186503  540d0cab3ab58d77           27"
      ]
     },
     "execution_count": 19,
     "metadata": {},
     "output_type": "execute_result"
    }
   ],
   "source": [
    "train_2000.sample(5, random_state=seed)"
   ]
  },
  {
   "cell_type": "code",
   "execution_count": 20,
   "metadata": {
    "execution": {
     "iopub.execute_input": "2021-03-14T15:53:53.136519Z",
     "iopub.status.busy": "2021-03-14T15:53:53.135507Z",
     "iopub.status.idle": "2021-03-14T15:53:53.152336Z",
     "shell.execute_reply": "2021-03-14T15:53:53.153129Z"
    },
    "papermill": {
     "duration": 0.060429,
     "end_time": "2021-03-14T15:53:53.153364",
     "exception": false,
     "start_time": "2021-03-14T15:53:53.092935",
     "status": "completed"
    },
    "tags": []
   },
   "outputs": [
    {
     "data": {
      "text/html": [
       "<div>\n",
       "<style scoped>\n",
       "    .dataframe tbody tr th:only-of-type {\n",
       "        vertical-align: middle;\n",
       "    }\n",
       "\n",
       "    .dataframe tbody tr th {\n",
       "        vertical-align: top;\n",
       "    }\n",
       "\n",
       "    .dataframe thead th {\n",
       "        text-align: right;\n",
       "    }\n",
       "</style>\n",
       "<table border=\"1\" class=\"dataframe\">\n",
       "  <thead>\n",
       "    <tr style=\"text-align: right;\">\n",
       "      <th></th>\n",
       "      <th>id</th>\n",
       "      <th>landmark_id</th>\n",
       "    </tr>\n",
       "  </thead>\n",
       "  <tbody>\n",
       "    <tr>\n",
       "      <th>49223</th>\n",
       "      <td>d1adfed2ac419a67</td>\n",
       "      <td>35628</td>\n",
       "    </tr>\n",
       "    <tr>\n",
       "      <th>4936</th>\n",
       "      <td>d83515c53f1d60f2</td>\n",
       "      <td>202814</td>\n",
       "    </tr>\n",
       "    <tr>\n",
       "      <th>35595</th>\n",
       "      <td>0d3d2bf9d027ea06</td>\n",
       "      <td>155750</td>\n",
       "    </tr>\n",
       "    <tr>\n",
       "      <th>11511</th>\n",
       "      <td>90cda3e9c81a861a</td>\n",
       "      <td>78791</td>\n",
       "    </tr>\n",
       "    <tr>\n",
       "      <th>43934</th>\n",
       "      <td>c06c7e9013bf3489</td>\n",
       "      <td>58893</td>\n",
       "    </tr>\n",
       "  </tbody>\n",
       "</table>\n",
       "</div>"
      ],
      "text/plain": [
       "                     id  landmark_id\n",
       "49223  d1adfed2ac419a67        35628\n",
       "4936   d83515c53f1d60f2       202814\n",
       "35595  0d3d2bf9d027ea06       155750\n",
       "11511  90cda3e9c81a861a        78791\n",
       "43934  c06c7e9013bf3489        58893"
      ]
     },
     "execution_count": 20,
     "metadata": {},
     "output_type": "execute_result"
    }
   ],
   "source": [
    "val_2000.sample(5, random_state=seed)"
   ]
  },
  {
   "cell_type": "code",
   "execution_count": 21,
   "metadata": {
    "execution": {
     "iopub.execute_input": "2021-03-14T15:53:53.229183Z",
     "iopub.status.busy": "2021-03-14T15:53:53.228211Z",
     "iopub.status.idle": "2021-03-14T15:53:53.239207Z",
     "shell.execute_reply": "2021-03-14T15:53:53.239704Z"
    },
    "papermill": {
     "duration": 0.049694,
     "end_time": "2021-03-14T15:53:53.239875",
     "exception": false,
     "start_time": "2021-03-14T15:53:53.190181",
     "status": "completed"
    },
    "tags": []
   },
   "outputs": [
    {
     "data": {
      "text/html": [
       "<div>\n",
       "<style scoped>\n",
       "    .dataframe tbody tr th:only-of-type {\n",
       "        vertical-align: middle;\n",
       "    }\n",
       "\n",
       "    .dataframe tbody tr th {\n",
       "        vertical-align: top;\n",
       "    }\n",
       "\n",
       "    .dataframe thead th {\n",
       "        text-align: right;\n",
       "    }\n",
       "</style>\n",
       "<table border=\"1\" class=\"dataframe\">\n",
       "  <thead>\n",
       "    <tr style=\"text-align: right;\">\n",
       "      <th></th>\n",
       "      <th>id</th>\n",
       "      <th>landmark_id</th>\n",
       "    </tr>\n",
       "  </thead>\n",
       "  <tbody>\n",
       "    <tr>\n",
       "      <th>25480</th>\n",
       "      <td>62595c237f13f06f</td>\n",
       "      <td>9070</td>\n",
       "    </tr>\n",
       "    <tr>\n",
       "      <th>19577</th>\n",
       "      <td>34db7e9a5947000e</td>\n",
       "      <td>105924</td>\n",
       "    </tr>\n",
       "    <tr>\n",
       "      <th>11132</th>\n",
       "      <td>f1dfbf4d6eea30cd</td>\n",
       "      <td>93869</td>\n",
       "    </tr>\n",
       "    <tr>\n",
       "      <th>23298</th>\n",
       "      <td>366b228953441b28</td>\n",
       "      <td>193938</td>\n",
       "    </tr>\n",
       "    <tr>\n",
       "      <th>20980</th>\n",
       "      <td>ed9af2f5f0fc1144</td>\n",
       "      <td>108472</td>\n",
       "    </tr>\n",
       "  </tbody>\n",
       "</table>\n",
       "</div>"
      ],
      "text/plain": [
       "                     id  landmark_id\n",
       "25480  62595c237f13f06f         9070\n",
       "19577  34db7e9a5947000e       105924\n",
       "11132  f1dfbf4d6eea30cd        93869\n",
       "23298  366b228953441b28       193938\n",
       "20980  ed9af2f5f0fc1144       108472"
      ]
     },
     "execution_count": 21,
     "metadata": {},
     "output_type": "execute_result"
    }
   ],
   "source": [
    "test_2000.sample(5, random_state=seed)"
   ]
  },
  {
   "cell_type": "markdown",
   "metadata": {
    "papermill": {
     "duration": 0.034467,
     "end_time": "2021-03-14T15:53:53.309302",
     "exception": false,
     "start_time": "2021-03-14T15:53:53.274835",
     "status": "completed"
    },
    "tags": []
   },
   "source": [
    "Before making the directories, let's save the `csv` files with the original paths. It is a good idea to keep track of the images we are going to use. By this way further experiments can be reproducible and easily shareable with the community."
   ]
  },
  {
   "cell_type": "code",
   "execution_count": 22,
   "metadata": {
    "execution": {
     "iopub.execute_input": "2021-03-14T15:53:53.383525Z",
     "iopub.status.busy": "2021-03-14T15:53:53.382590Z",
     "iopub.status.idle": "2021-03-14T15:53:53.387796Z",
     "shell.execute_reply": "2021-03-14T15:53:53.388328Z"
    },
    "papermill": {
     "duration": 0.043845,
     "end_time": "2021-03-14T15:53:53.388500",
     "exception": false,
     "start_time": "2021-03-14T15:53:53.344655",
     "status": "completed"
    },
    "tags": []
   },
   "outputs": [],
   "source": [
    "def build_paths(df):\n",
    "    paths = [\"../input/landmark-recognition-2020/train/{}/{}/{}/{}.jpg\".format(row.id[0],row.id[1],row.id[2],row.id) for row in df.itertuples()]\n",
    "    df['path'] = paths\n",
    "    return df"
   ]
  },
  {
   "cell_type": "code",
   "execution_count": 23,
   "metadata": {
    "execution": {
     "iopub.execute_input": "2021-03-14T15:53:53.464656Z",
     "iopub.status.busy": "2021-03-14T15:53:53.463695Z",
     "iopub.status.idle": "2021-03-14T15:53:53.611129Z",
     "shell.execute_reply": "2021-03-14T15:53:53.609944Z"
    },
    "papermill": {
     "duration": 0.187921,
     "end_time": "2021-03-14T15:53:53.611437",
     "exception": false,
     "start_time": "2021-03-14T15:53:53.423516",
     "status": "completed"
    },
    "tags": []
   },
   "outputs": [],
   "source": [
    "train_200 = build_paths(train_200)\n",
    "val_200 = build_paths(val_200)\n",
    "test_200 = build_paths(test_200)"
   ]
  },
  {
   "cell_type": "markdown",
   "metadata": {
    "papermill": {
     "duration": 0.035794,
     "end_time": "2021-03-14T15:53:53.694646",
     "exception": false,
     "start_time": "2021-03-14T15:53:53.658852",
     "status": "completed"
    },
    "tags": []
   },
   "source": [
    "Checking everything is correct."
   ]
  },
  {
   "cell_type": "code",
   "execution_count": 24,
   "metadata": {
    "execution": {
     "iopub.execute_input": "2021-03-14T15:53:53.772739Z",
     "iopub.status.busy": "2021-03-14T15:53:53.771653Z",
     "iopub.status.idle": "2021-03-14T15:53:53.789876Z",
     "shell.execute_reply": "2021-03-14T15:53:53.789234Z"
    },
    "papermill": {
     "duration": 0.060212,
     "end_time": "2021-03-14T15:53:53.790037",
     "exception": false,
     "start_time": "2021-03-14T15:53:53.729825",
     "status": "completed"
    },
    "tags": []
   },
   "outputs": [
    {
     "data": {
      "text/html": [
       "<div>\n",
       "<style scoped>\n",
       "    .dataframe tbody tr th:only-of-type {\n",
       "        vertical-align: middle;\n",
       "    }\n",
       "\n",
       "    .dataframe tbody tr th {\n",
       "        vertical-align: top;\n",
       "    }\n",
       "\n",
       "    .dataframe thead th {\n",
       "        text-align: right;\n",
       "    }\n",
       "</style>\n",
       "<table border=\"1\" class=\"dataframe\">\n",
       "  <thead>\n",
       "    <tr style=\"text-align: right;\">\n",
       "      <th></th>\n",
       "      <th>id</th>\n",
       "      <th>landmark_id</th>\n",
       "      <th>path</th>\n",
       "    </tr>\n",
       "  </thead>\n",
       "  <tbody>\n",
       "    <tr>\n",
       "      <th>27431</th>\n",
       "      <td>c6e5cd77e07d790e</td>\n",
       "      <td>96663</td>\n",
       "      <td>../input/landmark-recognition-2020/train/c/6/e...</td>\n",
       "    </tr>\n",
       "    <tr>\n",
       "      <th>4984</th>\n",
       "      <td>4f0b67a9e9d787a5</td>\n",
       "      <td>193550</td>\n",
       "      <td>../input/landmark-recognition-2020/train/4/f/0...</td>\n",
       "    </tr>\n",
       "    <tr>\n",
       "      <th>47418</th>\n",
       "      <td>8778766758dad55b</td>\n",
       "      <td>174181</td>\n",
       "      <td>../input/landmark-recognition-2020/train/8/7/7...</td>\n",
       "    </tr>\n",
       "    <tr>\n",
       "      <th>23008</th>\n",
       "      <td>f93c4d1a4522e549</td>\n",
       "      <td>158818</td>\n",
       "      <td>../input/landmark-recognition-2020/train/f/9/3...</td>\n",
       "    </tr>\n",
       "    <tr>\n",
       "      <th>47407</th>\n",
       "      <td>0317b74af8867bef</td>\n",
       "      <td>33992</td>\n",
       "      <td>../input/landmark-recognition-2020/train/0/3/1...</td>\n",
       "    </tr>\n",
       "  </tbody>\n",
       "</table>\n",
       "</div>"
      ],
      "text/plain": [
       "                     id  landmark_id  \\\n",
       "27431  c6e5cd77e07d790e        96663   \n",
       "4984   4f0b67a9e9d787a5       193550   \n",
       "47418  8778766758dad55b       174181   \n",
       "23008  f93c4d1a4522e549       158818   \n",
       "47407  0317b74af8867bef        33992   \n",
       "\n",
       "                                                    path  \n",
       "27431  ../input/landmark-recognition-2020/train/c/6/e...  \n",
       "4984   ../input/landmark-recognition-2020/train/4/f/0...  \n",
       "47418  ../input/landmark-recognition-2020/train/8/7/7...  \n",
       "23008  ../input/landmark-recognition-2020/train/f/9/3...  \n",
       "47407  ../input/landmark-recognition-2020/train/0/3/1...  "
      ]
     },
     "execution_count": 24,
     "metadata": {},
     "output_type": "execute_result"
    }
   ],
   "source": [
    "train_200.sample(5, random_state=seed)"
   ]
  },
  {
   "cell_type": "code",
   "execution_count": 25,
   "metadata": {
    "execution": {
     "iopub.execute_input": "2021-03-14T15:53:53.874426Z",
     "iopub.status.busy": "2021-03-14T15:53:53.867000Z",
     "iopub.status.idle": "2021-03-14T15:53:53.879430Z",
     "shell.execute_reply": "2021-03-14T15:53:53.878754Z"
    },
    "papermill": {
     "duration": 0.054021,
     "end_time": "2021-03-14T15:53:53.879587",
     "exception": false,
     "start_time": "2021-03-14T15:53:53.825566",
     "status": "completed"
    },
    "tags": []
   },
   "outputs": [
    {
     "data": {
      "text/html": [
       "<div>\n",
       "<style scoped>\n",
       "    .dataframe tbody tr th:only-of-type {\n",
       "        vertical-align: middle;\n",
       "    }\n",
       "\n",
       "    .dataframe tbody tr th {\n",
       "        vertical-align: top;\n",
       "    }\n",
       "\n",
       "    .dataframe thead th {\n",
       "        text-align: right;\n",
       "    }\n",
       "</style>\n",
       "<table border=\"1\" class=\"dataframe\">\n",
       "  <thead>\n",
       "    <tr style=\"text-align: right;\">\n",
       "      <th></th>\n",
       "      <th>id</th>\n",
       "      <th>landmark_id</th>\n",
       "      <th>path</th>\n",
       "    </tr>\n",
       "  </thead>\n",
       "  <tbody>\n",
       "    <tr>\n",
       "      <th>1783</th>\n",
       "      <td>98cb2f29a86f54ba</td>\n",
       "      <td>73300</td>\n",
       "      <td>../input/landmark-recognition-2020/train/9/8/c...</td>\n",
       "    </tr>\n",
       "    <tr>\n",
       "      <th>14941</th>\n",
       "      <td>b85390b455e1cc74</td>\n",
       "      <td>194914</td>\n",
       "      <td>../input/landmark-recognition-2020/train/b/8/5...</td>\n",
       "    </tr>\n",
       "    <tr>\n",
       "      <th>13852</th>\n",
       "      <td>3df95bf5f7faf7c1</td>\n",
       "      <td>168106</td>\n",
       "      <td>../input/landmark-recognition-2020/train/3/d/f...</td>\n",
       "    </tr>\n",
       "    <tr>\n",
       "      <th>7918</th>\n",
       "      <td>d5a83a10a452150c</td>\n",
       "      <td>125425</td>\n",
       "      <td>../input/landmark-recognition-2020/train/d/5/a...</td>\n",
       "    </tr>\n",
       "    <tr>\n",
       "      <th>10040</th>\n",
       "      <td>01835434e0b5865d</td>\n",
       "      <td>139894</td>\n",
       "      <td>../input/landmark-recognition-2020/train/0/1/8...</td>\n",
       "    </tr>\n",
       "  </tbody>\n",
       "</table>\n",
       "</div>"
      ],
      "text/plain": [
       "                     id  landmark_id  \\\n",
       "1783   98cb2f29a86f54ba        73300   \n",
       "14941  b85390b455e1cc74       194914   \n",
       "13852  3df95bf5f7faf7c1       168106   \n",
       "7918   d5a83a10a452150c       125425   \n",
       "10040  01835434e0b5865d       139894   \n",
       "\n",
       "                                                    path  \n",
       "1783   ../input/landmark-recognition-2020/train/9/8/c...  \n",
       "14941  ../input/landmark-recognition-2020/train/b/8/5...  \n",
       "13852  ../input/landmark-recognition-2020/train/3/d/f...  \n",
       "7918   ../input/landmark-recognition-2020/train/d/5/a...  \n",
       "10040  ../input/landmark-recognition-2020/train/0/1/8...  "
      ]
     },
     "execution_count": 25,
     "metadata": {},
     "output_type": "execute_result"
    }
   ],
   "source": [
    "val_200.sample(5, random_state=seed)"
   ]
  },
  {
   "cell_type": "code",
   "execution_count": 26,
   "metadata": {
    "execution": {
     "iopub.execute_input": "2021-03-14T15:53:53.966383Z",
     "iopub.status.busy": "2021-03-14T15:53:53.965519Z",
     "iopub.status.idle": "2021-03-14T15:53:53.970086Z",
     "shell.execute_reply": "2021-03-14T15:53:53.969590Z"
    },
    "papermill": {
     "duration": 0.053178,
     "end_time": "2021-03-14T15:53:53.970234",
     "exception": false,
     "start_time": "2021-03-14T15:53:53.917056",
     "status": "completed"
    },
    "tags": []
   },
   "outputs": [
    {
     "data": {
      "text/html": [
       "<div>\n",
       "<style scoped>\n",
       "    .dataframe tbody tr th:only-of-type {\n",
       "        vertical-align: middle;\n",
       "    }\n",
       "\n",
       "    .dataframe tbody tr th {\n",
       "        vertical-align: top;\n",
       "    }\n",
       "\n",
       "    .dataframe thead th {\n",
       "        text-align: right;\n",
       "    }\n",
       "</style>\n",
       "<table border=\"1\" class=\"dataframe\">\n",
       "  <thead>\n",
       "    <tr style=\"text-align: right;\">\n",
       "      <th></th>\n",
       "      <th>id</th>\n",
       "      <th>landmark_id</th>\n",
       "      <th>path</th>\n",
       "    </tr>\n",
       "  </thead>\n",
       "  <tbody>\n",
       "    <tr>\n",
       "      <th>6648</th>\n",
       "      <td>ffb1c6a8f40e5d58</td>\n",
       "      <td>70644</td>\n",
       "      <td>../input/landmark-recognition-2020/train/f/f/b...</td>\n",
       "    </tr>\n",
       "    <tr>\n",
       "      <th>7552</th>\n",
       "      <td>ad80447db3ca58e2</td>\n",
       "      <td>21703</td>\n",
       "      <td>../input/landmark-recognition-2020/train/a/d/8...</td>\n",
       "    </tr>\n",
       "    <tr>\n",
       "      <th>290</th>\n",
       "      <td>6ed5037a206525ba</td>\n",
       "      <td>80147</td>\n",
       "      <td>../input/landmark-recognition-2020/train/6/e/d...</td>\n",
       "    </tr>\n",
       "    <tr>\n",
       "      <th>256</th>\n",
       "      <td>a42afeab0a7c608f</td>\n",
       "      <td>113209</td>\n",
       "      <td>../input/landmark-recognition-2020/train/a/4/2...</td>\n",
       "    </tr>\n",
       "    <tr>\n",
       "      <th>1252</th>\n",
       "      <td>d42b8d0986fcb2ee</td>\n",
       "      <td>146497</td>\n",
       "      <td>../input/landmark-recognition-2020/train/d/4/2...</td>\n",
       "    </tr>\n",
       "  </tbody>\n",
       "</table>\n",
       "</div>"
      ],
      "text/plain": [
       "                    id  landmark_id  \\\n",
       "6648  ffb1c6a8f40e5d58        70644   \n",
       "7552  ad80447db3ca58e2        21703   \n",
       "290   6ed5037a206525ba        80147   \n",
       "256   a42afeab0a7c608f       113209   \n",
       "1252  d42b8d0986fcb2ee       146497   \n",
       "\n",
       "                                                   path  \n",
       "6648  ../input/landmark-recognition-2020/train/f/f/b...  \n",
       "7552  ../input/landmark-recognition-2020/train/a/d/8...  \n",
       "290   ../input/landmark-recognition-2020/train/6/e/d...  \n",
       "256   ../input/landmark-recognition-2020/train/a/4/2...  \n",
       "1252  ../input/landmark-recognition-2020/train/d/4/2...  "
      ]
     },
     "execution_count": 26,
     "metadata": {},
     "output_type": "execute_result"
    }
   ],
   "source": [
    "test_200.sample(5, random_state=seed)"
   ]
  },
  {
   "cell_type": "markdown",
   "metadata": {
    "papermill": {
     "duration": 0.036896,
     "end_time": "2021-03-14T15:53:54.045395",
     "exception": false,
     "start_time": "2021-03-14T15:53:54.008499",
     "status": "completed"
    },
    "tags": []
   },
   "source": [
    "Saving the files."
   ]
  },
  {
   "cell_type": "code",
   "execution_count": 27,
   "metadata": {
    "execution": {
     "iopub.execute_input": "2021-03-14T15:53:54.124939Z",
     "iopub.status.busy": "2021-03-14T15:53:54.124304Z",
     "iopub.status.idle": "2021-03-14T15:53:54.380250Z",
     "shell.execute_reply": "2021-03-14T15:53:54.379475Z"
    },
    "papermill": {
     "duration": 0.298088,
     "end_time": "2021-03-14T15:53:54.380436",
     "exception": false,
     "start_time": "2021-03-14T15:53:54.082348",
     "status": "completed"
    },
    "tags": []
   },
   "outputs": [],
   "source": [
    "train_200.to_csv('train_200.csv',index=False)\n",
    "val_200.to_csv('val_200.csv',index=False)\n",
    "test_200.to_csv('test_200.csv',index=False)"
   ]
  },
  {
   "cell_type": "markdown",
   "metadata": {
    "papermill": {
     "duration": 0.036862,
     "end_time": "2021-03-14T15:53:54.454665",
     "exception": false,
     "start_time": "2021-03-14T15:53:54.417803",
     "status": "completed"
    },
    "tags": []
   },
   "source": [
    "The same operation with the other sample."
   ]
  },
  {
   "cell_type": "code",
   "execution_count": 28,
   "metadata": {
    "execution": {
     "iopub.execute_input": "2021-03-14T15:53:54.543560Z",
     "iopub.status.busy": "2021-03-14T15:53:54.538393Z",
     "iopub.status.idle": "2021-03-14T15:53:55.115839Z",
     "shell.execute_reply": "2021-03-14T15:53:55.115275Z"
    },
    "papermill": {
     "duration": 0.624481,
     "end_time": "2021-03-14T15:53:55.116024",
     "exception": false,
     "start_time": "2021-03-14T15:53:54.491543",
     "status": "completed"
    },
    "tags": []
   },
   "outputs": [],
   "source": [
    "train_2000 = build_paths(train_2000)\n",
    "val_2000 = build_paths(val_2000)\n",
    "test_2000 = build_paths(test_2000)"
   ]
  },
  {
   "cell_type": "markdown",
   "metadata": {
    "papermill": {
     "duration": 0.049793,
     "end_time": "2021-03-14T15:53:55.204089",
     "exception": false,
     "start_time": "2021-03-14T15:53:55.154296",
     "status": "completed"
    },
    "tags": []
   },
   "source": [
    "Checking everything is correct."
   ]
  },
  {
   "cell_type": "code",
   "execution_count": 29,
   "metadata": {
    "execution": {
     "iopub.execute_input": "2021-03-14T15:53:55.283301Z",
     "iopub.status.busy": "2021-03-14T15:53:55.282675Z",
     "iopub.status.idle": "2021-03-14T15:53:55.348475Z",
     "shell.execute_reply": "2021-03-14T15:53:55.348935Z"
    },
    "papermill": {
     "duration": 0.108009,
     "end_time": "2021-03-14T15:53:55.349116",
     "exception": false,
     "start_time": "2021-03-14T15:53:55.241107",
     "status": "completed"
    },
    "tags": []
   },
   "outputs": [
    {
     "data": {
      "text/html": [
       "<div>\n",
       "<style scoped>\n",
       "    .dataframe tbody tr th:only-of-type {\n",
       "        vertical-align: middle;\n",
       "    }\n",
       "\n",
       "    .dataframe tbody tr th {\n",
       "        vertical-align: top;\n",
       "    }\n",
       "\n",
       "    .dataframe thead th {\n",
       "        text-align: right;\n",
       "    }\n",
       "</style>\n",
       "<table border=\"1\" class=\"dataframe\">\n",
       "  <thead>\n",
       "    <tr style=\"text-align: right;\">\n",
       "      <th></th>\n",
       "      <th>id</th>\n",
       "      <th>landmark_id</th>\n",
       "      <th>path</th>\n",
       "    </tr>\n",
       "  </thead>\n",
       "  <tbody>\n",
       "    <tr>\n",
       "      <th>41479</th>\n",
       "      <td>7ea1f47a50e4e445</td>\n",
       "      <td>13807</td>\n",
       "      <td>../input/landmark-recognition-2020/train/7/e/a...</td>\n",
       "    </tr>\n",
       "    <tr>\n",
       "      <th>123950</th>\n",
       "      <td>404bc4216befc2f0</td>\n",
       "      <td>123315</td>\n",
       "      <td>../input/landmark-recognition-2020/train/4/0/4...</td>\n",
       "    </tr>\n",
       "    <tr>\n",
       "      <th>220037</th>\n",
       "      <td>eab86dc6ed6a9ab5</td>\n",
       "      <td>42547</td>\n",
       "      <td>../input/landmark-recognition-2020/train/e/a/b...</td>\n",
       "    </tr>\n",
       "    <tr>\n",
       "      <th>204851</th>\n",
       "      <td>bcc590cf179dea09</td>\n",
       "      <td>72475</td>\n",
       "      <td>../input/landmark-recognition-2020/train/b/c/c...</td>\n",
       "    </tr>\n",
       "    <tr>\n",
       "      <th>186503</th>\n",
       "      <td>540d0cab3ab58d77</td>\n",
       "      <td>27</td>\n",
       "      <td>../input/landmark-recognition-2020/train/5/4/0...</td>\n",
       "    </tr>\n",
       "  </tbody>\n",
       "</table>\n",
       "</div>"
      ],
      "text/plain": [
       "                      id  landmark_id  \\\n",
       "41479   7ea1f47a50e4e445        13807   \n",
       "123950  404bc4216befc2f0       123315   \n",
       "220037  eab86dc6ed6a9ab5        42547   \n",
       "204851  bcc590cf179dea09        72475   \n",
       "186503  540d0cab3ab58d77           27   \n",
       "\n",
       "                                                     path  \n",
       "41479   ../input/landmark-recognition-2020/train/7/e/a...  \n",
       "123950  ../input/landmark-recognition-2020/train/4/0/4...  \n",
       "220037  ../input/landmark-recognition-2020/train/e/a/b...  \n",
       "204851  ../input/landmark-recognition-2020/train/b/c/c...  \n",
       "186503  ../input/landmark-recognition-2020/train/5/4/0...  "
      ]
     },
     "execution_count": 29,
     "metadata": {},
     "output_type": "execute_result"
    }
   ],
   "source": [
    "train_2000.sample(5, random_state=seed)"
   ]
  },
  {
   "cell_type": "code",
   "execution_count": 30,
   "metadata": {
    "execution": {
     "iopub.execute_input": "2021-03-14T15:53:55.432060Z",
     "iopub.status.busy": "2021-03-14T15:53:55.429592Z",
     "iopub.status.idle": "2021-03-14T15:53:55.454902Z",
     "shell.execute_reply": "2021-03-14T15:53:55.455325Z"
    },
    "papermill": {
     "duration": 0.068026,
     "end_time": "2021-03-14T15:53:55.455502",
     "exception": false,
     "start_time": "2021-03-14T15:53:55.387476",
     "status": "completed"
    },
    "tags": []
   },
   "outputs": [
    {
     "data": {
      "text/html": [
       "<div>\n",
       "<style scoped>\n",
       "    .dataframe tbody tr th:only-of-type {\n",
       "        vertical-align: middle;\n",
       "    }\n",
       "\n",
       "    .dataframe tbody tr th {\n",
       "        vertical-align: top;\n",
       "    }\n",
       "\n",
       "    .dataframe thead th {\n",
       "        text-align: right;\n",
       "    }\n",
       "</style>\n",
       "<table border=\"1\" class=\"dataframe\">\n",
       "  <thead>\n",
       "    <tr style=\"text-align: right;\">\n",
       "      <th></th>\n",
       "      <th>id</th>\n",
       "      <th>landmark_id</th>\n",
       "      <th>path</th>\n",
       "    </tr>\n",
       "  </thead>\n",
       "  <tbody>\n",
       "    <tr>\n",
       "      <th>49223</th>\n",
       "      <td>d1adfed2ac419a67</td>\n",
       "      <td>35628</td>\n",
       "      <td>../input/landmark-recognition-2020/train/d/1/a...</td>\n",
       "    </tr>\n",
       "    <tr>\n",
       "      <th>4936</th>\n",
       "      <td>d83515c53f1d60f2</td>\n",
       "      <td>202814</td>\n",
       "      <td>../input/landmark-recognition-2020/train/d/8/3...</td>\n",
       "    </tr>\n",
       "    <tr>\n",
       "      <th>35595</th>\n",
       "      <td>0d3d2bf9d027ea06</td>\n",
       "      <td>155750</td>\n",
       "      <td>../input/landmark-recognition-2020/train/0/d/3...</td>\n",
       "    </tr>\n",
       "    <tr>\n",
       "      <th>11511</th>\n",
       "      <td>90cda3e9c81a861a</td>\n",
       "      <td>78791</td>\n",
       "      <td>../input/landmark-recognition-2020/train/9/0/c...</td>\n",
       "    </tr>\n",
       "    <tr>\n",
       "      <th>43934</th>\n",
       "      <td>c06c7e9013bf3489</td>\n",
       "      <td>58893</td>\n",
       "      <td>../input/landmark-recognition-2020/train/c/0/6...</td>\n",
       "    </tr>\n",
       "  </tbody>\n",
       "</table>\n",
       "</div>"
      ],
      "text/plain": [
       "                     id  landmark_id  \\\n",
       "49223  d1adfed2ac419a67        35628   \n",
       "4936   d83515c53f1d60f2       202814   \n",
       "35595  0d3d2bf9d027ea06       155750   \n",
       "11511  90cda3e9c81a861a        78791   \n",
       "43934  c06c7e9013bf3489        58893   \n",
       "\n",
       "                                                    path  \n",
       "49223  ../input/landmark-recognition-2020/train/d/1/a...  \n",
       "4936   ../input/landmark-recognition-2020/train/d/8/3...  \n",
       "35595  ../input/landmark-recognition-2020/train/0/d/3...  \n",
       "11511  ../input/landmark-recognition-2020/train/9/0/c...  \n",
       "43934  ../input/landmark-recognition-2020/train/c/0/6...  "
      ]
     },
     "execution_count": 30,
     "metadata": {},
     "output_type": "execute_result"
    }
   ],
   "source": [
    "val_2000.sample(5, random_state=seed)"
   ]
  },
  {
   "cell_type": "code",
   "execution_count": 31,
   "metadata": {
    "execution": {
     "iopub.execute_input": "2021-03-14T15:53:55.547696Z",
     "iopub.status.busy": "2021-03-14T15:53:55.547090Z",
     "iopub.status.idle": "2021-03-14T15:53:55.551347Z",
     "shell.execute_reply": "2021-03-14T15:53:55.550903Z"
    },
    "papermill": {
     "duration": 0.058328,
     "end_time": "2021-03-14T15:53:55.551485",
     "exception": false,
     "start_time": "2021-03-14T15:53:55.493157",
     "status": "completed"
    },
    "tags": []
   },
   "outputs": [
    {
     "data": {
      "text/html": [
       "<div>\n",
       "<style scoped>\n",
       "    .dataframe tbody tr th:only-of-type {\n",
       "        vertical-align: middle;\n",
       "    }\n",
       "\n",
       "    .dataframe tbody tr th {\n",
       "        vertical-align: top;\n",
       "    }\n",
       "\n",
       "    .dataframe thead th {\n",
       "        text-align: right;\n",
       "    }\n",
       "</style>\n",
       "<table border=\"1\" class=\"dataframe\">\n",
       "  <thead>\n",
       "    <tr style=\"text-align: right;\">\n",
       "      <th></th>\n",
       "      <th>id</th>\n",
       "      <th>landmark_id</th>\n",
       "      <th>path</th>\n",
       "    </tr>\n",
       "  </thead>\n",
       "  <tbody>\n",
       "    <tr>\n",
       "      <th>25480</th>\n",
       "      <td>62595c237f13f06f</td>\n",
       "      <td>9070</td>\n",
       "      <td>../input/landmark-recognition-2020/train/6/2/5...</td>\n",
       "    </tr>\n",
       "    <tr>\n",
       "      <th>19577</th>\n",
       "      <td>34db7e9a5947000e</td>\n",
       "      <td>105924</td>\n",
       "      <td>../input/landmark-recognition-2020/train/3/4/d...</td>\n",
       "    </tr>\n",
       "    <tr>\n",
       "      <th>11132</th>\n",
       "      <td>f1dfbf4d6eea30cd</td>\n",
       "      <td>93869</td>\n",
       "      <td>../input/landmark-recognition-2020/train/f/1/d...</td>\n",
       "    </tr>\n",
       "    <tr>\n",
       "      <th>23298</th>\n",
       "      <td>366b228953441b28</td>\n",
       "      <td>193938</td>\n",
       "      <td>../input/landmark-recognition-2020/train/3/6/6...</td>\n",
       "    </tr>\n",
       "    <tr>\n",
       "      <th>20980</th>\n",
       "      <td>ed9af2f5f0fc1144</td>\n",
       "      <td>108472</td>\n",
       "      <td>../input/landmark-recognition-2020/train/e/d/9...</td>\n",
       "    </tr>\n",
       "  </tbody>\n",
       "</table>\n",
       "</div>"
      ],
      "text/plain": [
       "                     id  landmark_id  \\\n",
       "25480  62595c237f13f06f         9070   \n",
       "19577  34db7e9a5947000e       105924   \n",
       "11132  f1dfbf4d6eea30cd        93869   \n",
       "23298  366b228953441b28       193938   \n",
       "20980  ed9af2f5f0fc1144       108472   \n",
       "\n",
       "                                                    path  \n",
       "25480  ../input/landmark-recognition-2020/train/6/2/5...  \n",
       "19577  ../input/landmark-recognition-2020/train/3/4/d...  \n",
       "11132  ../input/landmark-recognition-2020/train/f/1/d...  \n",
       "23298  ../input/landmark-recognition-2020/train/3/6/6...  \n",
       "20980  ../input/landmark-recognition-2020/train/e/d/9...  "
      ]
     },
     "execution_count": 31,
     "metadata": {},
     "output_type": "execute_result"
    }
   ],
   "source": [
    "test_2000.sample(5, random_state=seed)"
   ]
  },
  {
   "cell_type": "markdown",
   "metadata": {
    "papermill": {
     "duration": 0.038142,
     "end_time": "2021-03-14T15:53:55.627957",
     "exception": false,
     "start_time": "2021-03-14T15:53:55.589815",
     "status": "completed"
    },
    "tags": []
   },
   "source": [
    "Saving the files."
   ]
  },
  {
   "cell_type": "code",
   "execution_count": 32,
   "metadata": {
    "execution": {
     "iopub.execute_input": "2021-03-14T15:53:55.713233Z",
     "iopub.status.busy": "2021-03-14T15:53:55.712446Z",
     "iopub.status.idle": "2021-03-14T15:53:56.848996Z",
     "shell.execute_reply": "2021-03-14T15:53:56.848461Z"
    },
    "papermill": {
     "duration": 1.180331,
     "end_time": "2021-03-14T15:53:56.849168",
     "exception": false,
     "start_time": "2021-03-14T15:53:55.668837",
     "status": "completed"
    },
    "tags": []
   },
   "outputs": [],
   "source": [
    "train_2000.to_csv('train_2000.csv',index=False)\n",
    "val_2000.to_csv('val_2000.csv',index=False)\n",
    "test_2000.to_csv('test_2000.csv',index=False)"
   ]
  },
  {
   "cell_type": "markdown",
   "metadata": {
    "papermill": {
     "duration": 0.038443,
     "end_time": "2021-03-14T15:53:56.926653",
     "exception": false,
     "start_time": "2021-03-14T15:53:56.888210",
     "status": "completed"
    },
    "tags": []
   },
   "source": [
    "Finally, we are ready for making the directory structure."
   ]
  },
  {
   "cell_type": "code",
   "execution_count": 33,
   "metadata": {
    "execution": {
     "iopub.execute_input": "2021-03-14T15:53:57.012217Z",
     "iopub.status.busy": "2021-03-14T15:53:57.011532Z",
     "iopub.status.idle": "2021-03-14T15:53:57.013646Z",
     "shell.execute_reply": "2021-03-14T15:53:57.014069Z"
    },
    "papermill": {
     "duration": 0.048917,
     "end_time": "2021-03-14T15:53:57.014258",
     "exception": false,
     "start_time": "2021-03-14T15:53:56.965341",
     "status": "completed"
    },
    "tags": []
   },
   "outputs": [],
   "source": [
    "def making_folders(df, c_col, i_col, path):\n",
    "    shutil.os.mkdir(path)\n",
    "    classes = df[c_col].unique()\n",
    "    for c in tqdm(classes):\n",
    "        f_path = f\"{path}{c}\"\n",
    "        shutil.os.mkdir(f_path)\n",
    "        imgs = df.loc[df[c_col] == c][i_col].to_list()\n",
    "        for i in imgs:\n",
    "            image_path = \"../input/landmark-recognition-2020/train/{}/{}/{}/{}.jpg\".format(i[0],i[1],i[2],i)\n",
    "            shutil.copy(image_path, f_path)"
   ]
  },
  {
   "cell_type": "code",
   "execution_count": 34,
   "metadata": {
    "execution": {
     "iopub.execute_input": "2021-03-14T15:53:57.096710Z",
     "iopub.status.busy": "2021-03-14T15:53:57.096037Z",
     "iopub.status.idle": "2021-03-14T15:55:31.917095Z",
     "shell.execute_reply": "2021-03-14T15:55:31.917528Z"
    },
    "papermill": {
     "duration": 94.864847,
     "end_time": "2021-03-14T15:55:31.917721",
     "exception": false,
     "start_time": "2021-03-14T15:53:57.052874",
     "status": "completed"
    },
    "tags": []
   },
   "outputs": [
    {
     "data": {
      "application/vnd.jupyter.widget-view+json": {
       "model_id": "443eaeb27c5a4a138d8e5a39f537103e",
       "version_major": 2,
       "version_minor": 0
      },
      "text/plain": [
       "  0%|          | 0/200 [00:00<?, ?it/s]"
      ]
     },
     "metadata": {},
     "output_type": "display_data"
    }
   ],
   "source": [
    "# making_folders(train_200, \"landmark_id\", \"id\", \"..train_200/\")\n",
    "# making_folders(val_200, \"landmark_id\", \"id\", \"..val_200/\")\n",
    "making_folders(test_200, \"landmark_id\", \"id\", \"..test_200/\")\n",
    "# making_folders(train_2000, \"landmark_id\", \"id\", \"..train_2000/\")\n",
    "# making_folders(val_2000, \"landmark_id\", \"id\", \"..val_2000/\")\n",
    "# making_folders(test_200, \"landmark_id\", \"id\", \"..test_200/\")"
   ]
  },
  {
   "cell_type": "code",
   "execution_count": 35,
   "metadata": {
    "execution": {
     "iopub.execute_input": "2021-03-14T15:55:32.001599Z",
     "iopub.status.busy": "2021-03-14T15:55:32.000918Z",
     "iopub.status.idle": "2021-03-14T15:55:32.785238Z",
     "shell.execute_reply": "2021-03-14T15:55:32.784637Z"
    },
    "papermill": {
     "duration": 0.827087,
     "end_time": "2021-03-14T15:55:32.785398",
     "exception": false,
     "start_time": "2021-03-14T15:55:31.958311",
     "status": "completed"
    },
    "tags": []
   },
   "outputs": [
    {
     "name": "stdout",
     "output_type": "stream",
     "text": [
      ".   ..test_200\t\ttest_200.csv   train_200.csv   val_200.csv\r\n",
      "..  __notebook__.ipynb\ttest_2000.csv  train_2000.csv  val_2000.csv\r\n"
     ]
    }
   ],
   "source": [
    "! ls -a"
   ]
  },
  {
   "cell_type": "markdown",
   "metadata": {
    "papermill": {
     "duration": 0.038784,
     "end_time": "2021-03-14T15:55:32.863496",
     "exception": false,
     "start_time": "2021-03-14T15:55:32.824712",
     "status": "completed"
    },
    "tags": []
   },
   "source": [
    "At this point, some of the limitations of the Kaggle platform appeared. There is a constraint about the space disk one can use, so this task must be done one by one. That is the reason the code above is commented. Moreover, it is impossible to publish the notebook with all the created folders because the **output** or **working directory** only supports `5GB`. What I did is download one by one and just the first part, the dataset with the 200 labels because the other one exceeded all the limits. My intentions is once constructed the models, come back and upgrade to Google Cloud Platform and scale up the builded neural networks with more classes and images."
   ]
  },
  {
   "cell_type": "markdown",
   "metadata": {
    "papermill": {
     "duration": 0.040642,
     "end_time": "2021-03-14T15:55:32.943189",
     "exception": false,
     "start_time": "2021-03-14T15:55:32.902547",
     "status": "completed"
    },
    "tags": []
   },
   "source": [
    "# Image sizes\n",
    "\n",
    "After thinking about the problem with the different image size of the dataset I considered to download the original ones. The main is reason is that I can always go back one step instead of resizing all without already knowing what type of neural network I am going to construct. So, I postpone this task for the next step to make it more suitable and with the aim of a bigger control on the factors of the efficiency of the future models.\n",
    "\n",
    "----Note **Latest Version**----\n",
    "\n",
    "Once I modeled the first neural network I found that resizing the images with ImageDataGenerator class or special Keras layers, the time per epoch was very high due to the sizing task. For each execution, the images were resized what was a waste of time. To make the process faster what I did was resizing all images once and save them, ready to use without waiting too much. \n",
    "\n",
    "The other problem that comes with resizing the images is deciding what size to give them. A very big size increase the time to process because there are more features to exctract from an image. On the other hand, a smaller size decrease the execution time, but some features can be overlooked by the neural network."
   ]
  },
  {
   "cell_type": "code",
   "execution_count": 36,
   "metadata": {
    "execution": {
     "iopub.execute_input": "2021-03-14T15:55:33.025164Z",
     "iopub.status.busy": "2021-03-14T15:55:33.024459Z",
     "iopub.status.idle": "2021-03-14T15:55:33.031718Z",
     "shell.execute_reply": "2021-03-14T15:55:33.031125Z"
    },
    "papermill": {
     "duration": 0.04958,
     "end_time": "2021-03-14T15:55:33.031878",
     "exception": false,
     "start_time": "2021-03-14T15:55:32.982298",
     "status": "completed"
    },
    "tags": []
   },
   "outputs": [],
   "source": [
    "def resize(path, size):\n",
    "    subfolders = [f.path for f in os.scandir(path) if f.is_dir()]\n",
    "    for s in tqdm(subfolders):\n",
    "        for i in os.listdir(s):\n",
    "            full_path = os.path.join(s,i)\n",
    "            if os.path.isfile(full_path):\n",
    "                im = Image.open(full_path)\n",
    "                imResize = im.resize(size, Image.ANTIALIAS)\n",
    "                imResize.save(full_path)"
   ]
  },
  {
   "cell_type": "code",
   "execution_count": 37,
   "metadata": {
    "execution": {
     "iopub.execute_input": "2021-03-14T15:55:33.117592Z",
     "iopub.status.busy": "2021-03-14T15:55:33.116918Z",
     "iopub.status.idle": "2021-03-14T15:57:49.548961Z",
     "shell.execute_reply": "2021-03-14T15:57:49.548375Z"
    },
    "papermill": {
     "duration": 136.476781,
     "end_time": "2021-03-14T15:57:49.549112",
     "exception": false,
     "start_time": "2021-03-14T15:55:33.072331",
     "status": "completed"
    },
    "tags": []
   },
   "outputs": [
    {
     "data": {
      "application/vnd.jupyter.widget-view+json": {
       "model_id": "e4c78d8089984a09ba94e1b5d77fc96f",
       "version_major": 2,
       "version_minor": 0
      },
      "text/plain": [
       "  0%|          | 0/200 [00:00<?, ?it/s]"
      ]
     },
     "metadata": {},
     "output_type": "display_data"
    }
   ],
   "source": [
    "train = \"..train_200/\"\n",
    "val = \"..val_200/\"\n",
    "test = \"..test_200/\"\n",
    "\n",
    "# resize(train, (256,256))\n",
    "# resize(val, (256,256) )\n",
    "resize(test, (256,256)) "
   ]
  },
  {
   "cell_type": "code",
   "execution_count": 38,
   "metadata": {
    "execution": {
     "iopub.execute_input": "2021-03-14T15:57:49.640901Z",
     "iopub.status.busy": "2021-03-14T15:57:49.640298Z",
     "iopub.status.idle": "2021-03-14T15:57:53.660502Z",
     "shell.execute_reply": "2021-03-14T15:57:53.661244Z"
    },
    "papermill": {
     "duration": 4.072688,
     "end_time": "2021-03-14T15:57:53.661505",
     "exception": false,
     "start_time": "2021-03-14T15:57:49.588817",
     "status": "completed"
    },
    "tags": []
   },
   "outputs": [],
   "source": [
    "! zip -qr test_200.zip \"..test_200/\""
   ]
  }
 ],
 "metadata": {
  "kernelspec": {
   "display_name": "Python 3",
   "language": "python",
   "name": "python3"
  },
  "language_info": {
   "codemirror_mode": {
    "name": "ipython",
    "version": 3
   },
   "file_extension": ".py",
   "mimetype": "text/x-python",
   "name": "python",
   "nbconvert_exporter": "python",
   "pygments_lexer": "ipython3",
   "version": "3.7.9"
  },
  "papermill": {
   "default_parameters": {},
   "duration": 258.747333,
   "end_time": "2021-03-14T15:57:54.817288",
   "environment_variables": {},
   "exception": null,
   "input_path": "__notebook__.ipynb",
   "output_path": "__notebook__.ipynb",
   "parameters": {},
   "start_time": "2021-03-14T15:53:36.069955",
   "version": "2.2.2"
  },
  "widgets": {
   "application/vnd.jupyter.widget-state+json": {
    "state": {
     "1774ad37b87544eba87204f474ffd4f4": {
      "model_module": "@jupyter-widgets/controls",
      "model_module_version": "1.5.0",
      "model_name": "ProgressStyleModel",
      "state": {
       "_model_module": "@jupyter-widgets/controls",
       "_model_module_version": "1.5.0",
       "_model_name": "ProgressStyleModel",
       "_view_count": null,
       "_view_module": "@jupyter-widgets/base",
       "_view_module_version": "1.2.0",
       "_view_name": "StyleView",
       "bar_color": null,
       "description_width": ""
      }
     },
     "2fdbb6871a154d2b917edc8c12a3f48e": {
      "model_module": "@jupyter-widgets/base",
      "model_module_version": "1.2.0",
      "model_name": "LayoutModel",
      "state": {
       "_model_module": "@jupyter-widgets/base",
       "_model_module_version": "1.2.0",
       "_model_name": "LayoutModel",
       "_view_count": null,
       "_view_module": "@jupyter-widgets/base",
       "_view_module_version": "1.2.0",
       "_view_name": "LayoutView",
       "align_content": null,
       "align_items": null,
       "align_self": null,
       "border": null,
       "bottom": null,
       "display": null,
       "flex": null,
       "flex_flow": null,
       "grid_area": null,
       "grid_auto_columns": null,
       "grid_auto_flow": null,
       "grid_auto_rows": null,
       "grid_column": null,
       "grid_gap": null,
       "grid_row": null,
       "grid_template_areas": null,
       "grid_template_columns": null,
       "grid_template_rows": null,
       "height": null,
       "justify_content": null,
       "justify_items": null,
       "left": null,
       "margin": null,
       "max_height": null,
       "max_width": null,
       "min_height": null,
       "min_width": null,
       "object_fit": null,
       "object_position": null,
       "order": null,
       "overflow": null,
       "overflow_x": null,
       "overflow_y": null,
       "padding": null,
       "right": null,
       "top": null,
       "visibility": null,
       "width": null
      }
     },
     "3e872b495a9b48b0925f253f4693d2be": {
      "model_module": "@jupyter-widgets/controls",
      "model_module_version": "1.5.0",
      "model_name": "FloatProgressModel",
      "state": {
       "_dom_classes": [],
       "_model_module": "@jupyter-widgets/controls",
       "_model_module_version": "1.5.0",
       "_model_name": "FloatProgressModel",
       "_view_count": null,
       "_view_module": "@jupyter-widgets/controls",
       "_view_module_version": "1.5.0",
       "_view_name": "ProgressView",
       "bar_style": "success",
       "description": "",
       "description_tooltip": null,
       "layout": "IPY_MODEL_9f20d7e56031499f963c54c952c69c24",
       "max": 200.0,
       "min": 0.0,
       "orientation": "horizontal",
       "style": "IPY_MODEL_1774ad37b87544eba87204f474ffd4f4",
       "value": 200.0
      }
     },
     "443eaeb27c5a4a138d8e5a39f537103e": {
      "model_module": "@jupyter-widgets/controls",
      "model_module_version": "1.5.0",
      "model_name": "HBoxModel",
      "state": {
       "_dom_classes": [],
       "_model_module": "@jupyter-widgets/controls",
       "_model_module_version": "1.5.0",
       "_model_name": "HBoxModel",
       "_view_count": null,
       "_view_module": "@jupyter-widgets/controls",
       "_view_module_version": "1.5.0",
       "_view_name": "HBoxView",
       "box_style": "",
       "children": [
        "IPY_MODEL_6fc34ba9fcc641e79dac86d666110579",
        "IPY_MODEL_3e872b495a9b48b0925f253f4693d2be",
        "IPY_MODEL_cfac84e2776d4ac1ba1d0012d8933e7a"
       ],
       "layout": "IPY_MODEL_79ef0459a60b4efc8ada91de57c1701f"
      }
     },
     "4b460064cbc0490189b50b6a38ff5c72": {
      "model_module": "@jupyter-widgets/controls",
      "model_module_version": "1.5.0",
      "model_name": "DescriptionStyleModel",
      "state": {
       "_model_module": "@jupyter-widgets/controls",
       "_model_module_version": "1.5.0",
       "_model_name": "DescriptionStyleModel",
       "_view_count": null,
       "_view_module": "@jupyter-widgets/base",
       "_view_module_version": "1.2.0",
       "_view_name": "StyleView",
       "description_width": ""
      }
     },
     "4b6912d142254cd28a5367d4a7781db2": {
      "model_module": "@jupyter-widgets/base",
      "model_module_version": "1.2.0",
      "model_name": "LayoutModel",
      "state": {
       "_model_module": "@jupyter-widgets/base",
       "_model_module_version": "1.2.0",
       "_model_name": "LayoutModel",
       "_view_count": null,
       "_view_module": "@jupyter-widgets/base",
       "_view_module_version": "1.2.0",
       "_view_name": "LayoutView",
       "align_content": null,
       "align_items": null,
       "align_self": null,
       "border": null,
       "bottom": null,
       "display": null,
       "flex": null,
       "flex_flow": null,
       "grid_area": null,
       "grid_auto_columns": null,
       "grid_auto_flow": null,
       "grid_auto_rows": null,
       "grid_column": null,
       "grid_gap": null,
       "grid_row": null,
       "grid_template_areas": null,
       "grid_template_columns": null,
       "grid_template_rows": null,
       "height": null,
       "justify_content": null,
       "justify_items": null,
       "left": null,
       "margin": null,
       "max_height": null,
       "max_width": null,
       "min_height": null,
       "min_width": null,
       "object_fit": null,
       "object_position": null,
       "order": null,
       "overflow": null,
       "overflow_x": null,
       "overflow_y": null,
       "padding": null,
       "right": null,
       "top": null,
       "visibility": null,
       "width": null
      }
     },
     "5551e77895f043ca98fbc7bbbd80b585": {
      "model_module": "@jupyter-widgets/base",
      "model_module_version": "1.2.0",
      "model_name": "LayoutModel",
      "state": {
       "_model_module": "@jupyter-widgets/base",
       "_model_module_version": "1.2.0",
       "_model_name": "LayoutModel",
       "_view_count": null,
       "_view_module": "@jupyter-widgets/base",
       "_view_module_version": "1.2.0",
       "_view_name": "LayoutView",
       "align_content": null,
       "align_items": null,
       "align_self": null,
       "border": null,
       "bottom": null,
       "display": null,
       "flex": null,
       "flex_flow": null,
       "grid_area": null,
       "grid_auto_columns": null,
       "grid_auto_flow": null,
       "grid_auto_rows": null,
       "grid_column": null,
       "grid_gap": null,
       "grid_row": null,
       "grid_template_areas": null,
       "grid_template_columns": null,
       "grid_template_rows": null,
       "height": null,
       "justify_content": null,
       "justify_items": null,
       "left": null,
       "margin": null,
       "max_height": null,
       "max_width": null,
       "min_height": null,
       "min_width": null,
       "object_fit": null,
       "object_position": null,
       "order": null,
       "overflow": null,
       "overflow_x": null,
       "overflow_y": null,
       "padding": null,
       "right": null,
       "top": null,
       "visibility": null,
       "width": null
      }
     },
     "6298ef3d2b3e4b7eae0ce1d8dd5afded": {
      "model_module": "@jupyter-widgets/base",
      "model_module_version": "1.2.0",
      "model_name": "LayoutModel",
      "state": {
       "_model_module": "@jupyter-widgets/base",
       "_model_module_version": "1.2.0",
       "_model_name": "LayoutModel",
       "_view_count": null,
       "_view_module": "@jupyter-widgets/base",
       "_view_module_version": "1.2.0",
       "_view_name": "LayoutView",
       "align_content": null,
       "align_items": null,
       "align_self": null,
       "border": null,
       "bottom": null,
       "display": null,
       "flex": null,
       "flex_flow": null,
       "grid_area": null,
       "grid_auto_columns": null,
       "grid_auto_flow": null,
       "grid_auto_rows": null,
       "grid_column": null,
       "grid_gap": null,
       "grid_row": null,
       "grid_template_areas": null,
       "grid_template_columns": null,
       "grid_template_rows": null,
       "height": null,
       "justify_content": null,
       "justify_items": null,
       "left": null,
       "margin": null,
       "max_height": null,
       "max_width": null,
       "min_height": null,
       "min_width": null,
       "object_fit": null,
       "object_position": null,
       "order": null,
       "overflow": null,
       "overflow_x": null,
       "overflow_y": null,
       "padding": null,
       "right": null,
       "top": null,
       "visibility": null,
       "width": null
      }
     },
     "68ae7cc74a1943fba30dc40bc2e89c05": {
      "model_module": "@jupyter-widgets/controls",
      "model_module_version": "1.5.0",
      "model_name": "DescriptionStyleModel",
      "state": {
       "_model_module": "@jupyter-widgets/controls",
       "_model_module_version": "1.5.0",
       "_model_name": "DescriptionStyleModel",
       "_view_count": null,
       "_view_module": "@jupyter-widgets/base",
       "_view_module_version": "1.2.0",
       "_view_name": "StyleView",
       "description_width": ""
      }
     },
     "6afbd002aaa4472c83b69abe70b7c598": {
      "model_module": "@jupyter-widgets/controls",
      "model_module_version": "1.5.0",
      "model_name": "ProgressStyleModel",
      "state": {
       "_model_module": "@jupyter-widgets/controls",
       "_model_module_version": "1.5.0",
       "_model_name": "ProgressStyleModel",
       "_view_count": null,
       "_view_module": "@jupyter-widgets/base",
       "_view_module_version": "1.2.0",
       "_view_name": "StyleView",
       "bar_color": null,
       "description_width": ""
      }
     },
     "6fc34ba9fcc641e79dac86d666110579": {
      "model_module": "@jupyter-widgets/controls",
      "model_module_version": "1.5.0",
      "model_name": "HTMLModel",
      "state": {
       "_dom_classes": [],
       "_model_module": "@jupyter-widgets/controls",
       "_model_module_version": "1.5.0",
       "_model_name": "HTMLModel",
       "_view_count": null,
       "_view_module": "@jupyter-widgets/controls",
       "_view_module_version": "1.5.0",
       "_view_name": "HTMLView",
       "description": "",
       "description_tooltip": null,
       "layout": "IPY_MODEL_5551e77895f043ca98fbc7bbbd80b585",
       "placeholder": "​",
       "style": "IPY_MODEL_4b460064cbc0490189b50b6a38ff5c72",
       "value": "100%"
      }
     },
     "79ef0459a60b4efc8ada91de57c1701f": {
      "model_module": "@jupyter-widgets/base",
      "model_module_version": "1.2.0",
      "model_name": "LayoutModel",
      "state": {
       "_model_module": "@jupyter-widgets/base",
       "_model_module_version": "1.2.0",
       "_model_name": "LayoutModel",
       "_view_count": null,
       "_view_module": "@jupyter-widgets/base",
       "_view_module_version": "1.2.0",
       "_view_name": "LayoutView",
       "align_content": null,
       "align_items": null,
       "align_self": null,
       "border": null,
       "bottom": null,
       "display": null,
       "flex": null,
       "flex_flow": null,
       "grid_area": null,
       "grid_auto_columns": null,
       "grid_auto_flow": null,
       "grid_auto_rows": null,
       "grid_column": null,
       "grid_gap": null,
       "grid_row": null,
       "grid_template_areas": null,
       "grid_template_columns": null,
       "grid_template_rows": null,
       "height": null,
       "justify_content": null,
       "justify_items": null,
       "left": null,
       "margin": null,
       "max_height": null,
       "max_width": null,
       "min_height": null,
       "min_width": null,
       "object_fit": null,
       "object_position": null,
       "order": null,
       "overflow": null,
       "overflow_x": null,
       "overflow_y": null,
       "padding": null,
       "right": null,
       "top": null,
       "visibility": null,
       "width": null
      }
     },
     "7c08bc3454cf420da68354e6b0f0dcf8": {
      "model_module": "@jupyter-widgets/controls",
      "model_module_version": "1.5.0",
      "model_name": "FloatProgressModel",
      "state": {
       "_dom_classes": [],
       "_model_module": "@jupyter-widgets/controls",
       "_model_module_version": "1.5.0",
       "_model_name": "FloatProgressModel",
       "_view_count": null,
       "_view_module": "@jupyter-widgets/controls",
       "_view_module_version": "1.5.0",
       "_view_name": "ProgressView",
       "bar_style": "success",
       "description": "",
       "description_tooltip": null,
       "layout": "IPY_MODEL_2fdbb6871a154d2b917edc8c12a3f48e",
       "max": 200.0,
       "min": 0.0,
       "orientation": "horizontal",
       "style": "IPY_MODEL_6afbd002aaa4472c83b69abe70b7c598",
       "value": 200.0
      }
     },
     "91a64f95430d43f59da84b6f2d4beec5": {
      "model_module": "@jupyter-widgets/base",
      "model_module_version": "1.2.0",
      "model_name": "LayoutModel",
      "state": {
       "_model_module": "@jupyter-widgets/base",
       "_model_module_version": "1.2.0",
       "_model_name": "LayoutModel",
       "_view_count": null,
       "_view_module": "@jupyter-widgets/base",
       "_view_module_version": "1.2.0",
       "_view_name": "LayoutView",
       "align_content": null,
       "align_items": null,
       "align_self": null,
       "border": null,
       "bottom": null,
       "display": null,
       "flex": null,
       "flex_flow": null,
       "grid_area": null,
       "grid_auto_columns": null,
       "grid_auto_flow": null,
       "grid_auto_rows": null,
       "grid_column": null,
       "grid_gap": null,
       "grid_row": null,
       "grid_template_areas": null,
       "grid_template_columns": null,
       "grid_template_rows": null,
       "height": null,
       "justify_content": null,
       "justify_items": null,
       "left": null,
       "margin": null,
       "max_height": null,
       "max_width": null,
       "min_height": null,
       "min_width": null,
       "object_fit": null,
       "object_position": null,
       "order": null,
       "overflow": null,
       "overflow_x": null,
       "overflow_y": null,
       "padding": null,
       "right": null,
       "top": null,
       "visibility": null,
       "width": null
      }
     },
     "9f20d7e56031499f963c54c952c69c24": {
      "model_module": "@jupyter-widgets/base",
      "model_module_version": "1.2.0",
      "model_name": "LayoutModel",
      "state": {
       "_model_module": "@jupyter-widgets/base",
       "_model_module_version": "1.2.0",
       "_model_name": "LayoutModel",
       "_view_count": null,
       "_view_module": "@jupyter-widgets/base",
       "_view_module_version": "1.2.0",
       "_view_name": "LayoutView",
       "align_content": null,
       "align_items": null,
       "align_self": null,
       "border": null,
       "bottom": null,
       "display": null,
       "flex": null,
       "flex_flow": null,
       "grid_area": null,
       "grid_auto_columns": null,
       "grid_auto_flow": null,
       "grid_auto_rows": null,
       "grid_column": null,
       "grid_gap": null,
       "grid_row": null,
       "grid_template_areas": null,
       "grid_template_columns": null,
       "grid_template_rows": null,
       "height": null,
       "justify_content": null,
       "justify_items": null,
       "left": null,
       "margin": null,
       "max_height": null,
       "max_width": null,
       "min_height": null,
       "min_width": null,
       "object_fit": null,
       "object_position": null,
       "order": null,
       "overflow": null,
       "overflow_x": null,
       "overflow_y": null,
       "padding": null,
       "right": null,
       "top": null,
       "visibility": null,
       "width": null
      }
     },
     "b5f4ef5e16ac4c8092d28b193eea2ecd": {
      "model_module": "@jupyter-widgets/controls",
      "model_module_version": "1.5.0",
      "model_name": "HTMLModel",
      "state": {
       "_dom_classes": [],
       "_model_module": "@jupyter-widgets/controls",
       "_model_module_version": "1.5.0",
       "_model_name": "HTMLModel",
       "_view_count": null,
       "_view_module": "@jupyter-widgets/controls",
       "_view_module_version": "1.5.0",
       "_view_name": "HTMLView",
       "description": "",
       "description_tooltip": null,
       "layout": "IPY_MODEL_4b6912d142254cd28a5367d4a7781db2",
       "placeholder": "​",
       "style": "IPY_MODEL_dc557a20993d4619969f09603f9eeafe",
       "value": " 200/200 [02:16&lt;00:00,  1.51it/s]"
      }
     },
     "c6beeb537385418a8ee6eb4230849be8": {
      "model_module": "@jupyter-widgets/controls",
      "model_module_version": "1.5.0",
      "model_name": "DescriptionStyleModel",
      "state": {
       "_model_module": "@jupyter-widgets/controls",
       "_model_module_version": "1.5.0",
       "_model_name": "DescriptionStyleModel",
       "_view_count": null,
       "_view_module": "@jupyter-widgets/base",
       "_view_module_version": "1.2.0",
       "_view_name": "StyleView",
       "description_width": ""
      }
     },
     "cfac84e2776d4ac1ba1d0012d8933e7a": {
      "model_module": "@jupyter-widgets/controls",
      "model_module_version": "1.5.0",
      "model_name": "HTMLModel",
      "state": {
       "_dom_classes": [],
       "_model_module": "@jupyter-widgets/controls",
       "_model_module_version": "1.5.0",
       "_model_name": "HTMLModel",
       "_view_count": null,
       "_view_module": "@jupyter-widgets/controls",
       "_view_module_version": "1.5.0",
       "_view_name": "HTMLView",
       "description": "",
       "description_tooltip": null,
       "layout": "IPY_MODEL_dfb4caeda9ca465698146627205bb1f5",
       "placeholder": "​",
       "style": "IPY_MODEL_68ae7cc74a1943fba30dc40bc2e89c05",
       "value": " 200/200 [01:34&lt;00:00,  2.20it/s]"
      }
     },
     "d47d12c3abae473b8b079892f6b163fd": {
      "model_module": "@jupyter-widgets/controls",
      "model_module_version": "1.5.0",
      "model_name": "HTMLModel",
      "state": {
       "_dom_classes": [],
       "_model_module": "@jupyter-widgets/controls",
       "_model_module_version": "1.5.0",
       "_model_name": "HTMLModel",
       "_view_count": null,
       "_view_module": "@jupyter-widgets/controls",
       "_view_module_version": "1.5.0",
       "_view_name": "HTMLView",
       "description": "",
       "description_tooltip": null,
       "layout": "IPY_MODEL_91a64f95430d43f59da84b6f2d4beec5",
       "placeholder": "​",
       "style": "IPY_MODEL_c6beeb537385418a8ee6eb4230849be8",
       "value": "100%"
      }
     },
     "dc557a20993d4619969f09603f9eeafe": {
      "model_module": "@jupyter-widgets/controls",
      "model_module_version": "1.5.0",
      "model_name": "DescriptionStyleModel",
      "state": {
       "_model_module": "@jupyter-widgets/controls",
       "_model_module_version": "1.5.0",
       "_model_name": "DescriptionStyleModel",
       "_view_count": null,
       "_view_module": "@jupyter-widgets/base",
       "_view_module_version": "1.2.0",
       "_view_name": "StyleView",
       "description_width": ""
      }
     },
     "dfb4caeda9ca465698146627205bb1f5": {
      "model_module": "@jupyter-widgets/base",
      "model_module_version": "1.2.0",
      "model_name": "LayoutModel",
      "state": {
       "_model_module": "@jupyter-widgets/base",
       "_model_module_version": "1.2.0",
       "_model_name": "LayoutModel",
       "_view_count": null,
       "_view_module": "@jupyter-widgets/base",
       "_view_module_version": "1.2.0",
       "_view_name": "LayoutView",
       "align_content": null,
       "align_items": null,
       "align_self": null,
       "border": null,
       "bottom": null,
       "display": null,
       "flex": null,
       "flex_flow": null,
       "grid_area": null,
       "grid_auto_columns": null,
       "grid_auto_flow": null,
       "grid_auto_rows": null,
       "grid_column": null,
       "grid_gap": null,
       "grid_row": null,
       "grid_template_areas": null,
       "grid_template_columns": null,
       "grid_template_rows": null,
       "height": null,
       "justify_content": null,
       "justify_items": null,
       "left": null,
       "margin": null,
       "max_height": null,
       "max_width": null,
       "min_height": null,
       "min_width": null,
       "object_fit": null,
       "object_position": null,
       "order": null,
       "overflow": null,
       "overflow_x": null,
       "overflow_y": null,
       "padding": null,
       "right": null,
       "top": null,
       "visibility": null,
       "width": null
      }
     },
     "e4c78d8089984a09ba94e1b5d77fc96f": {
      "model_module": "@jupyter-widgets/controls",
      "model_module_version": "1.5.0",
      "model_name": "HBoxModel",
      "state": {
       "_dom_classes": [],
       "_model_module": "@jupyter-widgets/controls",
       "_model_module_version": "1.5.0",
       "_model_name": "HBoxModel",
       "_view_count": null,
       "_view_module": "@jupyter-widgets/controls",
       "_view_module_version": "1.5.0",
       "_view_name": "HBoxView",
       "box_style": "",
       "children": [
        "IPY_MODEL_d47d12c3abae473b8b079892f6b163fd",
        "IPY_MODEL_7c08bc3454cf420da68354e6b0f0dcf8",
        "IPY_MODEL_b5f4ef5e16ac4c8092d28b193eea2ecd"
       ],
       "layout": "IPY_MODEL_6298ef3d2b3e4b7eae0ce1d8dd5afded"
      }
     }
    },
    "version_major": 2,
    "version_minor": 0
   }
  }
 },
 "nbformat": 4,
 "nbformat_minor": 4
}
