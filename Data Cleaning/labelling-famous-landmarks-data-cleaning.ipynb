{
 "cells": [
  {
   "cell_type": "markdown",
   "metadata": {
    "papermill": {
     "duration": 0.044032,
     "end_time": "2021-05-02T10:19:27.184840",
     "exception": false,
     "start_time": "2021-05-02T10:19:27.140808",
     "status": "completed"
    },
    "tags": []
   },
   "source": [
    "# Data Cleaning\n",
    "\n",
    "This notebook is the continuation of my data science project after performing the [Exploratoty Analysis](http://www.kaggle.com/nikoladyulgerov/labelling-famous-landmarks-eda) (**EDA**) on **Google Landmark Recognition 2020** dataset. The aim of this step is to clean and prepare the image data with which I am going to feed later on the constructed models."
   ]
  },
  {
   "cell_type": "markdown",
   "metadata": {
    "papermill": {
     "duration": 0.041472,
     "end_time": "2021-05-02T10:19:27.271038",
     "exception": false,
     "start_time": "2021-05-02T10:19:27.229566",
     "status": "completed"
    },
    "tags": []
   },
   "source": [
    "# Index of Contents\n",
    "\n",
    "1. **Importing libraries**\n",
    "2. **Approach overview**\n",
    "3. **Data preparation**\n",
    "4. **Image sizes**"
   ]
  },
  {
   "cell_type": "markdown",
   "metadata": {
    "papermill": {
     "duration": 0.04085,
     "end_time": "2021-05-02T10:19:27.353657",
     "exception": false,
     "start_time": "2021-05-02T10:19:27.312807",
     "status": "completed"
    },
    "tags": []
   },
   "source": [
    "# Importing libraries\n",
    "\n",
    "The modules are the most basic and common one for this kind of work."
   ]
  },
  {
   "cell_type": "code",
   "execution_count": 1,
   "metadata": {
    "execution": {
     "iopub.execute_input": "2021-05-02T10:19:27.443583Z",
     "iopub.status.busy": "2021-05-02T10:19:27.442884Z",
     "iopub.status.idle": "2021-05-02T10:19:28.870410Z",
     "shell.execute_reply": "2021-05-02T10:19:28.869702Z"
    },
    "papermill": {
     "duration": 1.475076,
     "end_time": "2021-05-02T10:19:28.870640",
     "exception": false,
     "start_time": "2021-05-02T10:19:27.395564",
     "status": "completed"
    },
    "tags": []
   },
   "outputs": [],
   "source": [
    "import os\n",
    "import shutil\n",
    "import pandas as pd\n",
    "import numpy as np\n",
    "import seaborn as sns\n",
    "import matplotlib.pyplot as plt \n",
    "\n",
    "from PIL import Image\n",
    "from sklearn.model_selection import train_test_split\n",
    "from tqdm.auto import tqdm\n",
    "\n",
    "#Seed for making reproducible experiments\n",
    "seed = 612"
   ]
  },
  {
   "cell_type": "markdown",
   "metadata": {
    "papermill": {
     "duration": 0.041441,
     "end_time": "2021-05-02T10:19:28.954600",
     "exception": false,
     "start_time": "2021-05-02T10:19:28.913159",
     "status": "completed"
    },
    "tags": []
   },
   "source": [
    "The next step is loading the dataset."
   ]
  },
  {
   "cell_type": "code",
   "execution_count": 2,
   "metadata": {
    "execution": {
     "iopub.execute_input": "2021-05-02T10:19:29.044235Z",
     "iopub.status.busy": "2021-05-02T10:19:29.043567Z",
     "iopub.status.idle": "2021-05-02T10:19:31.011004Z",
     "shell.execute_reply": "2021-05-02T10:19:31.010246Z"
    },
    "papermill": {
     "duration": 2.014666,
     "end_time": "2021-05-02T10:19:31.011167",
     "exception": false,
     "start_time": "2021-05-02T10:19:28.996501",
     "status": "completed"
    },
    "tags": []
   },
   "outputs": [
    {
     "data": {
      "text/html": [
       "<div>\n",
       "<style scoped>\n",
       "    .dataframe tbody tr th:only-of-type {\n",
       "        vertical-align: middle;\n",
       "    }\n",
       "\n",
       "    .dataframe tbody tr th {\n",
       "        vertical-align: top;\n",
       "    }\n",
       "\n",
       "    .dataframe thead th {\n",
       "        text-align: right;\n",
       "    }\n",
       "</style>\n",
       "<table border=\"1\" class=\"dataframe\">\n",
       "  <thead>\n",
       "    <tr style=\"text-align: right;\">\n",
       "      <th></th>\n",
       "      <th>id</th>\n",
       "      <th>landmark_id</th>\n",
       "    </tr>\n",
       "  </thead>\n",
       "  <tbody>\n",
       "    <tr>\n",
       "      <th>1154552</th>\n",
       "      <td>ec9e3d6f8dce016c</td>\n",
       "      <td>148331</td>\n",
       "    </tr>\n",
       "    <tr>\n",
       "      <th>270076</th>\n",
       "      <td>95c98d3b545c7f45</td>\n",
       "      <td>34452</td>\n",
       "    </tr>\n",
       "    <tr>\n",
       "      <th>952431</th>\n",
       "      <td>d22f5207d7734c80</td>\n",
       "      <td>123131</td>\n",
       "    </tr>\n",
       "    <tr>\n",
       "      <th>1039368</th>\n",
       "      <td>fcebb77d5d8ab9c8</td>\n",
       "      <td>134125</td>\n",
       "    </tr>\n",
       "    <tr>\n",
       "      <th>1410921</th>\n",
       "      <td>33338b5ad14b5653</td>\n",
       "      <td>181281</td>\n",
       "    </tr>\n",
       "  </tbody>\n",
       "</table>\n",
       "</div>"
      ],
      "text/plain": [
       "                       id  landmark_id\n",
       "1154552  ec9e3d6f8dce016c       148331\n",
       "270076   95c98d3b545c7f45        34452\n",
       "952431   d22f5207d7734c80       123131\n",
       "1039368  fcebb77d5d8ab9c8       134125\n",
       "1410921  33338b5ad14b5653       181281"
      ]
     },
     "execution_count": 2,
     "metadata": {},
     "output_type": "execute_result"
    }
   ],
   "source": [
    "train_data = pd.read_csv(\"../input/landmark-recognition-2020/train.csv\")\n",
    "train_data.sample(5, random_state=seed)"
   ]
  },
  {
   "cell_type": "markdown",
   "metadata": {
    "papermill": {
     "duration": 0.044278,
     "end_time": "2021-05-02T10:19:31.100522",
     "exception": false,
     "start_time": "2021-05-02T10:19:31.056244",
     "status": "completed"
    },
    "tags": []
   },
   "source": [
    "Once we have checked that is correctly loaded, we are ready for work."
   ]
  },
  {
   "cell_type": "markdown",
   "metadata": {
    "papermill": {
     "duration": 0.042433,
     "end_time": "2021-05-02T10:19:31.186254",
     "exception": false,
     "start_time": "2021-05-02T10:19:31.143821",
     "status": "completed"
    },
    "tags": []
   },
   "source": [
    "# Approach Overview\n",
    "\n",
    "\n",
    "The [Exploratoty Analysis](http://www.kaggle.com/nikoladyulgerov/labelling-famous-landmarks-eda) gave us clues about the nature of this particular dataset. Let's review some of its characteristics, just to sum up what we should do now to deal with it.\n",
    "\n",
    "* Huge unbalanced distribution of classes\n",
    "* High variance inside classes\n",
    "* Different image sizes\n",
    "\n",
    "Due to the computational limits I am experimenting with this project I am not going to use the entire dataset, it is impossible for me to handle this amount of data. That is why I will divide the process into two parts:\n",
    "\n",
    "* First, set the model construction with the top `200` classes on Kaggle and Google Colab platform.\n",
    "* Secondly, scale down the number of classes and see how models behaviour with the only the top `20` classes.\n",
    "\n",
    "Although these classes do not represent a high percent of the database, they have a great number of images what is the main reason why I have selected them. With that in mind, the balance of labels will be in some way guaranteed, although some variance stills remaining. However, it can be handle with simple techniques."
   ]
  },
  {
   "cell_type": "code",
   "execution_count": 3,
   "metadata": {
    "execution": {
     "iopub.execute_input": "2021-05-02T10:19:31.277567Z",
     "iopub.status.busy": "2021-05-02T10:19:31.276796Z",
     "iopub.status.idle": "2021-05-02T10:19:31.306703Z",
     "shell.execute_reply": "2021-05-02T10:19:31.306013Z"
    },
    "papermill": {
     "duration": 0.077574,
     "end_time": "2021-05-02T10:19:31.306859",
     "exception": false,
     "start_time": "2021-05-02T10:19:31.229285",
     "status": "completed"
    },
    "tags": []
   },
   "outputs": [
    {
     "name": "stdout",
     "output_type": "stream",
     "text": [
      "Number of total labels  81313\n",
      "Number of total images  1580470\n"
     ]
    }
   ],
   "source": [
    "print(\"Number of total labels \",  train_data[\"landmark_id\"].nunique())\n",
    "print(\"Number of total images \", train_data.shape[0])"
   ]
  },
  {
   "cell_type": "markdown",
   "metadata": {
    "papermill": {
     "duration": 0.027964,
     "end_time": "2021-05-02T10:19:31.363892",
     "exception": false,
     "start_time": "2021-05-02T10:19:31.335928",
     "status": "completed"
    },
    "tags": []
   },
   "source": [
    "I am getting rid of the most frequent landmark of the dataset because as it was seen in the exploratory analysis it has a huge difference of images against the rest. My intention with this is to minimize the unbalance on the sample data."
   ]
  },
  {
   "cell_type": "code",
   "execution_count": 4,
   "metadata": {
    "execution": {
     "iopub.execute_input": "2021-05-02T10:19:31.428635Z",
     "iopub.status.busy": "2021-05-02T10:19:31.427887Z",
     "iopub.status.idle": "2021-05-02T10:19:31.476830Z",
     "shell.execute_reply": "2021-05-02T10:19:31.475475Z"
    },
    "papermill": {
     "duration": 0.0854,
     "end_time": "2021-05-02T10:19:31.477000",
     "exception": false,
     "start_time": "2021-05-02T10:19:31.391600",
     "status": "completed"
    },
    "tags": []
   },
   "outputs": [
    {
     "name": "stdout",
     "output_type": "stream",
     "text": [
      "Number of images of the top  200  landmarks:  92465\n"
     ]
    }
   ],
   "source": [
    "n = 201\n",
    "top_200 = train_data['landmark_id'].value_counts()[1:n].index.tolist()\n",
    "images_200 = train_data.loc[train_data[\"landmark_id\"].isin(top_200)]\n",
    "print(\"Number of images of the top \",images_200[\"landmark_id\"].nunique(), \" landmarks: \", images_200.shape[0])"
   ]
  },
  {
   "cell_type": "code",
   "execution_count": 5,
   "metadata": {
    "execution": {
     "iopub.execute_input": "2021-05-02T10:19:31.539767Z",
     "iopub.status.busy": "2021-05-02T10:19:31.539222Z",
     "iopub.status.idle": "2021-05-02T10:19:31.602173Z",
     "shell.execute_reply": "2021-05-02T10:19:31.602667Z"
    },
    "papermill": {
     "duration": 0.096668,
     "end_time": "2021-05-02T10:19:31.602823",
     "exception": false,
     "start_time": "2021-05-02T10:19:31.506155",
     "status": "completed"
    },
    "tags": []
   },
   "outputs": [
    {
     "name": "stdout",
     "output_type": "stream",
     "text": [
      "Number of images of the top  20  landmarks:  21264\n"
     ]
    }
   ],
   "source": [
    "n = 21\n",
    "top_20 = train_data['landmark_id'].value_counts()[1:n].index.tolist()\n",
    "images_20 = train_data.loc[train_data[\"landmark_id\"].isin(top_20)]\n",
    "print(\"Number of images of the top \",images_20[\"landmark_id\"].nunique(), \" landmarks: \", images_20.shape[0])"
   ]
  },
  {
   "cell_type": "markdown",
   "metadata": {
    "papermill": {
     "duration": 0.028297,
     "end_time": "2021-05-02T10:19:31.659918",
     "exception": false,
     "start_time": "2021-05-02T10:19:31.631621",
     "status": "completed"
    },
    "tags": []
   },
   "source": [
    "Before carrying on the data cleaning and preparation procees, let's take a look of the already sampled data."
   ]
  },
  {
   "cell_type": "code",
   "execution_count": 6,
   "metadata": {
    "execution": {
     "iopub.execute_input": "2021-05-02T10:19:31.720550Z",
     "iopub.status.busy": "2021-05-02T10:19:31.720031Z",
     "iopub.status.idle": "2021-05-02T10:19:32.179753Z",
     "shell.execute_reply": "2021-05-02T10:19:32.179101Z"
    },
    "papermill": {
     "duration": 0.491179,
     "end_time": "2021-05-02T10:19:32.179913",
     "exception": false,
     "start_time": "2021-05-02T10:19:31.688734",
     "status": "completed"
    },
    "tags": []
   },
   "outputs": [
    {
     "data": {
      "text/plain": [
       "Text(0.5, 1.0, 'Top 20 most frequent landmarks')"
      ]
     },
     "execution_count": 6,
     "metadata": {},
     "output_type": "execute_result"
    },
    {
     "data": {
      "image/png": "[encoded data removed]",
      "text/plain": [
       "<Figure size 1440x360 with 2 Axes>"
      ]
     },
     "metadata": {
      "needs_background": "light"
     },
     "output_type": "display_data"
    }
   ],
   "source": [
    "# Calculating the n_images per landmark\n",
    "db1 = images_200.groupby([\"landmark_id\"]).size().reset_index(name='n_images')\n",
    "db2 = images_20.groupby([\"landmark_id\"]).size().reset_index(name='n_images')\n",
    "#Plotting a scatterplot of the distribution -> share y axis to compare\n",
    "fig, axes = plt.subplots(1, 2, sharey = True, figsize = (20,5))\n",
    "\n",
    "sns.scatterplot(ax=axes[0], x='landmark_id', y='n_images', data=db1, palette=\"mako\")\n",
    "axes[0].set_title(\"Top 200 most frequent landmarks\")\n",
    "sns.scatterplot(ax=axes[1], x='landmark_id', y='n_images', data=db2, palette=\"mako\")\n",
    "axes[1].set_title(\"Top 20 most frequent landmarks\")"
   ]
  },
  {
   "cell_type": "markdown",
   "metadata": {
    "papermill": {
     "duration": 0.045743,
     "end_time": "2021-05-02T10:19:32.286982",
     "exception": false,
     "start_time": "2021-05-02T10:19:32.241239",
     "status": "completed"
    },
    "tags": []
   },
   "source": [
    "As it was mentioned, the images per labels are in some way more balanced than before. However, there are some outstanding classes with a huge difference of images against the others. Also, looking to the 200th classes graph it is very clear that as the range of classes increases, the images per class decreases because the points are highly concentrated on the bottom of the scatter plot."
   ]
  },
  {
   "cell_type": "markdown",
   "metadata": {
    "papermill": {
     "duration": 0.045544,
     "end_time": "2021-05-02T10:19:32.378599",
     "exception": false,
     "start_time": "2021-05-02T10:19:32.333055",
     "status": "completed"
    },
    "tags": []
   },
   "source": [
    "To reduce even more the imbalance among classes, I am going to perform a downsample of the outstanding classes. My aim with that is stablishing a more uniform distribution among classes so that the performance of the models will not to be affected by this aspect."
   ]
  },
  {
   "cell_type": "code",
   "execution_count": 7,
   "metadata": {
    "execution": {
     "iopub.execute_input": "2021-05-02T10:19:32.478748Z",
     "iopub.status.busy": "2021-05-02T10:19:32.477864Z",
     "iopub.status.idle": "2021-05-02T10:19:32.483184Z",
     "shell.execute_reply": "2021-05-02T10:19:32.482745Z"
    },
    "papermill": {
     "duration": 0.058299,
     "end_time": "2021-05-02T10:19:32.483312",
     "exception": false,
     "start_time": "2021-05-02T10:19:32.425013",
     "status": "completed"
    },
    "tags": []
   },
   "outputs": [],
   "source": [
    "def downsampling(data_df, counts_df, max_samples):\n",
    "    # Get the oustanding classes to downsample\n",
    "    outstand = counts_df[counts_df[\"n_images\"]>=max_samples]\n",
    "    rest = data_df[data_df[\"landmark_id\"].isin(outstand[\"landmark_id\"]) == False]\n",
    "    # Random downsample of these classes to max_samples\n",
    "    for row in outstand.itertuples():\n",
    "        # Get max_samples for specific landmark_id\n",
    "        temp_df = data_df[data_df[\"landmark_id\"] == row.landmark_id].sample(max_samples, random_state = seed)\n",
    "        \n",
    "        rest = pd.concat([rest, temp_df], axis = 0)\n",
    "        \n",
    "    return rest"
   ]
  },
  {
   "cell_type": "code",
   "execution_count": 8,
   "metadata": {
    "execution": {
     "iopub.execute_input": "2021-05-02T10:19:32.553613Z",
     "iopub.status.busy": "2021-05-02T10:19:32.553104Z",
     "iopub.status.idle": "2021-05-02T10:19:33.168185Z",
     "shell.execute_reply": "2021-05-02T10:19:33.167498Z"
    },
    "papermill": {
     "duration": 0.654491,
     "end_time": "2021-05-02T10:19:33.168308",
     "exception": false,
     "start_time": "2021-05-02T10:19:32.513817",
     "status": "completed"
    },
    "tags": []
   },
   "outputs": [
    {
     "data": {
      "text/plain": [
       "Text(0.5, 1.0, 'Top 20 most frequent landmarks')"
      ]
     },
     "execution_count": 8,
     "metadata": {},
     "output_type": "execute_result"
    },
    {
     "data": {
      "image/png": "[encoded data removed]",
      "text/plain": [
       "<Figure size 1440x360 with 2 Axes>"
      ]
     },
     "metadata": {
      "needs_background": "light"
     },
     "output_type": "display_data"
    }
   ],
   "source": [
    "images_200 = downsampling(images_200, db1, db1['n_images'].min()+200) #Get the minimum samples per class and add some more\n",
    "images_20 = downsampling(images_20, db2, db2['n_images'].min()+200)\n",
    "\n",
    "# Calculating the n_images per landmark\n",
    "db1 = images_200.groupby([\"landmark_id\"]).size().reset_index(name='n_images')\n",
    "db2 = images_20.groupby([\"landmark_id\"]).size().reset_index(name='n_images')\n",
    "#Plotting a barplot of the distributions\n",
    "fig, axes = plt.subplots(1, 2,sharey = True, figsize = (20,5))\n",
    "\n",
    "sns.scatterplot(ax=axes[0], x='landmark_id', y='n_images', data=db1, palette=\"mako\")\n",
    "axes[0].set_title(\"Top 200 most frequent landmarks\")\n",
    "\n",
    "sns.scatterplot(ax=axes[1], x='landmark_id', y='n_images', data=db2, palette=\"flare\")\n",
    "axes[1].set_title(\"Top 20 most frequent landmarks\")"
   ]
  },
  {
   "cell_type": "markdown",
   "metadata": {
    "papermill": {
     "duration": 0.03181,
     "end_time": "2021-05-02T10:19:33.231837",
     "exception": false,
     "start_time": "2021-05-02T10:19:33.200027",
     "status": "completed"
    },
    "tags": []
   },
   "source": [
    "With the downsampling function the graphs have changed their shapes. Now all the classes have very similar number of images due to the reduction of the oustanding ones. Moreover, it is more noticeable that as the number of classes increase the number of images per class decrease. The maximum samples per class are setted according to the minimum number of images plus a certain \"variation\" (`200`), just to avoid losing too many images. "
   ]
  },
  {
   "cell_type": "markdown",
   "metadata": {
    "papermill": {
     "duration": 0.031224,
     "end_time": "2021-05-02T10:19:33.294435",
     "exception": false,
     "start_time": "2021-05-02T10:19:33.263211",
     "status": "completed"
    },
    "tags": []
   },
   "source": [
    "Making some calculus we can stablish the proportion of the original dataset that will be used in further project steps."
   ]
  },
  {
   "cell_type": "code",
   "execution_count": 9,
   "metadata": {
    "execution": {
     "iopub.execute_input": "2021-05-02T10:19:33.363481Z",
     "iopub.status.busy": "2021-05-02T10:19:33.362859Z",
     "iopub.status.idle": "2021-05-02T10:19:33.368532Z",
     "shell.execute_reply": "2021-05-02T10:19:33.367704Z"
    },
    "papermill": {
     "duration": 0.042985,
     "end_time": "2021-05-02T10:19:33.368708",
     "exception": false,
     "start_time": "2021-05-02T10:19:33.325723",
     "status": "completed"
    },
    "tags": []
   },
   "outputs": [
    {
     "name": "stdout",
     "output_type": "stream",
     "text": [
      "Top 200 landmarks represent 4.94 % of the entire dataset\n",
      "Top 2000 landmarks represent 1.14 % of the entire dataset\n"
     ]
    }
   ],
   "source": [
    "print(\"Top 200 landmarks represent {:.2f} % of the entire dataset\".format(images_200.shape[0]/train_data.shape[0] * 100))\n",
    "print(\"Top 2000 landmarks represent {:.2f} % of the entire dataset\".format(images_20.shape[0]/train_data.shape[0] * 100))"
   ]
  },
  {
   "cell_type": "markdown",
   "metadata": {
    "papermill": {
     "duration": 0.049778,
     "end_time": "2021-05-02T10:19:33.466793",
     "exception": false,
     "start_time": "2021-05-02T10:19:33.417015",
     "status": "completed"
    },
    "tags": []
   },
   "source": [
    "Although I am not going to make use of a huge part of the dataset, these percentages represent a big number of images as we have seen previously. The problem is simplified due to time and cost constraints of the development of the project."
   ]
  },
  {
   "cell_type": "markdown",
   "metadata": {
    "papermill": {
     "duration": 0.048519,
     "end_time": "2021-05-02T10:19:33.565495",
     "exception": false,
     "start_time": "2021-05-02T10:19:33.516976",
     "status": "completed"
    },
    "tags": []
   },
   "source": [
    "# Data Preparation\n",
    "\n",
    "This stage consist on the preparation of the directory structure to be downloaded from the Kaggle platform. I will divide each of the two sample datasets obtained before in three main folders: **train**, **validation** and finally **test**. Here comes the other part of simplifying the problem. The test sets with which I am going to work are entirely composed by landmark images which is not the case for the given test folder by the Google competition.\n",
    "\n",
    "Following the standard norms and knowing that the sample datasets are big enough, the holdout of images that corresponds to each partition are going to be: `70%` train, `20%` validation and `10%` test."
   ]
  },
  {
   "cell_type": "markdown",
   "metadata": {
    "papermill": {
     "duration": 0.048259,
     "end_time": "2021-05-02T10:19:33.662759",
     "exception": false,
     "start_time": "2021-05-02T10:19:33.614500",
     "status": "completed"
    },
    "tags": []
   },
   "source": [
    "The way of making the directory structure comes from how **Keras** works. The idea is to construct the optimal way to feed the models and do not waste time making unnecesary searches while training and evaluating them. It will look something like the following composition:\n",
    "\n",
    "`--data\n",
    "    |--train\n",
    "        |--landmark_1\n",
    "            |--image_1_landmark_1\n",
    "            |--image_2_landmark_1\n",
    "            ...\n",
    "        |--landmark_2\n",
    "        ...\n",
    "    |--validation\n",
    "    |--test\n",
    "  `"
   ]
  },
  {
   "cell_type": "markdown",
   "metadata": {
    "papermill": {
     "duration": 0.05014,
     "end_time": "2021-05-02T10:19:33.761176",
     "exception": false,
     "start_time": "2021-05-02T10:19:33.711036",
     "status": "completed"
    },
    "tags": []
   },
   "source": [
    "Before starting, there is something important to consider, the classes are not perfeclty balanced, so it is a good practice to make a stratified splits. For this task, I am going to use the well known module `sklearn` that has some built-in functions that make it easy."
   ]
  },
  {
   "cell_type": "code",
   "execution_count": 10,
   "metadata": {
    "execution": {
     "iopub.execute_input": "2021-05-02T10:19:33.876731Z",
     "iopub.status.busy": "2021-05-02T10:19:33.875864Z",
     "iopub.status.idle": "2021-05-02T10:19:33.958545Z",
     "shell.execute_reply": "2021-05-02T10:19:33.957945Z"
    },
    "papermill": {
     "duration": 0.147148,
     "end_time": "2021-05-02T10:19:33.958697",
     "exception": false,
     "start_time": "2021-05-02T10:19:33.811549",
     "status": "completed"
    },
    "tags": []
   },
   "outputs": [],
   "source": [
    "X, y = images_200[\"id\"].to_list(), images_200[\"landmark_id\"].to_list()\n",
    "X_train, X_test_200, y_train, y_test_200 = train_test_split(X, y, test_size = 0.1, random_state = seed, stratify = y)"
   ]
  },
  {
   "cell_type": "markdown",
   "metadata": {
    "papermill": {
     "duration": 0.050225,
     "end_time": "2021-05-02T10:19:34.059504",
     "exception": false,
     "start_time": "2021-05-02T10:19:34.009279",
     "status": "completed"
    },
    "tags": []
   },
   "source": [
    "Now, the same process must be applied again in order to get the validation split. For that, the split is applied on the remaining train set."
   ]
  },
  {
   "cell_type": "code",
   "execution_count": 11,
   "metadata": {
    "execution": {
     "iopub.execute_input": "2021-05-02T10:19:34.171743Z",
     "iopub.status.busy": "2021-05-02T10:19:34.171048Z",
     "iopub.status.idle": "2021-05-02T10:19:34.296623Z",
     "shell.execute_reply": "2021-05-02T10:19:34.296037Z"
    },
    "papermill": {
     "duration": 0.188561,
     "end_time": "2021-05-02T10:19:34.296787",
     "exception": false,
     "start_time": "2021-05-02T10:19:34.108226",
     "status": "completed"
    },
    "tags": []
   },
   "outputs": [],
   "source": [
    "X_train_200, X_val_200, y_train_200, y_val_200 = train_test_split(X_train, y_train, test_size = 0.22, random_state = seed, stratify = y_train) # 0.22 x 0.9 = 0.2"
   ]
  },
  {
   "cell_type": "markdown",
   "metadata": {
    "papermill": {
     "duration": 0.049269,
     "end_time": "2021-05-02T10:19:34.395275",
     "exception": false,
     "start_time": "2021-05-02T10:19:34.346006",
     "status": "completed"
    },
    "tags": []
   },
   "source": [
    "For an ease of operations later, let's build the data frames for each set."
   ]
  },
  {
   "cell_type": "code",
   "execution_count": 12,
   "metadata": {
    "execution": {
     "iopub.execute_input": "2021-05-02T10:19:34.555157Z",
     "iopub.status.busy": "2021-05-02T10:19:34.522368Z",
     "iopub.status.idle": "2021-05-02T10:19:34.581627Z",
     "shell.execute_reply": "2021-05-02T10:19:34.581019Z"
    },
    "papermill": {
     "duration": 0.137075,
     "end_time": "2021-05-02T10:19:34.581784",
     "exception": false,
     "start_time": "2021-05-02T10:19:34.444709",
     "status": "completed"
    },
    "tags": []
   },
   "outputs": [],
   "source": [
    "train = { 'id': X_train_200, 'landmark_id': y_train_200 }  \n",
    "val = { 'id': X_val_200, 'landmark_id': y_val_200 }  \n",
    "test = { 'id': X_test_200, 'landmark_id': y_test_200 }  \n",
    "\n",
    "train_200 = pd.DataFrame(train)\n",
    "val_200 = pd.DataFrame(val)\n",
    "test_200 = pd.DataFrame(test)"
   ]
  },
  {
   "cell_type": "markdown",
   "metadata": {
    "papermill": {
     "duration": 0.04881,
     "end_time": "2021-05-02T10:19:34.679850",
     "exception": false,
     "start_time": "2021-05-02T10:19:34.631040",
     "status": "completed"
    },
    "tags": []
   },
   "source": [
    "Making sure, the process is completed correctly"
   ]
  },
  {
   "cell_type": "code",
   "execution_count": 13,
   "metadata": {
    "execution": {
     "iopub.execute_input": "2021-05-02T10:19:34.796264Z",
     "iopub.status.busy": "2021-05-02T10:19:34.789932Z",
     "iopub.status.idle": "2021-05-02T10:19:34.804289Z",
     "shell.execute_reply": "2021-05-02T10:19:34.803502Z"
    },
    "papermill": {
     "duration": 0.075307,
     "end_time": "2021-05-02T10:19:34.804419",
     "exception": false,
     "start_time": "2021-05-02T10:19:34.729112",
     "status": "completed"
    },
    "tags": []
   },
   "outputs": [
    {
     "data": {
      "text/html": [
       "<div>\n",
       "<style scoped>\n",
       "    .dataframe tbody tr th:only-of-type {\n",
       "        vertical-align: middle;\n",
       "    }\n",
       "\n",
       "    .dataframe tbody tr th {\n",
       "        vertical-align: top;\n",
       "    }\n",
       "\n",
       "    .dataframe thead th {\n",
       "        text-align: right;\n",
       "    }\n",
       "</style>\n",
       "<table border=\"1\" class=\"dataframe\">\n",
       "  <thead>\n",
       "    <tr style=\"text-align: right;\">\n",
       "      <th></th>\n",
       "      <th>id</th>\n",
       "      <th>landmark_id</th>\n",
       "    </tr>\n",
       "  </thead>\n",
       "  <tbody>\n",
       "    <tr>\n",
       "      <th>27431</th>\n",
       "      <td>c6e5cd77e07d790e</td>\n",
       "      <td>96663</td>\n",
       "    </tr>\n",
       "    <tr>\n",
       "      <th>4984</th>\n",
       "      <td>4f0b67a9e9d787a5</td>\n",
       "      <td>193550</td>\n",
       "    </tr>\n",
       "    <tr>\n",
       "      <th>47418</th>\n",
       "      <td>8778766758dad55b</td>\n",
       "      <td>174181</td>\n",
       "    </tr>\n",
       "    <tr>\n",
       "      <th>23008</th>\n",
       "      <td>f93c4d1a4522e549</td>\n",
       "      <td>158818</td>\n",
       "    </tr>\n",
       "    <tr>\n",
       "      <th>47407</th>\n",
       "      <td>0317b74af8867bef</td>\n",
       "      <td>33992</td>\n",
       "    </tr>\n",
       "  </tbody>\n",
       "</table>\n",
       "</div>"
      ],
      "text/plain": [
       "                     id  landmark_id\n",
       "27431  c6e5cd77e07d790e        96663\n",
       "4984   4f0b67a9e9d787a5       193550\n",
       "47418  8778766758dad55b       174181\n",
       "23008  f93c4d1a4522e549       158818\n",
       "47407  0317b74af8867bef        33992"
      ]
     },
     "execution_count": 13,
     "metadata": {},
     "output_type": "execute_result"
    }
   ],
   "source": [
    "train_200.sample(5, random_state=seed)"
   ]
  },
  {
   "cell_type": "code",
   "execution_count": 14,
   "metadata": {
    "execution": {
     "iopub.execute_input": "2021-05-02T10:19:34.883997Z",
     "iopub.status.busy": "2021-05-02T10:19:34.883469Z",
     "iopub.status.idle": "2021-05-02T10:19:34.889057Z",
     "shell.execute_reply": "2021-05-02T10:19:34.888576Z"
    },
    "papermill": {
     "duration": 0.051252,
     "end_time": "2021-05-02T10:19:34.889184",
     "exception": false,
     "start_time": "2021-05-02T10:19:34.837932",
     "status": "completed"
    },
    "tags": []
   },
   "outputs": [
    {
     "data": {
      "text/html": [
       "<div>\n",
       "<style scoped>\n",
       "    .dataframe tbody tr th:only-of-type {\n",
       "        vertical-align: middle;\n",
       "    }\n",
       "\n",
       "    .dataframe tbody tr th {\n",
       "        vertical-align: top;\n",
       "    }\n",
       "\n",
       "    .dataframe thead th {\n",
       "        text-align: right;\n",
       "    }\n",
       "</style>\n",
       "<table border=\"1\" class=\"dataframe\">\n",
       "  <thead>\n",
       "    <tr style=\"text-align: right;\">\n",
       "      <th></th>\n",
       "      <th>id</th>\n",
       "      <th>landmark_id</th>\n",
       "    </tr>\n",
       "  </thead>\n",
       "  <tbody>\n",
       "    <tr>\n",
       "      <th>1783</th>\n",
       "      <td>98cb2f29a86f54ba</td>\n",
       "      <td>73300</td>\n",
       "    </tr>\n",
       "    <tr>\n",
       "      <th>14941</th>\n",
       "      <td>b85390b455e1cc74</td>\n",
       "      <td>194914</td>\n",
       "    </tr>\n",
       "    <tr>\n",
       "      <th>13852</th>\n",
       "      <td>3df95bf5f7faf7c1</td>\n",
       "      <td>168106</td>\n",
       "    </tr>\n",
       "    <tr>\n",
       "      <th>7918</th>\n",
       "      <td>d5a83a10a452150c</td>\n",
       "      <td>125425</td>\n",
       "    </tr>\n",
       "    <tr>\n",
       "      <th>10040</th>\n",
       "      <td>01835434e0b5865d</td>\n",
       "      <td>139894</td>\n",
       "    </tr>\n",
       "  </tbody>\n",
       "</table>\n",
       "</div>"
      ],
      "text/plain": [
       "                     id  landmark_id\n",
       "1783   98cb2f29a86f54ba        73300\n",
       "14941  b85390b455e1cc74       194914\n",
       "13852  3df95bf5f7faf7c1       168106\n",
       "7918   d5a83a10a452150c       125425\n",
       "10040  01835434e0b5865d       139894"
      ]
     },
     "execution_count": 14,
     "metadata": {},
     "output_type": "execute_result"
    }
   ],
   "source": [
    "val_200.sample(5, random_state=seed)"
   ]
  },
  {
   "cell_type": "code",
   "execution_count": 15,
   "metadata": {
    "execution": {
     "iopub.execute_input": "2021-05-02T10:19:34.970163Z",
     "iopub.status.busy": "2021-05-02T10:19:34.969236Z",
     "iopub.status.idle": "2021-05-02T10:19:34.974786Z",
     "shell.execute_reply": "2021-05-02T10:19:34.975503Z"
    },
    "papermill": {
     "duration": 0.052092,
     "end_time": "2021-05-02T10:19:34.975692",
     "exception": false,
     "start_time": "2021-05-02T10:19:34.923600",
     "status": "completed"
    },
    "tags": []
   },
   "outputs": [
    {
     "data": {
      "text/html": [
       "<div>\n",
       "<style scoped>\n",
       "    .dataframe tbody tr th:only-of-type {\n",
       "        vertical-align: middle;\n",
       "    }\n",
       "\n",
       "    .dataframe tbody tr th {\n",
       "        vertical-align: top;\n",
       "    }\n",
       "\n",
       "    .dataframe thead th {\n",
       "        text-align: right;\n",
       "    }\n",
       "</style>\n",
       "<table border=\"1\" class=\"dataframe\">\n",
       "  <thead>\n",
       "    <tr style=\"text-align: right;\">\n",
       "      <th></th>\n",
       "      <th>id</th>\n",
       "      <th>landmark_id</th>\n",
       "    </tr>\n",
       "  </thead>\n",
       "  <tbody>\n",
       "    <tr>\n",
       "      <th>6648</th>\n",
       "      <td>ffb1c6a8f40e5d58</td>\n",
       "      <td>70644</td>\n",
       "    </tr>\n",
       "    <tr>\n",
       "      <th>7552</th>\n",
       "      <td>ad80447db3ca58e2</td>\n",
       "      <td>21703</td>\n",
       "    </tr>\n",
       "    <tr>\n",
       "      <th>290</th>\n",
       "      <td>6ed5037a206525ba</td>\n",
       "      <td>80147</td>\n",
       "    </tr>\n",
       "    <tr>\n",
       "      <th>256</th>\n",
       "      <td>a42afeab0a7c608f</td>\n",
       "      <td>113209</td>\n",
       "    </tr>\n",
       "    <tr>\n",
       "      <th>1252</th>\n",
       "      <td>d42b8d0986fcb2ee</td>\n",
       "      <td>146497</td>\n",
       "    </tr>\n",
       "  </tbody>\n",
       "</table>\n",
       "</div>"
      ],
      "text/plain": [
       "                    id  landmark_id\n",
       "6648  ffb1c6a8f40e5d58        70644\n",
       "7552  ad80447db3ca58e2        21703\n",
       "290   6ed5037a206525ba        80147\n",
       "256   a42afeab0a7c608f       113209\n",
       "1252  d42b8d0986fcb2ee       146497"
      ]
     },
     "execution_count": 15,
     "metadata": {},
     "output_type": "execute_result"
    }
   ],
   "source": [
    "test_200.sample(5, random_state=seed)"
   ]
  },
  {
   "cell_type": "markdown",
   "metadata": {
    "papermill": {
     "duration": 0.054495,
     "end_time": "2021-05-02T10:19:35.084874",
     "exception": false,
     "start_time": "2021-05-02T10:19:35.030379",
     "status": "completed"
    },
    "tags": []
   },
   "source": [
    "Repeat the same with the sample of 20 classes."
   ]
  },
  {
   "cell_type": "code",
   "execution_count": 16,
   "metadata": {
    "execution": {
     "iopub.execute_input": "2021-05-02T10:19:35.203009Z",
     "iopub.status.busy": "2021-05-02T10:19:35.202340Z",
     "iopub.status.idle": "2021-05-02T10:19:35.236212Z",
     "shell.execute_reply": "2021-05-02T10:19:35.235592Z"
    },
    "papermill": {
     "duration": 0.099101,
     "end_time": "2021-05-02T10:19:35.236352",
     "exception": false,
     "start_time": "2021-05-02T10:19:35.137251",
     "status": "completed"
    },
    "tags": []
   },
   "outputs": [],
   "source": [
    "X, y = images_20[\"id\"].to_list(), images_20[\"landmark_id\"].to_list()\n",
    "X_train, X_test_20, y_train, y_test_20 = train_test_split(X, y, test_size = 0.1, random_state = seed, stratify = y)"
   ]
  },
  {
   "cell_type": "code",
   "execution_count": 17,
   "metadata": {
    "execution": {
     "iopub.execute_input": "2021-05-02T10:19:35.349962Z",
     "iopub.status.busy": "2021-05-02T10:19:35.349259Z",
     "iopub.status.idle": "2021-05-02T10:19:35.380011Z",
     "shell.execute_reply": "2021-05-02T10:19:35.379272Z"
    },
    "papermill": {
     "duration": 0.09223,
     "end_time": "2021-05-02T10:19:35.380155",
     "exception": false,
     "start_time": "2021-05-02T10:19:35.287925",
     "status": "completed"
    },
    "tags": []
   },
   "outputs": [],
   "source": [
    "X_train_20, X_val_20, y_train_20, y_val_20 = train_test_split(X_train, y_train, test_size = 0.22, random_state = seed, stratify = y_train) # 0.22 x 0.9 = 0.2"
   ]
  },
  {
   "cell_type": "code",
   "execution_count": 18,
   "metadata": {
    "execution": {
     "iopub.execute_input": "2021-05-02T10:19:35.507386Z",
     "iopub.status.busy": "2021-05-02T10:19:35.499671Z",
     "iopub.status.idle": "2021-05-02T10:19:35.511169Z",
     "shell.execute_reply": "2021-05-02T10:19:35.510498Z"
    },
    "papermill": {
     "duration": 0.079289,
     "end_time": "2021-05-02T10:19:35.511319",
     "exception": false,
     "start_time": "2021-05-02T10:19:35.432030",
     "status": "completed"
    },
    "tags": []
   },
   "outputs": [],
   "source": [
    "train = { 'id': X_train_20, 'landmark_id': y_train_20 }  \n",
    "val = { 'id': X_val_20, 'landmark_id': y_val_20 }  \n",
    "test = { 'id': X_test_20, 'landmark_id': y_test_20 }  \n",
    "\n",
    "train_20 = pd.DataFrame(train)\n",
    "val_20 = pd.DataFrame(val)\n",
    "test_20 = pd.DataFrame(test)"
   ]
  },
  {
   "cell_type": "code",
   "execution_count": 19,
   "metadata": {
    "execution": {
     "iopub.execute_input": "2021-05-02T10:19:35.631023Z",
     "iopub.status.busy": "2021-05-02T10:19:35.620285Z",
     "iopub.status.idle": "2021-05-02T10:19:35.638683Z",
     "shell.execute_reply": "2021-05-02T10:19:35.638202Z"
    },
    "papermill": {
     "duration": 0.075399,
     "end_time": "2021-05-02T10:19:35.638803",
     "exception": false,
     "start_time": "2021-05-02T10:19:35.563404",
     "status": "completed"
    },
    "tags": []
   },
   "outputs": [
    {
     "data": {
      "text/html": [
       "<div>\n",
       "<style scoped>\n",
       "    .dataframe tbody tr th:only-of-type {\n",
       "        vertical-align: middle;\n",
       "    }\n",
       "\n",
       "    .dataframe tbody tr th {\n",
       "        vertical-align: top;\n",
       "    }\n",
       "\n",
       "    .dataframe thead th {\n",
       "        text-align: right;\n",
       "    }\n",
       "</style>\n",
       "<table border=\"1\" class=\"dataframe\">\n",
       "  <thead>\n",
       "    <tr style=\"text-align: right;\">\n",
       "      <th></th>\n",
       "      <th>id</th>\n",
       "      <th>landmark_id</th>\n",
       "    </tr>\n",
       "  </thead>\n",
       "  <tbody>\n",
       "    <tr>\n",
       "      <th>5878</th>\n",
       "      <td>d7f07d4c345cec1b</td>\n",
       "      <td>120734</td>\n",
       "    </tr>\n",
       "    <tr>\n",
       "      <th>1311</th>\n",
       "      <td>430dc2a394f9c954</td>\n",
       "      <td>36748</td>\n",
       "    </tr>\n",
       "    <tr>\n",
       "      <th>6501</th>\n",
       "      <td>d1e2cb92b2e1040c</td>\n",
       "      <td>20409</td>\n",
       "    </tr>\n",
       "    <tr>\n",
       "      <th>3727</th>\n",
       "      <td>92cdb5fa6e9dbd2b</td>\n",
       "      <td>9070</td>\n",
       "    </tr>\n",
       "    <tr>\n",
       "      <th>6890</th>\n",
       "      <td>c3a67d84314ba975</td>\n",
       "      <td>194914</td>\n",
       "    </tr>\n",
       "  </tbody>\n",
       "</table>\n",
       "</div>"
      ],
      "text/plain": [
       "                    id  landmark_id\n",
       "5878  d7f07d4c345cec1b       120734\n",
       "1311  430dc2a394f9c954        36748\n",
       "6501  d1e2cb92b2e1040c        20409\n",
       "3727  92cdb5fa6e9dbd2b         9070\n",
       "6890  c3a67d84314ba975       194914"
      ]
     },
     "execution_count": 19,
     "metadata": {},
     "output_type": "execute_result"
    }
   ],
   "source": [
    "train_20.sample(5, random_state=seed)"
   ]
  },
  {
   "cell_type": "code",
   "execution_count": 20,
   "metadata": {
    "execution": {
     "iopub.execute_input": "2021-05-02T10:19:35.719165Z",
     "iopub.status.busy": "2021-05-02T10:19:35.718578Z",
     "iopub.status.idle": "2021-05-02T10:19:35.724103Z",
     "shell.execute_reply": "2021-05-02T10:19:35.723399Z"
    },
    "papermill": {
     "duration": 0.050826,
     "end_time": "2021-05-02T10:19:35.724249",
     "exception": false,
     "start_time": "2021-05-02T10:19:35.673423",
     "status": "completed"
    },
    "tags": []
   },
   "outputs": [
    {
     "data": {
      "text/html": [
       "<div>\n",
       "<style scoped>\n",
       "    .dataframe tbody tr th:only-of-type {\n",
       "        vertical-align: middle;\n",
       "    }\n",
       "\n",
       "    .dataframe tbody tr th {\n",
       "        vertical-align: top;\n",
       "    }\n",
       "\n",
       "    .dataframe thead th {\n",
       "        text-align: right;\n",
       "    }\n",
       "</style>\n",
       "<table border=\"1\" class=\"dataframe\">\n",
       "  <thead>\n",
       "    <tr style=\"text-align: right;\">\n",
       "      <th></th>\n",
       "      <th>id</th>\n",
       "      <th>landmark_id</th>\n",
       "    </tr>\n",
       "  </thead>\n",
       "  <tbody>\n",
       "    <tr>\n",
       "      <th>2828</th>\n",
       "      <td>20786f263ac182fc</td>\n",
       "      <td>10419</td>\n",
       "    </tr>\n",
       "    <tr>\n",
       "      <th>2509</th>\n",
       "      <td>cce1f70e740de4ec</td>\n",
       "      <td>176018</td>\n",
       "    </tr>\n",
       "    <tr>\n",
       "      <th>1181</th>\n",
       "      <td>c2872a210ed9a163</td>\n",
       "      <td>45428</td>\n",
       "    </tr>\n",
       "    <tr>\n",
       "      <th>1447</th>\n",
       "      <td>278197b781518612</td>\n",
       "      <td>149980</td>\n",
       "    </tr>\n",
       "    <tr>\n",
       "      <th>3111</th>\n",
       "      <td>eb4fd63c9198c301</td>\n",
       "      <td>36748</td>\n",
       "    </tr>\n",
       "  </tbody>\n",
       "</table>\n",
       "</div>"
      ],
      "text/plain": [
       "                    id  landmark_id\n",
       "2828  20786f263ac182fc        10419\n",
       "2509  cce1f70e740de4ec       176018\n",
       "1181  c2872a210ed9a163        45428\n",
       "1447  278197b781518612       149980\n",
       "3111  eb4fd63c9198c301        36748"
      ]
     },
     "execution_count": 20,
     "metadata": {},
     "output_type": "execute_result"
    }
   ],
   "source": [
    "val_20.sample(5, random_state=seed)"
   ]
  },
  {
   "cell_type": "code",
   "execution_count": 21,
   "metadata": {
    "execution": {
     "iopub.execute_input": "2021-05-02T10:19:35.845120Z",
     "iopub.status.busy": "2021-05-02T10:19:35.844422Z",
     "iopub.status.idle": "2021-05-02T10:19:35.849536Z",
     "shell.execute_reply": "2021-05-02T10:19:35.848840Z"
    },
    "papermill": {
     "duration": 0.071111,
     "end_time": "2021-05-02T10:19:35.849691",
     "exception": false,
     "start_time": "2021-05-02T10:19:35.778580",
     "status": "completed"
    },
    "tags": []
   },
   "outputs": [
    {
     "data": {
      "text/html": [
       "<div>\n",
       "<style scoped>\n",
       "    .dataframe tbody tr th:only-of-type {\n",
       "        vertical-align: middle;\n",
       "    }\n",
       "\n",
       "    .dataframe tbody tr th {\n",
       "        vertical-align: top;\n",
       "    }\n",
       "\n",
       "    .dataframe thead th {\n",
       "        text-align: right;\n",
       "    }\n",
       "</style>\n",
       "<table border=\"1\" class=\"dataframe\">\n",
       "  <thead>\n",
       "    <tr style=\"text-align: right;\">\n",
       "      <th></th>\n",
       "      <th>id</th>\n",
       "      <th>landmark_id</th>\n",
       "    </tr>\n",
       "  </thead>\n",
       "  <tbody>\n",
       "    <tr>\n",
       "      <th>1736</th>\n",
       "      <td>ff0d60765a3c1423</td>\n",
       "      <td>176528</td>\n",
       "    </tr>\n",
       "    <tr>\n",
       "      <th>1772</th>\n",
       "      <td>d0434f5c21d6a616</td>\n",
       "      <td>113209</td>\n",
       "    </tr>\n",
       "    <tr>\n",
       "      <th>902</th>\n",
       "      <td>b59fffb7566c07e2</td>\n",
       "      <td>120734</td>\n",
       "    </tr>\n",
       "    <tr>\n",
       "      <th>992</th>\n",
       "      <td>9d5c120afb13250d</td>\n",
       "      <td>20409</td>\n",
       "    </tr>\n",
       "    <tr>\n",
       "      <th>899</th>\n",
       "      <td>4da2da5bc9d57013</td>\n",
       "      <td>9070</td>\n",
       "    </tr>\n",
       "  </tbody>\n",
       "</table>\n",
       "</div>"
      ],
      "text/plain": [
       "                    id  landmark_id\n",
       "1736  ff0d60765a3c1423       176528\n",
       "1772  d0434f5c21d6a616       113209\n",
       "902   b59fffb7566c07e2       120734\n",
       "992   9d5c120afb13250d        20409\n",
       "899   4da2da5bc9d57013         9070"
      ]
     },
     "execution_count": 21,
     "metadata": {},
     "output_type": "execute_result"
    }
   ],
   "source": [
    "test_20.sample(5, random_state=seed)"
   ]
  },
  {
   "cell_type": "markdown",
   "metadata": {
    "papermill": {
     "duration": 0.053224,
     "end_time": "2021-05-02T10:19:35.956528",
     "exception": false,
     "start_time": "2021-05-02T10:19:35.903304",
     "status": "completed"
    },
    "tags": []
   },
   "source": [
    "Before making the directories, let's save the `csv` files with the original paths. It is a good idea to keep track of the images we are going to use. By this way further experiments can be reproducible and easily shareable with the community."
   ]
  },
  {
   "cell_type": "code",
   "execution_count": 22,
   "metadata": {
    "execution": {
     "iopub.execute_input": "2021-05-02T10:19:36.076809Z",
     "iopub.status.busy": "2021-05-02T10:19:36.076103Z",
     "iopub.status.idle": "2021-05-02T10:19:36.077504Z",
     "shell.execute_reply": "2021-05-02T10:19:36.078015Z"
    },
    "papermill": {
     "duration": 0.066915,
     "end_time": "2021-05-02T10:19:36.078210",
     "exception": false,
     "start_time": "2021-05-02T10:19:36.011295",
     "status": "completed"
    },
    "tags": []
   },
   "outputs": [],
   "source": [
    "def build_paths(df):\n",
    "    paths = [\"../input/landmark-recognition-2020/train/{}/{}/{}/{}.jpg\".format(row.id[0],row.id[1],row.id[2],row.id) for row in df.itertuples()]\n",
    "    df['path'] = paths\n",
    "    return df"
   ]
  },
  {
   "cell_type": "code",
   "execution_count": 23,
   "metadata": {
    "execution": {
     "iopub.execute_input": "2021-05-02T10:19:36.193921Z",
     "iopub.status.busy": "2021-05-02T10:19:36.193239Z",
     "iopub.status.idle": "2021-05-02T10:19:36.317852Z",
     "shell.execute_reply": "2021-05-02T10:19:36.318373Z"
    },
    "papermill": {
     "duration": 0.184393,
     "end_time": "2021-05-02T10:19:36.318591",
     "exception": false,
     "start_time": "2021-05-02T10:19:36.134198",
     "status": "completed"
    },
    "tags": []
   },
   "outputs": [],
   "source": [
    "train_200 = build_paths(train_200)\n",
    "val_200 = build_paths(val_200)\n",
    "test_200 = build_paths(test_200)"
   ]
  },
  {
   "cell_type": "markdown",
   "metadata": {
    "papermill": {
     "duration": 0.055023,
     "end_time": "2021-05-02T10:19:36.429127",
     "exception": false,
     "start_time": "2021-05-02T10:19:36.374104",
     "status": "completed"
    },
    "tags": []
   },
   "source": [
    "Checking everything is correct."
   ]
  },
  {
   "cell_type": "code",
   "execution_count": 24,
   "metadata": {
    "execution": {
     "iopub.execute_input": "2021-05-02T10:19:36.549949Z",
     "iopub.status.busy": "2021-05-02T10:19:36.549251Z",
     "iopub.status.idle": "2021-05-02T10:19:36.569371Z",
     "shell.execute_reply": "2021-05-02T10:19:36.570022Z"
    },
    "papermill": {
     "duration": 0.085113,
     "end_time": "2021-05-02T10:19:36.570224",
     "exception": false,
     "start_time": "2021-05-02T10:19:36.485111",
     "status": "completed"
    },
    "tags": []
   },
   "outputs": [
    {
     "data": {
      "text/html": [
       "<div>\n",
       "<style scoped>\n",
       "    .dataframe tbody tr th:only-of-type {\n",
       "        vertical-align: middle;\n",
       "    }\n",
       "\n",
       "    .dataframe tbody tr th {\n",
       "        vertical-align: top;\n",
       "    }\n",
       "\n",
       "    .dataframe thead th {\n",
       "        text-align: right;\n",
       "    }\n",
       "</style>\n",
       "<table border=\"1\" class=\"dataframe\">\n",
       "  <thead>\n",
       "    <tr style=\"text-align: right;\">\n",
       "      <th></th>\n",
       "      <th>id</th>\n",
       "      <th>landmark_id</th>\n",
       "      <th>path</th>\n",
       "    </tr>\n",
       "  </thead>\n",
       "  <tbody>\n",
       "    <tr>\n",
       "      <th>27431</th>\n",
       "      <td>c6e5cd77e07d790e</td>\n",
       "      <td>96663</td>\n",
       "      <td>../input/landmark-recognition-2020/train/c/6/e...</td>\n",
       "    </tr>\n",
       "    <tr>\n",
       "      <th>4984</th>\n",
       "      <td>4f0b67a9e9d787a5</td>\n",
       "      <td>193550</td>\n",
       "      <td>../input/landmark-recognition-2020/train/4/f/0...</td>\n",
       "    </tr>\n",
       "    <tr>\n",
       "      <th>47418</th>\n",
       "      <td>8778766758dad55b</td>\n",
       "      <td>174181</td>\n",
       "      <td>../input/landmark-recognition-2020/train/8/7/7...</td>\n",
       "    </tr>\n",
       "    <tr>\n",
       "      <th>23008</th>\n",
       "      <td>f93c4d1a4522e549</td>\n",
       "      <td>158818</td>\n",
       "      <td>../input/landmark-recognition-2020/train/f/9/3...</td>\n",
       "    </tr>\n",
       "    <tr>\n",
       "      <th>47407</th>\n",
       "      <td>0317b74af8867bef</td>\n",
       "      <td>33992</td>\n",
       "      <td>../input/landmark-recognition-2020/train/0/3/1...</td>\n",
       "    </tr>\n",
       "  </tbody>\n",
       "</table>\n",
       "</div>"
      ],
      "text/plain": [
       "                     id  landmark_id  \\\n",
       "27431  c6e5cd77e07d790e        96663   \n",
       "4984   4f0b67a9e9d787a5       193550   \n",
       "47418  8778766758dad55b       174181   \n",
       "23008  f93c4d1a4522e549       158818   \n",
       "47407  0317b74af8867bef        33992   \n",
       "\n",
       "                                                    path  \n",
       "27431  ../input/landmark-recognition-2020/train/c/6/e...  \n",
       "4984   ../input/landmark-recognition-2020/train/4/f/0...  \n",
       "47418  ../input/landmark-recognition-2020/train/8/7/7...  \n",
       "23008  ../input/landmark-recognition-2020/train/f/9/3...  \n",
       "47407  ../input/landmark-recognition-2020/train/0/3/1...  "
      ]
     },
     "execution_count": 24,
     "metadata": {},
     "output_type": "execute_result"
    }
   ],
   "source": [
    "train_200.sample(5, random_state=seed)"
   ]
  },
  {
   "cell_type": "code",
   "execution_count": 25,
   "metadata": {
    "execution": {
     "iopub.execute_input": "2021-05-02T10:19:36.696990Z",
     "iopub.status.busy": "2021-05-02T10:19:36.688823Z",
     "iopub.status.idle": "2021-05-02T10:19:36.701924Z",
     "shell.execute_reply": "2021-05-02T10:19:36.702528Z"
    },
    "papermill": {
     "duration": 0.077106,
     "end_time": "2021-05-02T10:19:36.702719",
     "exception": false,
     "start_time": "2021-05-02T10:19:36.625613",
     "status": "completed"
    },
    "tags": []
   },
   "outputs": [
    {
     "data": {
      "text/html": [
       "<div>\n",
       "<style scoped>\n",
       "    .dataframe tbody tr th:only-of-type {\n",
       "        vertical-align: middle;\n",
       "    }\n",
       "\n",
       "    .dataframe tbody tr th {\n",
       "        vertical-align: top;\n",
       "    }\n",
       "\n",
       "    .dataframe thead th {\n",
       "        text-align: right;\n",
       "    }\n",
       "</style>\n",
       "<table border=\"1\" class=\"dataframe\">\n",
       "  <thead>\n",
       "    <tr style=\"text-align: right;\">\n",
       "      <th></th>\n",
       "      <th>id</th>\n",
       "      <th>landmark_id</th>\n",
       "      <th>path</th>\n",
       "    </tr>\n",
       "  </thead>\n",
       "  <tbody>\n",
       "    <tr>\n",
       "      <th>1783</th>\n",
       "      <td>98cb2f29a86f54ba</td>\n",
       "      <td>73300</td>\n",
       "      <td>../input/landmark-recognition-2020/train/9/8/c...</td>\n",
       "    </tr>\n",
       "    <tr>\n",
       "      <th>14941</th>\n",
       "      <td>b85390b455e1cc74</td>\n",
       "      <td>194914</td>\n",
       "      <td>../input/landmark-recognition-2020/train/b/8/5...</td>\n",
       "    </tr>\n",
       "    <tr>\n",
       "      <th>13852</th>\n",
       "      <td>3df95bf5f7faf7c1</td>\n",
       "      <td>168106</td>\n",
       "      <td>../input/landmark-recognition-2020/train/3/d/f...</td>\n",
       "    </tr>\n",
       "    <tr>\n",
       "      <th>7918</th>\n",
       "      <td>d5a83a10a452150c</td>\n",
       "      <td>125425</td>\n",
       "      <td>../input/landmark-recognition-2020/train/d/5/a...</td>\n",
       "    </tr>\n",
       "    <tr>\n",
       "      <th>10040</th>\n",
       "      <td>01835434e0b5865d</td>\n",
       "      <td>139894</td>\n",
       "      <td>../input/landmark-recognition-2020/train/0/1/8...</td>\n",
       "    </tr>\n",
       "  </tbody>\n",
       "</table>\n",
       "</div>"
      ],
      "text/plain": [
       "                     id  landmark_id  \\\n",
       "1783   98cb2f29a86f54ba        73300   \n",
       "14941  b85390b455e1cc74       194914   \n",
       "13852  3df95bf5f7faf7c1       168106   \n",
       "7918   d5a83a10a452150c       125425   \n",
       "10040  01835434e0b5865d       139894   \n",
       "\n",
       "                                                    path  \n",
       "1783   ../input/landmark-recognition-2020/train/9/8/c...  \n",
       "14941  ../input/landmark-recognition-2020/train/b/8/5...  \n",
       "13852  ../input/landmark-recognition-2020/train/3/d/f...  \n",
       "7918   ../input/landmark-recognition-2020/train/d/5/a...  \n",
       "10040  ../input/landmark-recognition-2020/train/0/1/8...  "
      ]
     },
     "execution_count": 25,
     "metadata": {},
     "output_type": "execute_result"
    }
   ],
   "source": [
    "val_200.sample(5, random_state=seed)"
   ]
  },
  {
   "cell_type": "code",
   "execution_count": 26,
   "metadata": {
    "execution": {
     "iopub.execute_input": "2021-05-02T10:19:36.789368Z",
     "iopub.status.busy": "2021-05-02T10:19:36.788659Z",
     "iopub.status.idle": "2021-05-02T10:19:36.801130Z",
     "shell.execute_reply": "2021-05-02T10:19:36.801527Z"
    },
    "papermill": {
     "duration": 0.054747,
     "end_time": "2021-05-02T10:19:36.801671",
     "exception": false,
     "start_time": "2021-05-02T10:19:36.746924",
     "status": "completed"
    },
    "tags": []
   },
   "outputs": [
    {
     "data": {
      "text/html": [
       "<div>\n",
       "<style scoped>\n",
       "    .dataframe tbody tr th:only-of-type {\n",
       "        vertical-align: middle;\n",
       "    }\n",
       "\n",
       "    .dataframe tbody tr th {\n",
       "        vertical-align: top;\n",
       "    }\n",
       "\n",
       "    .dataframe thead th {\n",
       "        text-align: right;\n",
       "    }\n",
       "</style>\n",
       "<table border=\"1\" class=\"dataframe\">\n",
       "  <thead>\n",
       "    <tr style=\"text-align: right;\">\n",
       "      <th></th>\n",
       "      <th>id</th>\n",
       "      <th>landmark_id</th>\n",
       "      <th>path</th>\n",
       "    </tr>\n",
       "  </thead>\n",
       "  <tbody>\n",
       "    <tr>\n",
       "      <th>6648</th>\n",
       "      <td>ffb1c6a8f40e5d58</td>\n",
       "      <td>70644</td>\n",
       "      <td>../input/landmark-recognition-2020/train/f/f/b...</td>\n",
       "    </tr>\n",
       "    <tr>\n",
       "      <th>7552</th>\n",
       "      <td>ad80447db3ca58e2</td>\n",
       "      <td>21703</td>\n",
       "      <td>../input/landmark-recognition-2020/train/a/d/8...</td>\n",
       "    </tr>\n",
       "    <tr>\n",
       "      <th>290</th>\n",
       "      <td>6ed5037a206525ba</td>\n",
       "      <td>80147</td>\n",
       "      <td>../input/landmark-recognition-2020/train/6/e/d...</td>\n",
       "    </tr>\n",
       "    <tr>\n",
       "      <th>256</th>\n",
       "      <td>a42afeab0a7c608f</td>\n",
       "      <td>113209</td>\n",
       "      <td>../input/landmark-recognition-2020/train/a/4/2...</td>\n",
       "    </tr>\n",
       "    <tr>\n",
       "      <th>1252</th>\n",
       "      <td>d42b8d0986fcb2ee</td>\n",
       "      <td>146497</td>\n",
       "      <td>../input/landmark-recognition-2020/train/d/4/2...</td>\n",
       "    </tr>\n",
       "  </tbody>\n",
       "</table>\n",
       "</div>"
      ],
      "text/plain": [
       "                    id  landmark_id  \\\n",
       "6648  ffb1c6a8f40e5d58        70644   \n",
       "7552  ad80447db3ca58e2        21703   \n",
       "290   6ed5037a206525ba        80147   \n",
       "256   a42afeab0a7c608f       113209   \n",
       "1252  d42b8d0986fcb2ee       146497   \n",
       "\n",
       "                                                   path  \n",
       "6648  ../input/landmark-recognition-2020/train/f/f/b...  \n",
       "7552  ../input/landmark-recognition-2020/train/a/d/8...  \n",
       "290   ../input/landmark-recognition-2020/train/6/e/d...  \n",
       "256   ../input/landmark-recognition-2020/train/a/4/2...  \n",
       "1252  ../input/landmark-recognition-2020/train/d/4/2...  "
      ]
     },
     "execution_count": 26,
     "metadata": {},
     "output_type": "execute_result"
    }
   ],
   "source": [
    "test_200.sample(5, random_state=seed)"
   ]
  },
  {
   "cell_type": "markdown",
   "metadata": {
    "papermill": {
     "duration": 0.037752,
     "end_time": "2021-05-02T10:19:36.875925",
     "exception": false,
     "start_time": "2021-05-02T10:19:36.838173",
     "status": "completed"
    },
    "tags": []
   },
   "source": [
    "Saving the files."
   ]
  },
  {
   "cell_type": "code",
   "execution_count": 27,
   "metadata": {
    "execution": {
     "iopub.execute_input": "2021-05-02T10:19:36.956872Z",
     "iopub.status.busy": "2021-05-02T10:19:36.956198Z",
     "iopub.status.idle": "2021-05-02T10:19:37.172179Z",
     "shell.execute_reply": "2021-05-02T10:19:37.171591Z"
    },
    "papermill": {
     "duration": 0.258948,
     "end_time": "2021-05-02T10:19:37.172338",
     "exception": false,
     "start_time": "2021-05-02T10:19:36.913390",
     "status": "completed"
    },
    "tags": []
   },
   "outputs": [],
   "source": [
    "train_200.to_csv('train_200.csv',index=False)\n",
    "val_200.to_csv('val_200.csv',index=False)\n",
    "test_200.to_csv('test_200.csv',index=False)"
   ]
  },
  {
   "cell_type": "markdown",
   "metadata": {
    "papermill": {
     "duration": 0.057763,
     "end_time": "2021-05-02T10:19:37.287898",
     "exception": false,
     "start_time": "2021-05-02T10:19:37.230135",
     "status": "completed"
    },
    "tags": []
   },
   "source": [
    "The same operation with the other sample."
   ]
  },
  {
   "cell_type": "code",
   "execution_count": 28,
   "metadata": {
    "execution": {
     "iopub.execute_input": "2021-05-02T10:19:37.410992Z",
     "iopub.status.busy": "2021-05-02T10:19:37.410267Z",
     "iopub.status.idle": "2021-05-02T10:19:37.442337Z",
     "shell.execute_reply": "2021-05-02T10:19:37.442872Z"
    },
    "papermill": {
     "duration": 0.098829,
     "end_time": "2021-05-02T10:19:37.443083",
     "exception": false,
     "start_time": "2021-05-02T10:19:37.344254",
     "status": "completed"
    },
    "tags": []
   },
   "outputs": [],
   "source": [
    "train_20 = build_paths(train_20)\n",
    "val_20 = build_paths(val_20)\n",
    "test_20 = build_paths(test_20)"
   ]
  },
  {
   "cell_type": "markdown",
   "metadata": {
    "papermill": {
     "duration": 0.058863,
     "end_time": "2021-05-02T10:19:37.560636",
     "exception": false,
     "start_time": "2021-05-02T10:19:37.501773",
     "status": "completed"
    },
    "tags": []
   },
   "source": [
    "Checking everything is correct."
   ]
  },
  {
   "cell_type": "code",
   "execution_count": 29,
   "metadata": {
    "execution": {
     "iopub.execute_input": "2021-05-02T10:19:37.685359Z",
     "iopub.status.busy": "2021-05-02T10:19:37.684872Z",
     "iopub.status.idle": "2021-05-02T10:19:37.688734Z",
     "shell.execute_reply": "2021-05-02T10:19:37.688164Z"
    },
    "papermill": {
     "duration": 0.071011,
     "end_time": "2021-05-02T10:19:37.688850",
     "exception": false,
     "start_time": "2021-05-02T10:19:37.617839",
     "status": "completed"
    },
    "tags": []
   },
   "outputs": [
    {
     "data": {
      "text/html": [
       "<div>\n",
       "<style scoped>\n",
       "    .dataframe tbody tr th:only-of-type {\n",
       "        vertical-align: middle;\n",
       "    }\n",
       "\n",
       "    .dataframe tbody tr th {\n",
       "        vertical-align: top;\n",
       "    }\n",
       "\n",
       "    .dataframe thead th {\n",
       "        text-align: right;\n",
       "    }\n",
       "</style>\n",
       "<table border=\"1\" class=\"dataframe\">\n",
       "  <thead>\n",
       "    <tr style=\"text-align: right;\">\n",
       "      <th></th>\n",
       "      <th>id</th>\n",
       "      <th>landmark_id</th>\n",
       "      <th>path</th>\n",
       "    </tr>\n",
       "  </thead>\n",
       "  <tbody>\n",
       "    <tr>\n",
       "      <th>5878</th>\n",
       "      <td>d7f07d4c345cec1b</td>\n",
       "      <td>120734</td>\n",
       "      <td>../input/landmark-recognition-2020/train/d/7/f...</td>\n",
       "    </tr>\n",
       "    <tr>\n",
       "      <th>1311</th>\n",
       "      <td>430dc2a394f9c954</td>\n",
       "      <td>36748</td>\n",
       "      <td>../input/landmark-recognition-2020/train/4/3/0...</td>\n",
       "    </tr>\n",
       "    <tr>\n",
       "      <th>6501</th>\n",
       "      <td>d1e2cb92b2e1040c</td>\n",
       "      <td>20409</td>\n",
       "      <td>../input/landmark-recognition-2020/train/d/1/e...</td>\n",
       "    </tr>\n",
       "    <tr>\n",
       "      <th>3727</th>\n",
       "      <td>92cdb5fa6e9dbd2b</td>\n",
       "      <td>9070</td>\n",
       "      <td>../input/landmark-recognition-2020/train/9/2/c...</td>\n",
       "    </tr>\n",
       "    <tr>\n",
       "      <th>6890</th>\n",
       "      <td>c3a67d84314ba975</td>\n",
       "      <td>194914</td>\n",
       "      <td>../input/landmark-recognition-2020/train/c/3/a...</td>\n",
       "    </tr>\n",
       "  </tbody>\n",
       "</table>\n",
       "</div>"
      ],
      "text/plain": [
       "                    id  landmark_id  \\\n",
       "5878  d7f07d4c345cec1b       120734   \n",
       "1311  430dc2a394f9c954        36748   \n",
       "6501  d1e2cb92b2e1040c        20409   \n",
       "3727  92cdb5fa6e9dbd2b         9070   \n",
       "6890  c3a67d84314ba975       194914   \n",
       "\n",
       "                                                   path  \n",
       "5878  ../input/landmark-recognition-2020/train/d/7/f...  \n",
       "1311  ../input/landmark-recognition-2020/train/4/3/0...  \n",
       "6501  ../input/landmark-recognition-2020/train/d/1/e...  \n",
       "3727  ../input/landmark-recognition-2020/train/9/2/c...  \n",
       "6890  ../input/landmark-recognition-2020/train/c/3/a...  "
      ]
     },
     "execution_count": 29,
     "metadata": {},
     "output_type": "execute_result"
    }
   ],
   "source": [
    "train_20.sample(5, random_state=seed)"
   ]
  },
  {
   "cell_type": "code",
   "execution_count": 30,
   "metadata": {
    "execution": {
     "iopub.execute_input": "2021-05-02T10:19:37.773556Z",
     "iopub.status.busy": "2021-05-02T10:19:37.772883Z",
     "iopub.status.idle": "2021-05-02T10:19:37.784424Z",
     "shell.execute_reply": "2021-05-02T10:19:37.783971Z"
    },
    "papermill": {
     "duration": 0.05838,
     "end_time": "2021-05-02T10:19:37.784570",
     "exception": false,
     "start_time": "2021-05-02T10:19:37.726190",
     "status": "completed"
    },
    "tags": []
   },
   "outputs": [
    {
     "data": {
      "text/html": [
       "<div>\n",
       "<style scoped>\n",
       "    .dataframe tbody tr th:only-of-type {\n",
       "        vertical-align: middle;\n",
       "    }\n",
       "\n",
       "    .dataframe tbody tr th {\n",
       "        vertical-align: top;\n",
       "    }\n",
       "\n",
       "    .dataframe thead th {\n",
       "        text-align: right;\n",
       "    }\n",
       "</style>\n",
       "<table border=\"1\" class=\"dataframe\">\n",
       "  <thead>\n",
       "    <tr style=\"text-align: right;\">\n",
       "      <th></th>\n",
       "      <th>id</th>\n",
       "      <th>landmark_id</th>\n",
       "      <th>path</th>\n",
       "    </tr>\n",
       "  </thead>\n",
       "  <tbody>\n",
       "    <tr>\n",
       "      <th>2828</th>\n",
       "      <td>20786f263ac182fc</td>\n",
       "      <td>10419</td>\n",
       "      <td>../input/landmark-recognition-2020/train/2/0/7...</td>\n",
       "    </tr>\n",
       "    <tr>\n",
       "      <th>2509</th>\n",
       "      <td>cce1f70e740de4ec</td>\n",
       "      <td>176018</td>\n",
       "      <td>../input/landmark-recognition-2020/train/c/c/e...</td>\n",
       "    </tr>\n",
       "    <tr>\n",
       "      <th>1181</th>\n",
       "      <td>c2872a210ed9a163</td>\n",
       "      <td>45428</td>\n",
       "      <td>../input/landmark-recognition-2020/train/c/2/8...</td>\n",
       "    </tr>\n",
       "    <tr>\n",
       "      <th>1447</th>\n",
       "      <td>278197b781518612</td>\n",
       "      <td>149980</td>\n",
       "      <td>../input/landmark-recognition-2020/train/2/7/8...</td>\n",
       "    </tr>\n",
       "    <tr>\n",
       "      <th>3111</th>\n",
       "      <td>eb4fd63c9198c301</td>\n",
       "      <td>36748</td>\n",
       "      <td>../input/landmark-recognition-2020/train/e/b/4...</td>\n",
       "    </tr>\n",
       "  </tbody>\n",
       "</table>\n",
       "</div>"
      ],
      "text/plain": [
       "                    id  landmark_id  \\\n",
       "2828  20786f263ac182fc        10419   \n",
       "2509  cce1f70e740de4ec       176018   \n",
       "1181  c2872a210ed9a163        45428   \n",
       "1447  278197b781518612       149980   \n",
       "3111  eb4fd63c9198c301        36748   \n",
       "\n",
       "                                                   path  \n",
       "2828  ../input/landmark-recognition-2020/train/2/0/7...  \n",
       "2509  ../input/landmark-recognition-2020/train/c/c/e...  \n",
       "1181  ../input/landmark-recognition-2020/train/c/2/8...  \n",
       "1447  ../input/landmark-recognition-2020/train/2/7/8...  \n",
       "3111  ../input/landmark-recognition-2020/train/e/b/4...  "
      ]
     },
     "execution_count": 30,
     "metadata": {},
     "output_type": "execute_result"
    }
   ],
   "source": [
    "val_20.sample(5, random_state=seed)"
   ]
  },
  {
   "cell_type": "code",
   "execution_count": 31,
   "metadata": {
    "execution": {
     "iopub.execute_input": "2021-05-02T10:19:37.872419Z",
     "iopub.status.busy": "2021-05-02T10:19:37.871765Z",
     "iopub.status.idle": "2021-05-02T10:19:37.880068Z",
     "shell.execute_reply": "2021-05-02T10:19:37.879622Z"
    },
    "papermill": {
     "duration": 0.056156,
     "end_time": "2021-05-02T10:19:37.880198",
     "exception": false,
     "start_time": "2021-05-02T10:19:37.824042",
     "status": "completed"
    },
    "tags": []
   },
   "outputs": [
    {
     "data": {
      "text/html": [
       "<div>\n",
       "<style scoped>\n",
       "    .dataframe tbody tr th:only-of-type {\n",
       "        vertical-align: middle;\n",
       "    }\n",
       "\n",
       "    .dataframe tbody tr th {\n",
       "        vertical-align: top;\n",
       "    }\n",
       "\n",
       "    .dataframe thead th {\n",
       "        text-align: right;\n",
       "    }\n",
       "</style>\n",
       "<table border=\"1\" class=\"dataframe\">\n",
       "  <thead>\n",
       "    <tr style=\"text-align: right;\">\n",
       "      <th></th>\n",
       "      <th>id</th>\n",
       "      <th>landmark_id</th>\n",
       "      <th>path</th>\n",
       "    </tr>\n",
       "  </thead>\n",
       "  <tbody>\n",
       "    <tr>\n",
       "      <th>1736</th>\n",
       "      <td>ff0d60765a3c1423</td>\n",
       "      <td>176528</td>\n",
       "      <td>../input/landmark-recognition-2020/train/f/f/0...</td>\n",
       "    </tr>\n",
       "    <tr>\n",
       "      <th>1772</th>\n",
       "      <td>d0434f5c21d6a616</td>\n",
       "      <td>113209</td>\n",
       "      <td>../input/landmark-recognition-2020/train/d/0/4...</td>\n",
       "    </tr>\n",
       "    <tr>\n",
       "      <th>902</th>\n",
       "      <td>b59fffb7566c07e2</td>\n",
       "      <td>120734</td>\n",
       "      <td>../input/landmark-recognition-2020/train/b/5/9...</td>\n",
       "    </tr>\n",
       "    <tr>\n",
       "      <th>992</th>\n",
       "      <td>9d5c120afb13250d</td>\n",
       "      <td>20409</td>\n",
       "      <td>../input/landmark-recognition-2020/train/9/d/5...</td>\n",
       "    </tr>\n",
       "    <tr>\n",
       "      <th>899</th>\n",
       "      <td>4da2da5bc9d57013</td>\n",
       "      <td>9070</td>\n",
       "      <td>../input/landmark-recognition-2020/train/4/d/a...</td>\n",
       "    </tr>\n",
       "  </tbody>\n",
       "</table>\n",
       "</div>"
      ],
      "text/plain": [
       "                    id  landmark_id  \\\n",
       "1736  ff0d60765a3c1423       176528   \n",
       "1772  d0434f5c21d6a616       113209   \n",
       "902   b59fffb7566c07e2       120734   \n",
       "992   9d5c120afb13250d        20409   \n",
       "899   4da2da5bc9d57013         9070   \n",
       "\n",
       "                                                   path  \n",
       "1736  ../input/landmark-recognition-2020/train/f/f/0...  \n",
       "1772  ../input/landmark-recognition-2020/train/d/0/4...  \n",
       "902   ../input/landmark-recognition-2020/train/b/5/9...  \n",
       "992   ../input/landmark-recognition-2020/train/9/d/5...  \n",
       "899   ../input/landmark-recognition-2020/train/4/d/a...  "
      ]
     },
     "execution_count": 31,
     "metadata": {},
     "output_type": "execute_result"
    }
   ],
   "source": [
    "test_20.sample(5, random_state=seed)"
   ]
  },
  {
   "cell_type": "markdown",
   "metadata": {
    "papermill": {
     "duration": 0.039541,
     "end_time": "2021-05-02T10:19:37.959533",
     "exception": false,
     "start_time": "2021-05-02T10:19:37.919992",
     "status": "completed"
    },
    "tags": []
   },
   "source": [
    "Saving the files."
   ]
  },
  {
   "cell_type": "code",
   "execution_count": 32,
   "metadata": {
    "execution": {
     "iopub.execute_input": "2021-05-02T10:19:38.056220Z",
     "iopub.status.busy": "2021-05-02T10:19:38.055338Z",
     "iopub.status.idle": "2021-05-02T10:19:38.099720Z",
     "shell.execute_reply": "2021-05-02T10:19:38.099092Z"
    },
    "papermill": {
     "duration": 0.100669,
     "end_time": "2021-05-02T10:19:38.099879",
     "exception": false,
     "start_time": "2021-05-02T10:19:37.999210",
     "status": "completed"
    },
    "tags": []
   },
   "outputs": [],
   "source": [
    "train_20.to_csv('train_20.csv',index=False)\n",
    "val_20.to_csv('val_20.csv',index=False)\n",
    "test_20.to_csv('test_20.csv',index=False)"
   ]
  },
  {
   "cell_type": "markdown",
   "metadata": {
    "papermill": {
     "duration": 0.059681,
     "end_time": "2021-05-02T10:19:38.219371",
     "exception": false,
     "start_time": "2021-05-02T10:19:38.159690",
     "status": "completed"
    },
    "tags": []
   },
   "source": [
    "Finally, we are ready for making the directory structure."
   ]
  },
  {
   "cell_type": "code",
   "execution_count": 33,
   "metadata": {
    "execution": {
     "iopub.execute_input": "2021-05-02T10:19:38.346378Z",
     "iopub.status.busy": "2021-05-02T10:19:38.345893Z",
     "iopub.status.idle": "2021-05-02T10:19:38.348934Z",
     "shell.execute_reply": "2021-05-02T10:19:38.348415Z"
    },
    "papermill": {
     "duration": 0.06935,
     "end_time": "2021-05-02T10:19:38.349047",
     "exception": false,
     "start_time": "2021-05-02T10:19:38.279697",
     "status": "completed"
    },
    "tags": []
   },
   "outputs": [],
   "source": [
    "def making_folders(df, c_col, i_col, path):\n",
    "    shutil.os.mkdir(path)\n",
    "    classes = df[c_col].unique()\n",
    "    for c in tqdm(classes):\n",
    "        f_path = f\"{path}{c}\"\n",
    "        shutil.os.mkdir(f_path)\n",
    "        imgs = df.loc[df[c_col] == c][i_col].to_list()\n",
    "        for i in imgs:\n",
    "            image_path = \"../input/landmark-recognition-2020/train/{}/{}/{}/{}.jpg\".format(i[0],i[1],i[2],i)\n",
    "            shutil.copy(image_path, f_path)"
   ]
  },
  {
   "cell_type": "code",
   "execution_count": 34,
   "metadata": {
    "execution": {
     "iopub.execute_input": "2021-05-02T10:19:38.431038Z",
     "iopub.status.busy": "2021-05-02T10:19:38.430593Z",
     "iopub.status.idle": "2021-05-02T10:21:41.853703Z",
     "shell.execute_reply": "2021-05-02T10:21:41.853145Z"
    },
    "papermill": {
     "duration": 123.465538,
     "end_time": "2021-05-02T10:21:41.853824",
     "exception": false,
     "start_time": "2021-05-02T10:19:38.388286",
     "status": "completed"
    },
    "tags": []
   },
   "outputs": [
    {
     "data": {
      "application/vnd.jupyter.widget-view+json": {
       "model_id": "44ce87d82ed24f1fbe76e40c0425d1de",
       "version_major": 2,
       "version_minor": 0
      },
      "text/plain": [
       "  0%|          | 0/20 [00:00<?, ?it/s]"
      ]
     },
     "metadata": {},
     "output_type": "display_data"
    }
   ],
   "source": [
    "# making_folders(train_200, \"landmark_id\", \"id\", \"..train_200/\")\n",
    "# making_folders(val_200, \"landmark_id\", \"id\", \"..val_200/\")\n",
    "# making_folders(test_200, \"landmark_id\", \"id\", \"..test_200/\")\n",
    "making_folders(train_20, \"landmark_id\", \"id\", \"..train_20/\")\n",
    "# making_folders(val_20, \"landmark_id\", \"id\", \"..val_20/\")\n",
    "# making_folders(test_20, \"landmark_id\", \"id\", \"..test_20/\")"
   ]
  },
  {
   "cell_type": "code",
   "execution_count": 35,
   "metadata": {
    "execution": {
     "iopub.execute_input": "2021-05-02T10:21:41.942576Z",
     "iopub.status.busy": "2021-05-02T10:21:41.941730Z",
     "iopub.status.idle": "2021-05-02T10:21:42.259521Z",
     "shell.execute_reply": "2021-05-02T10:21:42.258950Z"
    },
    "papermill": {
     "duration": 0.365016,
     "end_time": "2021-05-02T10:21:42.259651",
     "exception": false,
     "start_time": "2021-05-02T10:21:41.894635",
     "status": "completed"
    },
    "tags": []
   },
   "outputs": [
    {
     "name": "stdout",
     "output_type": "stream",
     "text": [
      ".   ..train_20\t\ttest_20.csv   train_20.csv   val_20.csv\r\n",
      "..  __notebook__.ipynb\ttest_200.csv  train_200.csv  val_200.csv\r\n"
     ]
    }
   ],
   "source": [
    "! ls -a"
   ]
  },
  {
   "cell_type": "markdown",
   "metadata": {
    "papermill": {
     "duration": 0.041057,
     "end_time": "2021-05-02T10:21:42.342810",
     "exception": false,
     "start_time": "2021-05-02T10:21:42.301753",
     "status": "completed"
    },
    "tags": []
   },
   "source": [
    "At this point, some of the limitations of the Kaggle platform appeared. There is a constraint about the space disk one can use, so this task must be done one by one. That is the reason the code above is commented. Moreover, it is impossible to publish the notebook with all the created folders because the **output** or **working directory** only supports `5GB`. What I did is download one by one and just the first part, the dataset with the 200 labels because the other one exceeded all the limits. My intentions is once constructed the models, come back and download the rest to scale down the builded neural networks with less classes and images."
   ]
  },
  {
   "cell_type": "markdown",
   "metadata": {
    "papermill": {
     "duration": 0.125806,
     "end_time": "2021-05-02T10:21:42.512043",
     "exception": false,
     "start_time": "2021-05-02T10:21:42.386237",
     "status": "completed"
    },
    "tags": []
   },
   "source": [
    "# Image sizes\n",
    "\n",
    "After thinking about the problem with the different image size of the dataset I considered to download the original ones. The main is reason is that I can always go back one step instead of resizing all without already knowing what type of neural network I am going to construct. So, I postpone this task for the next step to make it more suitable and with the aim of a bigger control on the factors of the efficiency of the future models.\n",
    "\n",
    "----Note **Latest Version**----\n",
    "\n",
    "Once I modeled the first neural network I found that resizing the images with ImageDataGenerator class or special Keras layers, the time per epoch was very high due to the sizing task. For each execution, the images were resized what was a waste of time. To make the process faster what I did was resizing all images once and save them, ready to use without waiting too much. \n",
    "\n",
    "The other problem that comes with resizing the images is deciding what size to give them. A very big size increase the time to process because there are more features to exctract from an image. On the other hand, a smaller size decrease the execution time, but some features can be overlooked by the neural network."
   ]
  },
  {
   "cell_type": "code",
   "execution_count": 36,
   "metadata": {
    "execution": {
     "iopub.execute_input": "2021-05-02T10:21:42.645911Z",
     "iopub.status.busy": "2021-05-02T10:21:42.645194Z",
     "iopub.status.idle": "2021-05-02T10:21:42.650312Z",
     "shell.execute_reply": "2021-05-02T10:21:42.649812Z"
    },
    "papermill": {
     "duration": 0.074706,
     "end_time": "2021-05-02T10:21:42.650463",
     "exception": false,
     "start_time": "2021-05-02T10:21:42.575757",
     "status": "completed"
    },
    "tags": []
   },
   "outputs": [],
   "source": [
    "def resize(path, size):\n",
    "    subfolders = [f.path for f in os.scandir(path) if f.is_dir()]\n",
    "    for s in tqdm(subfolders):\n",
    "        for i in os.listdir(s):\n",
    "            full_path = os.path.join(s,i)\n",
    "            if os.path.isfile(full_path):\n",
    "                im = Image.open(full_path)\n",
    "                imResize = im.resize(size, Image.ANTIALIAS)\n",
    "                imResize.save(full_path)"
   ]
  },
  {
   "cell_type": "code",
   "execution_count": 37,
   "metadata": {
    "execution": {
     "iopub.execute_input": "2021-05-02T10:21:42.761428Z",
     "iopub.status.busy": "2021-05-02T10:21:42.738476Z",
     "iopub.status.idle": "2021-05-02T10:24:15.451074Z",
     "shell.execute_reply": "2021-05-02T10:24:15.450519Z"
    },
    "papermill": {
     "duration": 152.759207,
     "end_time": "2021-05-02T10:24:15.451217",
     "exception": false,
     "start_time": "2021-05-02T10:21:42.692010",
     "status": "completed"
    },
    "tags": []
   },
   "outputs": [
    {
     "data": {
      "application/vnd.jupyter.widget-view+json": {
       "model_id": "69d9c28e0f0e48c3a8fd9d82156ceab2",
       "version_major": 2,
       "version_minor": 0
      },
      "text/plain": [
       "  0%|          | 0/20 [00:00<?, ?it/s]"
      ]
     },
     "metadata": {},
     "output_type": "display_data"
    }
   ],
   "source": [
    "# Repeat the same for every folder\n",
    "train = \"..train_20/\"\n",
    "val = \"..val_20/\"\n",
    "test = \"..test_20/\"\n",
    "\n",
    "resize(train, (128,128))\n",
    "# resize(val, (128,128) )\n",
    "# resize(test, (128,128)) "
   ]
  },
  {
   "cell_type": "code",
   "execution_count": 38,
   "metadata": {
    "execution": {
     "iopub.execute_input": "2021-05-02T10:24:15.582818Z",
     "iopub.status.busy": "2021-05-02T10:24:15.582113Z",
     "iopub.status.idle": "2021-05-02T10:24:18.020923Z",
     "shell.execute_reply": "2021-05-02T10:24:18.020234Z"
    },
    "papermill": {
     "duration": 2.50702,
     "end_time": "2021-05-02T10:24:18.021088",
     "exception": false,
     "start_time": "2021-05-02T10:24:15.514068",
     "status": "completed"
    },
    "tags": []
   },
   "outputs": [],
   "source": [
    "# Repeat the same for every folder \n",
    "! zip -qr train_20.zip \"..train_20/\""
   ]
  }
 ],
 "metadata": {
  "kernelspec": {
   "display_name": "Python 3",
   "language": "python",
   "name": "python3"
  },
  "language_info": {
   "codemirror_mode": {
    "name": "ipython",
    "version": 3
   },
   "file_extension": ".py",
   "mimetype": "text/x-python",
   "name": "python",
   "nbconvert_exporter": "python",
   "pygments_lexer": "ipython3",
   "version": "3.7.9"
  },
  "papermill": {
   "default_parameters": {},
   "duration": 298.5401,
   "end_time": "2021-05-02T10:24:19.101363",
   "environment_variables": {},
   "exception": null,
   "input_path": "__notebook__.ipynb",
   "output_path": "__notebook__.ipynb",
   "parameters": {},
   "start_time": "2021-05-02T10:19:20.561263",
   "version": "2.2.2"
  },
  "widgets": {
   "application/vnd.jupyter.widget-state+json": {
    "state": {
     "03938a8bbe494dd3bc000ad629c82535": {
      "model_module": "@jupyter-widgets/controls",
      "model_module_version": "1.5.0",
      "model_name": "DescriptionStyleModel",
      "state": {
       "_model_module": "@jupyter-widgets/controls",
       "_model_module_version": "1.5.0",
       "_model_name": "DescriptionStyleModel",
       "_view_count": null,
       "_view_module": "@jupyter-widgets/base",
       "_view_module_version": "1.2.0",
       "_view_name": "StyleView",
       "description_width": ""
      }
     },
     "2a79c61bf87d4f04ba72cbddacddf8a6": {
      "model_module": "@jupyter-widgets/controls",
      "model_module_version": "1.5.0",
      "model_name": "ProgressStyleModel",
      "state": {
       "_model_module": "@jupyter-widgets/controls",
       "_model_module_version": "1.5.0",
       "_model_name": "ProgressStyleModel",
       "_view_count": null,
       "_view_module": "@jupyter-widgets/base",
       "_view_module_version": "1.2.0",
       "_view_name": "StyleView",
       "bar_color": null,
       "description_width": ""
      }
     },
     "2d71ff9b851547d787e019b06f25481e": {
      "model_module": "@jupyter-widgets/controls",
      "model_module_version": "1.5.0",
      "model_name": "FloatProgressModel",
      "state": {
       "_dom_classes": [],
       "_model_module": "@jupyter-widgets/controls",
       "_model_module_version": "1.5.0",
       "_model_name": "FloatProgressModel",
       "_view_count": null,
       "_view_module": "@jupyter-widgets/controls",
       "_view_module_version": "1.5.0",
       "_view_name": "ProgressView",
       "bar_style": "success",
       "description": "",
       "description_tooltip": null,
       "layout": "IPY_MODEL_5cdb21758e7c47d89bf2dcc943ef1911",
       "max": 20.0,
       "min": 0.0,
       "orientation": "horizontal",
       "style": "IPY_MODEL_2a79c61bf87d4f04ba72cbddacddf8a6",
       "value": 20.0
      }
     },
     "44ce87d82ed24f1fbe76e40c0425d1de": {
      "model_module": "@jupyter-widgets/controls",
      "model_module_version": "1.5.0",
      "model_name": "HBoxModel",
      "state": {
       "_dom_classes": [],
       "_model_module": "@jupyter-widgets/controls",
       "_model_module_version": "1.5.0",
       "_model_name": "HBoxModel",
       "_view_count": null,
       "_view_module": "@jupyter-widgets/controls",
       "_view_module_version": "1.5.0",
       "_view_name": "HBoxView",
       "box_style": "",
       "children": [
        "IPY_MODEL_932fce0671104924896834fa2126c29d",
        "IPY_MODEL_88ac98cc68ab468f929be6ebc0fb98bb",
        "IPY_MODEL_947593362b0b4659b9294800d393899e"
       ],
       "layout": "IPY_MODEL_58fd611898bd4c6dbbb7293bccd2b64f"
      }
     },
     "4979959bcd4d49a1834bf31445505e4a": {
      "model_module": "@jupyter-widgets/base",
      "model_module_version": "1.2.0",
      "model_name": "LayoutModel",
      "state": {
       "_model_module": "@jupyter-widgets/base",
       "_model_module_version": "1.2.0",
       "_model_name": "LayoutModel",
       "_view_count": null,
       "_view_module": "@jupyter-widgets/base",
       "_view_module_version": "1.2.0",
       "_view_name": "LayoutView",
       "align_content": null,
       "align_items": null,
       "align_self": null,
       "border": null,
       "bottom": null,
       "display": null,
       "flex": null,
       "flex_flow": null,
       "grid_area": null,
       "grid_auto_columns": null,
       "grid_auto_flow": null,
       "grid_auto_rows": null,
       "grid_column": null,
       "grid_gap": null,
       "grid_row": null,
       "grid_template_areas": null,
       "grid_template_columns": null,
       "grid_template_rows": null,
       "height": null,
       "justify_content": null,
       "justify_items": null,
       "left": null,
       "margin": null,
       "max_height": null,
       "max_width": null,
       "min_height": null,
       "min_width": null,
       "object_fit": null,
       "object_position": null,
       "order": null,
       "overflow": null,
       "overflow_x": null,
       "overflow_y": null,
       "padding": null,
       "right": null,
       "top": null,
       "visibility": null,
       "width": null
      }
     },
     "4aa1a32d39de4d38b7d519a99c5c4bdc": {
      "model_module": "@jupyter-widgets/controls",
      "model_module_version": "1.5.0",
      "model_name": "HTMLModel",
      "state": {
       "_dom_classes": [],
       "_model_module": "@jupyter-widgets/controls",
       "_model_module_version": "1.5.0",
       "_model_name": "HTMLModel",
       "_view_count": null,
       "_view_module": "@jupyter-widgets/controls",
       "_view_module_version": "1.5.0",
       "_view_name": "HTMLView",
       "description": "",
       "description_tooltip": null,
       "layout": "IPY_MODEL_d724ba99a9094219936b1d1ebfba037d",
       "placeholder": "​",
       "style": "IPY_MODEL_03938a8bbe494dd3bc000ad629c82535",
       "value": " 20/20 [02:32&lt;00:00,  8.09s/it]"
      }
     },
     "506ba6e6ccc44e148ae34d98cbe946b4": {
      "model_module": "@jupyter-widgets/controls",
      "model_module_version": "1.5.0",
      "model_name": "ProgressStyleModel",
      "state": {
       "_model_module": "@jupyter-widgets/controls",
       "_model_module_version": "1.5.0",
       "_model_name": "ProgressStyleModel",
       "_view_count": null,
       "_view_module": "@jupyter-widgets/base",
       "_view_module_version": "1.2.0",
       "_view_name": "StyleView",
       "bar_color": null,
       "description_width": ""
      }
     },
     "58fd611898bd4c6dbbb7293bccd2b64f": {
      "model_module": "@jupyter-widgets/base",
      "model_module_version": "1.2.0",
      "model_name": "LayoutModel",
      "state": {
       "_model_module": "@jupyter-widgets/base",
       "_model_module_version": "1.2.0",
       "_model_name": "LayoutModel",
       "_view_count": null,
       "_view_module": "@jupyter-widgets/base",
       "_view_module_version": "1.2.0",
       "_view_name": "LayoutView",
       "align_content": null,
       "align_items": null,
       "align_self": null,
       "border": null,
       "bottom": null,
       "display": null,
       "flex": null,
       "flex_flow": null,
       "grid_area": null,
       "grid_auto_columns": null,
       "grid_auto_flow": null,
       "grid_auto_rows": null,
       "grid_column": null,
       "grid_gap": null,
       "grid_row": null,
       "grid_template_areas": null,
       "grid_template_columns": null,
       "grid_template_rows": null,
       "height": null,
       "justify_content": null,
       "justify_items": null,
       "left": null,
       "margin": null,
       "max_height": null,
       "max_width": null,
       "min_height": null,
       "min_width": null,
       "object_fit": null,
       "object_position": null,
       "order": null,
       "overflow": null,
       "overflow_x": null,
       "overflow_y": null,
       "padding": null,
       "right": null,
       "top": null,
       "visibility": null,
       "width": null
      }
     },
     "5cdb21758e7c47d89bf2dcc943ef1911": {
      "model_module": "@jupyter-widgets/base",
      "model_module_version": "1.2.0",
      "model_name": "LayoutModel",
      "state": {
       "_model_module": "@jupyter-widgets/base",
       "_model_module_version": "1.2.0",
       "_model_name": "LayoutModel",
       "_view_count": null,
       "_view_module": "@jupyter-widgets/base",
       "_view_module_version": "1.2.0",
       "_view_name": "LayoutView",
       "align_content": null,
       "align_items": null,
       "align_self": null,
       "border": null,
       "bottom": null,
       "display": null,
       "flex": null,
       "flex_flow": null,
       "grid_area": null,
       "grid_auto_columns": null,
       "grid_auto_flow": null,
       "grid_auto_rows": null,
       "grid_column": null,
       "grid_gap": null,
       "grid_row": null,
       "grid_template_areas": null,
       "grid_template_columns": null,
       "grid_template_rows": null,
       "height": null,
       "justify_content": null,
       "justify_items": null,
       "left": null,
       "margin": null,
       "max_height": null,
       "max_width": null,
       "min_height": null,
       "min_width": null,
       "object_fit": null,
       "object_position": null,
       "order": null,
       "overflow": null,
       "overflow_x": null,
       "overflow_y": null,
       "padding": null,
       "right": null,
       "top": null,
       "visibility": null,
       "width": null
      }
     },
     "5cff973151e84119b62fab0e75026e8e": {
      "model_module": "@jupyter-widgets/controls",
      "model_module_version": "1.5.0",
      "model_name": "DescriptionStyleModel",
      "state": {
       "_model_module": "@jupyter-widgets/controls",
       "_model_module_version": "1.5.0",
       "_model_name": "DescriptionStyleModel",
       "_view_count": null,
       "_view_module": "@jupyter-widgets/base",
       "_view_module_version": "1.2.0",
       "_view_name": "StyleView",
       "description_width": ""
      }
     },
     "69d9c28e0f0e48c3a8fd9d82156ceab2": {
      "model_module": "@jupyter-widgets/controls",
      "model_module_version": "1.5.0",
      "model_name": "HBoxModel",
      "state": {
       "_dom_classes": [],
       "_model_module": "@jupyter-widgets/controls",
       "_model_module_version": "1.5.0",
       "_model_name": "HBoxModel",
       "_view_count": null,
       "_view_module": "@jupyter-widgets/controls",
       "_view_module_version": "1.5.0",
       "_view_name": "HBoxView",
       "box_style": "",
       "children": [
        "IPY_MODEL_ea69c2587ae24484a8e8cf8ccd0b1e49",
        "IPY_MODEL_2d71ff9b851547d787e019b06f25481e",
        "IPY_MODEL_4aa1a32d39de4d38b7d519a99c5c4bdc"
       ],
       "layout": "IPY_MODEL_4979959bcd4d49a1834bf31445505e4a"
      }
     },
     "80cf919b2b044d6bb06054da6fdbaa80": {
      "model_module": "@jupyter-widgets/controls",
      "model_module_version": "1.5.0",
      "model_name": "DescriptionStyleModel",
      "state": {
       "_model_module": "@jupyter-widgets/controls",
       "_model_module_version": "1.5.0",
       "_model_name": "DescriptionStyleModel",
       "_view_count": null,
       "_view_module": "@jupyter-widgets/base",
       "_view_module_version": "1.2.0",
       "_view_name": "StyleView",
       "description_width": ""
      }
     },
     "88ac98cc68ab468f929be6ebc0fb98bb": {
      "model_module": "@jupyter-widgets/controls",
      "model_module_version": "1.5.0",
      "model_name": "FloatProgressModel",
      "state": {
       "_dom_classes": [],
       "_model_module": "@jupyter-widgets/controls",
       "_model_module_version": "1.5.0",
       "_model_name": "FloatProgressModel",
       "_view_count": null,
       "_view_module": "@jupyter-widgets/controls",
       "_view_module_version": "1.5.0",
       "_view_name": "ProgressView",
       "bar_style": "success",
       "description": "",
       "description_tooltip": null,
       "layout": "IPY_MODEL_e8619d2bc7fd4761a8d7348a023e2d0f",
       "max": 20.0,
       "min": 0.0,
       "orientation": "horizontal",
       "style": "IPY_MODEL_506ba6e6ccc44e148ae34d98cbe946b4",
       "value": 20.0
      }
     },
     "8a44134be2a343348b41e8c47e9040ee": {
      "model_module": "@jupyter-widgets/base",
      "model_module_version": "1.2.0",
      "model_name": "LayoutModel",
      "state": {
       "_model_module": "@jupyter-widgets/base",
       "_model_module_version": "1.2.0",
       "_model_name": "LayoutModel",
       "_view_count": null,
       "_view_module": "@jupyter-widgets/base",
       "_view_module_version": "1.2.0",
       "_view_name": "LayoutView",
       "align_content": null,
       "align_items": null,
       "align_self": null,
       "border": null,
       "bottom": null,
       "display": null,
       "flex": null,
       "flex_flow": null,
       "grid_area": null,
       "grid_auto_columns": null,
       "grid_auto_flow": null,
       "grid_auto_rows": null,
       "grid_column": null,
       "grid_gap": null,
       "grid_row": null,
       "grid_template_areas": null,
       "grid_template_columns": null,
       "grid_template_rows": null,
       "height": null,
       "justify_content": null,
       "justify_items": null,
       "left": null,
       "margin": null,
       "max_height": null,
       "max_width": null,
       "min_height": null,
       "min_width": null,
       "object_fit": null,
       "object_position": null,
       "order": null,
       "overflow": null,
       "overflow_x": null,
       "overflow_y": null,
       "padding": null,
       "right": null,
       "top": null,
       "visibility": null,
       "width": null
      }
     },
     "932fce0671104924896834fa2126c29d": {
      "model_module": "@jupyter-widgets/controls",
      "model_module_version": "1.5.0",
      "model_name": "HTMLModel",
      "state": {
       "_dom_classes": [],
       "_model_module": "@jupyter-widgets/controls",
       "_model_module_version": "1.5.0",
       "_model_name": "HTMLModel",
       "_view_count": null,
       "_view_module": "@jupyter-widgets/controls",
       "_view_module_version": "1.5.0",
       "_view_name": "HTMLView",
       "description": "",
       "description_tooltip": null,
       "layout": "IPY_MODEL_d941d3318f214092b39ed79fbbe8c8b8",
       "placeholder": "​",
       "style": "IPY_MODEL_80cf919b2b044d6bb06054da6fdbaa80",
       "value": "100%"
      }
     },
     "947593362b0b4659b9294800d393899e": {
      "model_module": "@jupyter-widgets/controls",
      "model_module_version": "1.5.0",
      "model_name": "HTMLModel",
      "state": {
       "_dom_classes": [],
       "_model_module": "@jupyter-widgets/controls",
       "_model_module_version": "1.5.0",
       "_model_name": "HTMLModel",
       "_view_count": null,
       "_view_module": "@jupyter-widgets/controls",
       "_view_module_version": "1.5.0",
       "_view_name": "HTMLView",
       "description": "",
       "description_tooltip": null,
       "layout": "IPY_MODEL_8a44134be2a343348b41e8c47e9040ee",
       "placeholder": "​",
       "style": "IPY_MODEL_5cff973151e84119b62fab0e75026e8e",
       "value": " 20/20 [02:03&lt;00:00,  6.10s/it]"
      }
     },
     "d724ba99a9094219936b1d1ebfba037d": {
      "model_module": "@jupyter-widgets/base",
      "model_module_version": "1.2.0",
      "model_name": "LayoutModel",
      "state": {
       "_model_module": "@jupyter-widgets/base",
       "_model_module_version": "1.2.0",
       "_model_name": "LayoutModel",
       "_view_count": null,
       "_view_module": "@jupyter-widgets/base",
       "_view_module_version": "1.2.0",
       "_view_name": "LayoutView",
       "align_content": null,
       "align_items": null,
       "align_self": null,
       "border": null,
       "bottom": null,
       "display": null,
       "flex": null,
       "flex_flow": null,
       "grid_area": null,
       "grid_auto_columns": null,
       "grid_auto_flow": null,
       "grid_auto_rows": null,
       "grid_column": null,
       "grid_gap": null,
       "grid_row": null,
       "grid_template_areas": null,
       "grid_template_columns": null,
       "grid_template_rows": null,
       "height": null,
       "justify_content": null,
       "justify_items": null,
       "left": null,
       "margin": null,
       "max_height": null,
       "max_width": null,
       "min_height": null,
       "min_width": null,
       "object_fit": null,
       "object_position": null,
       "order": null,
       "overflow": null,
       "overflow_x": null,
       "overflow_y": null,
       "padding": null,
       "right": null,
       "top": null,
       "visibility": null,
       "width": null
      }
     },
     "d941d3318f214092b39ed79fbbe8c8b8": {
      "model_module": "@jupyter-widgets/base",
      "model_module_version": "1.2.0",
      "model_name": "LayoutModel",
      "state": {
       "_model_module": "@jupyter-widgets/base",
       "_model_module_version": "1.2.0",
       "_model_name": "LayoutModel",
       "_view_count": null,
       "_view_module": "@jupyter-widgets/base",
       "_view_module_version": "1.2.0",
       "_view_name": "LayoutView",
       "align_content": null,
       "align_items": null,
       "align_self": null,
       "border": null,
       "bottom": null,
       "display": null,
       "flex": null,
       "flex_flow": null,
       "grid_area": null,
       "grid_auto_columns": null,
       "grid_auto_flow": null,
       "grid_auto_rows": null,
       "grid_column": null,
       "grid_gap": null,
       "grid_row": null,
       "grid_template_areas": null,
       "grid_template_columns": null,
       "grid_template_rows": null,
       "height": null,
       "justify_content": null,
       "justify_items": null,
       "left": null,
       "margin": null,
       "max_height": null,
       "max_width": null,
       "min_height": null,
       "min_width": null,
       "object_fit": null,
       "object_position": null,
       "order": null,
       "overflow": null,
       "overflow_x": null,
       "overflow_y": null,
       "padding": null,
       "right": null,
       "top": null,
       "visibility": null,
       "width": null
      }
     },
     "dec3b79513bb4faab6662b4950a82ca2": {
      "model_module": "@jupyter-widgets/controls",
      "model_module_version": "1.5.0",
      "model_name": "DescriptionStyleModel",
      "state": {
       "_model_module": "@jupyter-widgets/controls",
       "_model_module_version": "1.5.0",
       "_model_name": "DescriptionStyleModel",
       "_view_count": null,
       "_view_module": "@jupyter-widgets/base",
       "_view_module_version": "1.2.0",
       "_view_name": "StyleView",
       "description_width": ""
      }
     },
     "e8619d2bc7fd4761a8d7348a023e2d0f": {
      "model_module": "@jupyter-widgets/base",
      "model_module_version": "1.2.0",
      "model_name": "LayoutModel",
      "state": {
       "_model_module": "@jupyter-widgets/base",
       "_model_module_version": "1.2.0",
       "_model_name": "LayoutModel",
       "_view_count": null,
       "_view_module": "@jupyter-widgets/base",
       "_view_module_version": "1.2.0",
       "_view_name": "LayoutView",
       "align_content": null,
       "align_items": null,
       "align_self": null,
       "border": null,
       "bottom": null,
       "display": null,
       "flex": null,
       "flex_flow": null,
       "grid_area": null,
       "grid_auto_columns": null,
       "grid_auto_flow": null,
       "grid_auto_rows": null,
       "grid_column": null,
       "grid_gap": null,
       "grid_row": null,
       "grid_template_areas": null,
       "grid_template_columns": null,
       "grid_template_rows": null,
       "height": null,
       "justify_content": null,
       "justify_items": null,
       "left": null,
       "margin": null,
       "max_height": null,
       "max_width": null,
       "min_height": null,
       "min_width": null,
       "object_fit": null,
       "object_position": null,
       "order": null,
       "overflow": null,
       "overflow_x": null,
       "overflow_y": null,
       "padding": null,
       "right": null,
       "top": null,
       "visibility": null,
       "width": null
      }
     },
     "ea69c2587ae24484a8e8cf8ccd0b1e49": {
      "model_module": "@jupyter-widgets/controls",
      "model_module_version": "1.5.0",
      "model_name": "HTMLModel",
      "state": {
       "_dom_classes": [],
       "_model_module": "@jupyter-widgets/controls",
       "_model_module_version": "1.5.0",
       "_model_name": "HTMLModel",
       "_view_count": null,
       "_view_module": "@jupyter-widgets/controls",
       "_view_module_version": "1.5.0",
       "_view_name": "HTMLView",
       "description": "",
       "description_tooltip": null,
       "layout": "IPY_MODEL_fb582de623ab458a953c70be64e10d3b",
       "placeholder": "​",
       "style": "IPY_MODEL_dec3b79513bb4faab6662b4950a82ca2",
       "value": "100%"
      }
     },
     "fb582de623ab458a953c70be64e10d3b": {
      "model_module": "@jupyter-widgets/base",
      "model_module_version": "1.2.0",
      "model_name": "LayoutModel",
      "state": {
       "_model_module": "@jupyter-widgets/base",
       "_model_module_version": "1.2.0",
       "_model_name": "LayoutModel",
       "_view_count": null,
       "_view_module": "@jupyter-widgets/base",
       "_view_module_version": "1.2.0",
       "_view_name": "LayoutView",
       "align_content": null,
       "align_items": null,
       "align_self": null,
       "border": null,
       "bottom": null,
       "display": null,
       "flex": null,
       "flex_flow": null,
       "grid_area": null,
       "grid_auto_columns": null,
       "grid_auto_flow": null,
       "grid_auto_rows": null,
       "grid_column": null,
       "grid_gap": null,
       "grid_row": null,
       "grid_template_areas": null,
       "grid_template_columns": null,
       "grid_template_rows": null,
       "height": null,
       "justify_content": null,
       "justify_items": null,
       "left": null,
       "margin": null,
       "max_height": null,
       "max_width": null,
       "min_height": null,
       "min_width": null,
       "object_fit": null,
       "object_position": null,
       "order": null,
       "overflow": null,
       "overflow_x": null,
       "overflow_y": null,
       "padding": null,
       "right": null,
       "top": null,
       "visibility": null,
       "width": null
      }
     }
    },
    "version_major": 2,
    "version_minor": 0
   }
  }
 },
 "nbformat": 4,
 "nbformat_minor": 4
}
